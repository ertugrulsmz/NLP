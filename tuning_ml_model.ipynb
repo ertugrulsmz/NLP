{
 "cells": [
  {
   "cell_type": "markdown",
   "metadata": {
    "colab_type": "text",
    "id": "f_JsVHGVHFuR"
   },
   "source": [
    "## Tuning the Model"
   ]
  },
  {
   "cell_type": "code",
   "execution_count": 68,
   "metadata": {},
   "outputs": [],
   "source": [
    "import numpy as np\n",
    "import pandas as pd\n",
    "import os\n",
    "import sys"
   ]
  },
  {
   "cell_type": "code",
   "execution_count": 69,
   "metadata": {},
   "outputs": [],
   "source": [
    "from sklearn.model_selection import train_test_split\n",
    "from sklearn.svm import LinearSVC\n",
    "from sklearn.metrics import accuracy_score, classification_report, confusion_matrix\n",
    "\n",
    "from sklearn.feature_extraction.text import TfidfVectorizer"
   ]
  },
  {
   "cell_type": "code",
   "execution_count": 70,
   "metadata": {},
   "outputs": [
    {
     "data": {
      "text/html": [
       "<div>\n",
       "<style scoped>\n",
       "    .dataframe tbody tr th:only-of-type {\n",
       "        vertical-align: middle;\n",
       "    }\n",
       "\n",
       "    .dataframe tbody tr th {\n",
       "        vertical-align: top;\n",
       "    }\n",
       "\n",
       "    .dataframe thead th {\n",
       "        text-align: right;\n",
       "    }\n",
       "</style>\n",
       "<table border=\"1\" class=\"dataframe\">\n",
       "  <thead>\n",
       "    <tr style=\"text-align: right;\">\n",
       "      <th></th>\n",
       "      <th>twitts</th>\n",
       "      <th>sentiment</th>\n",
       "    </tr>\n",
       "  </thead>\n",
       "  <tbody>\n",
       "    <tr>\n",
       "      <th>0</th>\n",
       "      <td>robbiebronniman sounds like a great night</td>\n",
       "      <td>1</td>\n",
       "    </tr>\n",
       "    <tr>\n",
       "      <th>1</th>\n",
       "      <td>damn the person who stolde my wallet may karma...</td>\n",
       "      <td>1</td>\n",
       "    </tr>\n",
       "    <tr>\n",
       "      <th>2</th>\n",
       "      <td>greetings from the piano bench photo</td>\n",
       "      <td>1</td>\n",
       "    </tr>\n",
       "    <tr>\n",
       "      <th>3</th>\n",
       "      <td>drewryanscott i love it i love you haha forget...</td>\n",
       "      <td>1</td>\n",
       "    </tr>\n",
       "    <tr>\n",
       "      <th>4</th>\n",
       "      <td>kissthestars pretty pretty pretty please pakid...</td>\n",
       "      <td>0</td>\n",
       "    </tr>\n",
       "    <tr>\n",
       "      <th>...</th>\n",
       "      <td>...</td>\n",
       "      <td>...</td>\n",
       "    </tr>\n",
       "    <tr>\n",
       "      <th>29995</th>\n",
       "      <td>calumfan1 is it in any way related to photoshop</td>\n",
       "      <td>0</td>\n",
       "    </tr>\n",
       "    <tr>\n",
       "      <th>29996</th>\n",
       "      <td>swiz_nz really wow thats crap</td>\n",
       "      <td>0</td>\n",
       "    </tr>\n",
       "    <tr>\n",
       "      <th>29997</th>\n",
       "      <td>at the 2010 lexus hs250h press event again can...</td>\n",
       "      <td>0</td>\n",
       "    </tr>\n",
       "    <tr>\n",
       "      <th>29998</th>\n",
       "      <td>karmicunderpath ooh now there is a nice thought</td>\n",
       "      <td>1</td>\n",
       "    </tr>\n",
       "    <tr>\n",
       "      <th>29999</th>\n",
       "      <td>mariap91 i would usually ask you about the sun...</td>\n",
       "      <td>1</td>\n",
       "    </tr>\n",
       "  </tbody>\n",
       "</table>\n",
       "<p>30000 rows × 2 columns</p>\n",
       "</div>"
      ],
      "text/plain": [
       "                                                  twitts  sentiment\n",
       "0              robbiebronniman sounds like a great night          1\n",
       "1      damn the person who stolde my wallet may karma...          1\n",
       "2                   greetings from the piano bench photo          1\n",
       "3      drewryanscott i love it i love you haha forget...          1\n",
       "4      kissthestars pretty pretty pretty please pakid...          0\n",
       "...                                                  ...        ...\n",
       "29995    calumfan1 is it in any way related to photoshop          0\n",
       "29996                      swiz_nz really wow thats crap          0\n",
       "29997  at the 2010 lexus hs250h press event again can...          0\n",
       "29998    karmicunderpath ooh now there is a nice thought          1\n",
       "29999  mariap91 i would usually ask you about the sun...          1\n",
       "\n",
       "[30000 rows x 2 columns]"
      ]
     },
     "execution_count": 70,
     "metadata": {},
     "output_type": "execute_result"
    }
   ],
   "source": [
    "df = pd.read_csv('https://raw.githubusercontent.com/laxmimerit/twitter-data/master/twitter30k_cleaned.csv')\n",
    "df"
   ]
  },
  {
   "cell_type": "code",
   "execution_count": 71,
   "metadata": {},
   "outputs": [],
   "source": [
    "X = df['twitts']\n",
    "y = df['sentiment']"
   ]
  },
  {
   "cell_type": "code",
   "execution_count": 72,
   "metadata": {},
   "outputs": [],
   "source": [
    "tfidf = TfidfVectorizer()\n",
    "X = tfidf.fit_transform(X)"
   ]
  },
  {
   "cell_type": "code",
   "execution_count": 73,
   "metadata": {},
   "outputs": [
    {
     "data": {
      "text/plain": [
       "<30000x42126 sparse matrix of type '<class 'numpy.float64'>'\n",
       "\twith 350520 stored elements in Compressed Sparse Row format>"
      ]
     },
     "execution_count": 73,
     "metadata": {},
     "output_type": "execute_result"
    }
   ],
   "source": [
    "X"
   ]
  },
  {
   "cell_type": "code",
   "execution_count": 74,
   "metadata": {},
   "outputs": [
    {
     "data": {
      "text/plain": [
       "42126"
      ]
     },
     "execution_count": 74,
     "metadata": {},
     "output_type": "execute_result"
    }
   ],
   "source": [
    "len(tfidf.vocabulary_)"
   ]
  },
  {
   "cell_type": "code",
   "execution_count": 75,
   "metadata": {},
   "outputs": [
    {
     "data": {
      "text/plain": [
       "((30000, 42126), (30000,))"
      ]
     },
     "execution_count": 75,
     "metadata": {},
     "output_type": "execute_result"
    }
   ],
   "source": [
    "X.shape, y.shape"
   ]
  },
  {
   "cell_type": "code",
   "execution_count": 76,
   "metadata": {
    "scrolled": true
   },
   "outputs": [
    {
     "data": {
      "text/plain": [
       "(scipy.sparse.csr.csr_matrix, pandas.core.series.Series)"
      ]
     },
     "execution_count": 76,
     "metadata": {},
     "output_type": "execute_result"
    }
   ],
   "source": [
    "type(X), type(y)"
   ]
  },
  {
   "cell_type": "markdown",
   "metadata": {},
   "source": [
    "##  Non-Negative Matrix Factorization (NMF)"
   ]
  },
  {
   "cell_type": "code",
   "execution_count": 77,
   "metadata": {},
   "outputs": [],
   "source": [
    "from sklearn.decomposition import NMF"
   ]
  },
  {
   "cell_type": "code",
   "execution_count": 78,
   "metadata": {},
   "outputs": [],
   "source": [
    "X_train, X_test, y_train, y_test = train_test_split(X, y, test_size = 0.2, random_state = 0, stratify = y)"
   ]
  },
  {
   "cell_type": "code",
   "execution_count": 79,
   "metadata": {},
   "outputs": [
    {
     "name": "stdout",
     "output_type": "stream",
     "text": [
      "Wall time: 28.7 s\n"
     ]
    }
   ],
   "source": [
    "%%time\n",
    "nmf = NMF(n_components=50, random_state=0)\n",
    "X_train_nmf = nmf.fit_transform(X_train)"
   ]
  },
  {
   "cell_type": "code",
   "execution_count": 80,
   "metadata": {},
   "outputs": [
    {
     "data": {
      "text/plain": [
       "((24000, 42126), (24000, 50))"
      ]
     },
     "execution_count": 80,
     "metadata": {},
     "output_type": "execute_result"
    }
   ],
   "source": [
    "X_train.shape, X_train_nmf.shape"
   ]
  },
  {
   "cell_type": "code",
   "execution_count": 81,
   "metadata": {},
   "outputs": [],
   "source": [
    "def run_svm(clf, X_train, X_test, y_train, y_test):\n",
    "    clf.fit(X_train, y_train)\n",
    "    y_pred = clf.predict(X_test)\n",
    "\n",
    "    print()\n",
    "    print('Printing Report')\n",
    "    print(classification_report(y_test, y_pred))"
   ]
  },
  {
   "cell_type": "code",
   "execution_count": 82,
   "metadata": {},
   "outputs": [],
   "source": [
    "X_test_nmf = nmf.transform(X_test)"
   ]
  },
  {
   "cell_type": "markdown",
   "metadata": {},
   "source": [
    "# Gave Random C value to see the impact of tuning"
   ]
  },
  {
   "cell_type": "code",
   "execution_count": 83,
   "metadata": {},
   "outputs": [
    {
     "name": "stdout",
     "output_type": "stream",
     "text": [
      "\n",
      "Printing Report\n",
      "              precision    recall  f1-score   support\n",
      "\n",
      "           0       0.57      0.87      0.69      3000\n",
      "           1       0.72      0.34      0.46      3000\n",
      "\n",
      "    accuracy                           0.60      6000\n",
      "   macro avg       0.64      0.60      0.57      6000\n",
      "weighted avg       0.64      0.60      0.57      6000\n",
      "\n",
      "Wall time: 43.2 ms\n"
     ]
    }
   ],
   "source": [
    "%%time\n",
    "clf = LinearSVC(C = 0.000000004)\n",
    "run_svm(clf, X_train_nmf, X_test_nmf, y_train, y_test)"
   ]
  },
  {
   "cell_type": "code",
   "execution_count": null,
   "metadata": {},
   "outputs": [],
   "source": []
  },
  {
   "cell_type": "markdown",
   "metadata": {
    "colab_type": "text",
    "id": "k6tUdGr9lhjz"
   },
   "source": [
    "## Hyperparameters Tuning"
   ]
  },
  {
   "cell_type": "markdown",
   "metadata": {
    "colab_type": "text",
    "id": "XxHGARkqoDs0"
   },
   "source": [
    "## Hyperparameter Tuning Methods\n",
    "\n",
    "- Grid Search\n",
    "- Random Search"
   ]
  },
  {
   "cell_type": "markdown",
   "metadata": {},
   "source": [
    "# Grid Search in Keras : https://machinelearningmastery.com/grid-search-hyperparameters-deep-learning-models-python-keras/"
   ]
  },
  {
   "cell_type": "markdown",
   "metadata": {
    "colab_type": "text",
    "id": "awJlThtZSgpW"
   },
   "source": [
    "The following procedure is followed for each of the k “folds”:\n",
    "\n",
    "- A test set is held out for final evaluation\n",
    "- In the basic approach the training set is split into k smaller sets. \n",
    "- A model is trained using  of the folds as training data;\n",
    "- the resulting model is validated on the remaining part of the data.\n",
    "- The performance measure reported by k-fold cross-validation is then the average of the values computed in the loop\n",
    "- The simplest way to use cross-validation is to call the cross_val_score helper function on the estimator and the dataset."
   ]
  },
  {
   "cell_type": "markdown",
   "metadata": {},
   "source": [
    "## GridSearch for Logistic Regression Hyperparameters Tuning "
   ]
  },
  {
   "cell_type": "code",
   "execution_count": 84,
   "metadata": {
    "colab": {},
    "colab_type": "code",
    "id": "iZww7eDf5A6x"
   },
   "outputs": [],
   "source": [
    "from sklearn.linear_model import LogisticRegression\n",
    "from sklearn.model_selection import GridSearchCV"
   ]
  },
  {
   "cell_type": "code",
   "execution_count": 85,
   "metadata": {},
   "outputs": [],
   "source": [
    "train = X_train_nmf.copy()\n",
    "test = X_test_nmf.copy()"
   ]
  },
  {
   "cell_type": "code",
   "execution_count": 86,
   "metadata": {},
   "outputs": [],
   "source": [
    "model = LogisticRegression(solver = 'liblinear')"
   ]
  },
  {
   "cell_type": "code",
   "execution_count": 87,
   "metadata": {},
   "outputs": [],
   "source": [
    "penalty = ['l1', 'l2']\n",
    "C = np.logspace(0, 4, 10)\n",
    "max_iter = [100, 500]"
   ]
  },
  {
   "cell_type": "code",
   "execution_count": 88,
   "metadata": {},
   "outputs": [],
   "source": [
    "hyperparameters = dict(penalty=penalty, C = C, max_iter = max_iter)"
   ]
  },
  {
   "cell_type": "code",
   "execution_count": 89,
   "metadata": {},
   "outputs": [],
   "source": [
    "clf = GridSearchCV(model, hyperparameters, cv = 5, n_jobs=-1)"
   ]
  },
  {
   "cell_type": "code",
   "execution_count": 53,
   "metadata": {},
   "outputs": [],
   "source": [
    "tunedModel = clf.fit(train, y_train)"
   ]
  },
  {
   "cell_type": "code",
   "execution_count": 54,
   "metadata": {},
   "outputs": [
    {
     "data": {
      "text/plain": [
       "LogisticRegression(C=2.7825594022071245, penalty='l1', solver='liblinear')"
      ]
     },
     "execution_count": 54,
     "metadata": {},
     "output_type": "execute_result"
    }
   ],
   "source": [
    "tunedModel.best_estimator_"
   ]
  },
  {
   "cell_type": "code",
   "execution_count": 58,
   "metadata": {},
   "outputs": [
    {
     "data": {
      "text/plain": [
       "LogisticRegression(C=2.7825594022071245, penalty='l1', solver='liblinear')"
      ]
     },
     "execution_count": 58,
     "metadata": {},
     "output_type": "execute_result"
    }
   ],
   "source": [
    "bestClassifier = tunedModel.best_estimator_\n",
    "bestClassifier"
   ]
  },
  {
   "cell_type": "code",
   "execution_count": 59,
   "metadata": {},
   "outputs": [
    {
     "data": {
      "text/plain": [
       "{'C': 2.7825594022071245, 'max_iter': 100, 'penalty': 'l1'}"
      ]
     },
     "execution_count": 59,
     "metadata": {},
     "output_type": "execute_result"
    }
   ],
   "source": [
    "tunedModel.best_params_"
   ]
  },
  {
   "cell_type": "code",
   "execution_count": 60,
   "metadata": {},
   "outputs": [
    {
     "data": {
      "text/plain": [
       "<bound method BaseEstimator.get_params of LogisticRegression(C=2.7825594022071245, penalty='l1', solver='liblinear')>"
      ]
     },
     "execution_count": 60,
     "metadata": {},
     "output_type": "execute_result"
    }
   ],
   "source": [
    "bestClassifier.get_params"
   ]
  },
  {
   "cell_type": "code",
   "execution_count": 56,
   "metadata": {},
   "outputs": [
    {
     "data": {
      "text/plain": [
       "0.6538333333333333"
      ]
     },
     "execution_count": 56,
     "metadata": {},
     "output_type": "execute_result"
    }
   ],
   "source": [
    "tunedModel.best_score_"
   ]
  },
  {
   "cell_type": "code",
   "execution_count": 61,
   "metadata": {},
   "outputs": [],
   "source": [
    "y_pred = bestClassifier.predict(test)"
   ]
  },
  {
   "cell_type": "code",
   "execution_count": 62,
   "metadata": {},
   "outputs": [
    {
     "name": "stdout",
     "output_type": "stream",
     "text": [
      "              precision    recall  f1-score   support\n",
      "\n",
      "           0       0.66      0.62      0.64      3000\n",
      "           1       0.64      0.68      0.66      3000\n",
      "\n",
      "    accuracy                           0.65      6000\n",
      "   macro avg       0.65      0.65      0.65      6000\n",
      "weighted avg       0.65      0.65      0.65      6000\n",
      "\n"
     ]
    }
   ],
   "source": [
    "print(classification_report(y_test, y_pred))"
   ]
  },
  {
   "cell_type": "code",
   "execution_count": 91,
   "metadata": {},
   "outputs": [
    {
     "name": "stdout",
     "output_type": "stream",
     "text": [
      "              precision    recall  f1-score   support\n",
      "\n",
      "           0       0.66      0.62      0.64      3000\n",
      "           1       0.64      0.68      0.66      3000\n",
      "\n",
      "    accuracy                           0.65      6000\n",
      "   macro avg       0.65      0.65      0.65      6000\n",
      "weighted avg       0.65      0.65      0.65      6000\n",
      "\n"
     ]
    }
   ],
   "source": [
    "y_pred = tunedModel.predict(test)\n",
    "print(classification_report(y_test, y_pred))"
   ]
  },
  {
   "cell_type": "markdown",
   "metadata": {},
   "source": [
    "## GridSearch for SVM Hyperparameters Tuning "
   ]
  },
  {
   "cell_type": "markdown",
   "metadata": {
    "colab_type": "text",
    "id": "f8xQD6aBaBIR"
   },
   "source": [
    "SVM have following hyperparamters\n",
    "- C\n",
    "- gamma\n",
    "- kernel\n",
    "- degree"
   ]
  },
  {
   "cell_type": "code",
   "execution_count": 53,
   "metadata": {
    "colab": {},
    "colab_type": "code",
    "id": "hy_ENhFtSYY7"
   },
   "outputs": [],
   "source": [
    "from sklearn.svm import SVC\n",
    "\n",
    "import warnings\n",
    "warnings.filterwarnings(\"ignore\")\n",
    "\n",
    "\n",
    "from sklearn import datasets\n",
    "from sklearn.model_selection import GridSearchCV\n",
    "\n",
    "from sklearn.model_selection import train_test_split\n",
    "from sklearn.svm import LinearSVC\n",
    "from sklearn.metrics import accuracy_score, classification_report, confusion_matrix\n",
    "\n",
    "from sklearn.feature_extraction.text import TfidfVectorizer"
   ]
  },
  {
   "cell_type": "code",
   "execution_count": 54,
   "metadata": {},
   "outputs": [],
   "source": [
    "iris = datasets.load_iris()\n",
    "X = iris.data\n",
    "y = iris.target"
   ]
  },
  {
   "cell_type": "code",
   "execution_count": 55,
   "metadata": {},
   "outputs": [],
   "source": [
    "X_train, X_test, y_train, y_test = train_test_split(X, y, test_size = 0.2, random_state = 0, stratify = y)"
   ]
  },
  {
   "cell_type": "code",
   "execution_count": 56,
   "metadata": {
    "colab": {},
    "colab_type": "code",
    "id": "Jbh_I_nESYRw"
   },
   "outputs": [],
   "source": [
    "# Set the parameters by cross-validation\n",
    "hyperparameters = [\n",
    "    {'kernel': ['rbf'],\n",
    "     'gamma': [1e-1, 1e-2],\n",
    "     'C': [1, 10],\n",
    "     'degree': [2, 3]},\n",
    "                   \n",
    "    {'kernel': ['linear'],\n",
    "     'C': [1, 10]}]"
   ]
  },
  {
   "cell_type": "code",
   "execution_count": 57,
   "metadata": {},
   "outputs": [],
   "source": [
    "scores = ['precision', 'recall']\n",
    "\n",
    "def run_tuning(model, hyperparameters, scores):\n",
    "    for score in scores:\n",
    "        print(\"Tuning hyperparamters for %s\" % score)\n",
    "        print()\n",
    "        \n",
    "        clf = GridSearchCV(model, hyperparameters, scoring='%s_macro' % score, cv = 5, n_jobs = -1)\n",
    "        clf.fit(X_train, y_train)\n",
    "        \n",
    "        print('Best parameters set found: ')\n",
    "        print()\n",
    "        print(clf.best_params_)\n",
    "        print()\n",
    "        \n",
    "        print('Grid scores in process: ')\n",
    "        print()\n",
    "        means = clf.cv_results_['mean_test_score']\n",
    "        \n",
    "        for mean, params in zip(means, clf.cv_results_['params']):\n",
    "            print('%0.3f for %r' % (mean, params))\n",
    "            \n",
    "        print()\n",
    "        print()\n",
    "        \n",
    "        print('Detailed Classification Report')\n",
    "        y_pred = clf.predict(X_test)\n",
    "        print(classification_report(y_test, y_pred))\n",
    "        print()\n",
    "        \n",
    "        "
   ]
  },
  {
   "cell_type": "code",
   "execution_count": 58,
   "metadata": {},
   "outputs": [
    {
     "name": "stdout",
     "output_type": "stream",
     "text": [
      "Tuning hyperparamters for precision\n",
      "\n",
      "Best parameters set found: \n",
      "\n",
      "{'C': 1, 'kernel': 'linear'}\n",
      "\n",
      "Grid scores in process: \n",
      "\n",
      "0.946 for {'C': 1, 'degree': 2, 'gamma': 0.1, 'kernel': 'rbf'}\n",
      "0.910 for {'C': 1, 'degree': 2, 'gamma': 0.01, 'kernel': 'rbf'}\n",
      "0.946 for {'C': 1, 'degree': 3, 'gamma': 0.1, 'kernel': 'rbf'}\n",
      "0.910 for {'C': 1, 'degree': 3, 'gamma': 0.01, 'kernel': 'rbf'}\n",
      "0.968 for {'C': 10, 'degree': 2, 'gamma': 0.1, 'kernel': 'rbf'}\n",
      "0.955 for {'C': 10, 'degree': 2, 'gamma': 0.01, 'kernel': 'rbf'}\n",
      "0.968 for {'C': 10, 'degree': 3, 'gamma': 0.1, 'kernel': 'rbf'}\n",
      "0.955 for {'C': 10, 'degree': 3, 'gamma': 0.01, 'kernel': 'rbf'}\n",
      "0.978 for {'C': 1, 'kernel': 'linear'}\n",
      "0.951 for {'C': 10, 'kernel': 'linear'}\n",
      "\n",
      "\n",
      "Detailed Classification Report\n",
      "              precision    recall  f1-score   support\n",
      "\n",
      "           0       1.00      1.00      1.00        10\n",
      "           1       1.00      1.00      1.00        10\n",
      "           2       1.00      1.00      1.00        10\n",
      "\n",
      "    accuracy                           1.00        30\n",
      "   macro avg       1.00      1.00      1.00        30\n",
      "weighted avg       1.00      1.00      1.00        30\n",
      "\n",
      "\n",
      "Tuning hyperparamters for recall\n",
      "\n",
      "Best parameters set found: \n",
      "\n",
      "{'C': 1, 'kernel': 'linear'}\n",
      "\n",
      "Grid scores in process: \n",
      "\n",
      "0.942 for {'C': 1, 'degree': 2, 'gamma': 0.1, 'kernel': 'rbf'}\n",
      "0.900 for {'C': 1, 'degree': 2, 'gamma': 0.01, 'kernel': 'rbf'}\n",
      "0.942 for {'C': 1, 'degree': 3, 'gamma': 0.1, 'kernel': 'rbf'}\n",
      "0.900 for {'C': 1, 'degree': 3, 'gamma': 0.01, 'kernel': 'rbf'}\n",
      "0.967 for {'C': 10, 'degree': 2, 'gamma': 0.1, 'kernel': 'rbf'}\n",
      "0.950 for {'C': 10, 'degree': 2, 'gamma': 0.01, 'kernel': 'rbf'}\n",
      "0.967 for {'C': 10, 'degree': 3, 'gamma': 0.1, 'kernel': 'rbf'}\n",
      "0.950 for {'C': 10, 'degree': 3, 'gamma': 0.01, 'kernel': 'rbf'}\n",
      "0.975 for {'C': 1, 'kernel': 'linear'}\n",
      "0.950 for {'C': 10, 'kernel': 'linear'}\n",
      "\n",
      "\n",
      "Detailed Classification Report\n",
      "              precision    recall  f1-score   support\n",
      "\n",
      "           0       1.00      1.00      1.00        10\n",
      "           1       1.00      1.00      1.00        10\n",
      "           2       1.00      1.00      1.00        10\n",
      "\n",
      "    accuracy                           1.00        30\n",
      "   macro avg       1.00      1.00      1.00        30\n",
      "weighted avg       1.00      1.00      1.00        30\n",
      "\n",
      "\n"
     ]
    }
   ],
   "source": [
    "run_tuning(SVC(), hyperparameters, scores)"
   ]
  },
  {
   "cell_type": "markdown",
   "metadata": {
    "colab_type": "text",
    "id": "eebiv1GjoDZL"
   },
   "source": [
    "## Grid Search for Random Forest"
   ]
  },
  {
   "cell_type": "markdown",
   "metadata": {
    "colab_type": "text",
    "id": "aJ_68ZH1oDWy"
   },
   "source": [
    "Hyperparameter tuning relies more on experimental results than theory, and thus the best method to determine the optimal settings is to try many different combinations evaluate the performance of each model."
   ]
  },
  {
   "cell_type": "markdown",
   "metadata": {
    "colab_type": "text",
    "id": "E44fin4hiLzC"
   },
   "source": [
    "![image.png](data:image/png;base64,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)\n"
   ]
  },
  {
   "cell_type": "markdown",
   "metadata": {
    "colab_type": "text",
    "id": "Uj1w4zsYiVGv"
   },
   "source": [
    "Source: Wikipedia"
   ]
  },
  {
   "cell_type": "markdown",
   "metadata": {
    "colab_type": "text",
    "id": "4e68-4l8HLAu"
   },
   "source": [
    "For a Random Forest Classifier, there are several different hyperparameters that can be adjusted. We will be adjusting there params.\n",
    "\n",
    "- **n_estimators:** The n_estimators parameter specifies the number of trees in the forest of the model. The default value for this parameter is 10, which means that 10 different decision trees will be constructed in the random forest.\n",
    "- **max_depth:** The max_depth parameter specifies the maximum depth of each tree. The default value for max_depth is None, which means that each tree will expand until every leaf is pure. A pure leaf is one where all of the data on the leaf comes from the same class.\n",
    "- **min_samples_split:** The min_samples_split parameter specifies the minimum number of samples required to split an internal leaf node. The default value for this parameter is 2, which means that an internal node must have at least two samples before it can be split to have a more specific classification.\n",
    "- **min_samples_leaf:** The min_samples_leaf parameter specifies the minimum number of samples required to be at a leaf node. The default value for this parameter is 1, which means that every leaf must have at least 1 sample that it classifies.\n",
    "- **max_features** This parameter will decide how many features will be used in classification"
   ]
  },
  {
   "cell_type": "code",
   "execution_count": 59,
   "metadata": {
    "colab": {},
    "colab_type": "code",
    "id": "eS-ke6P_htEI"
   },
   "outputs": [],
   "source": [
    "from sklearn.ensemble import RandomForestClassifier\n",
    "from sklearn.model_selection import GridSearchCV"
   ]
  },
  {
   "cell_type": "code",
   "execution_count": 66,
   "metadata": {
    "colab": {},
    "colab_type": "code",
    "id": "tzHG49Axhs_5"
   },
   "outputs": [],
   "source": [
    "scores = ['precision', 'recall']\n",
    "\n",
    "hyperparameters = {\n",
    "    'bootstrap': [True],\n",
    "    'max_depth': [10, 100],\n",
    "    'max_features': [2, 3, X.shape[1]],\n",
    "    'min_samples_leaf': [2, 5],\n",
    "    'n_estimators': [10, 100, 200]\n",
    "}"
   ]
  },
  {
   "cell_type": "code",
   "execution_count": null,
   "metadata": {},
   "outputs": [],
   "source": []
  },
  {
   "cell_type": "code",
   "execution_count": 67,
   "metadata": {},
   "outputs": [
    {
     "data": {
      "text/plain": [
       "((120, 4), (120,))"
      ]
     },
     "execution_count": 67,
     "metadata": {},
     "output_type": "execute_result"
    }
   ],
   "source": [
    "X_train.shape, y_train.shape"
   ]
  },
  {
   "cell_type": "code",
   "execution_count": 68,
   "metadata": {},
   "outputs": [
    {
     "name": "stdout",
     "output_type": "stream",
     "text": [
      "Tuning hyperparamters for precision\n",
      "\n",
      "Best parameters set found: \n",
      "\n",
      "{'bootstrap': True, 'max_depth': 10, 'max_features': 2, 'min_samples_leaf': 5, 'n_estimators': 10}\n",
      "\n",
      "Grid scores in process: \n",
      "\n",
      "0.944 for {'bootstrap': True, 'max_depth': 10, 'max_features': 2, 'min_samples_leaf': 2, 'n_estimators': 10}\n",
      "0.951 for {'bootstrap': True, 'max_depth': 10, 'max_features': 2, 'min_samples_leaf': 2, 'n_estimators': 100}\n",
      "0.951 for {'bootstrap': True, 'max_depth': 10, 'max_features': 2, 'min_samples_leaf': 2, 'n_estimators': 200}\n",
      "0.959 for {'bootstrap': True, 'max_depth': 10, 'max_features': 2, 'min_samples_leaf': 5, 'n_estimators': 10}\n",
      "0.942 for {'bootstrap': True, 'max_depth': 10, 'max_features': 2, 'min_samples_leaf': 5, 'n_estimators': 100}\n",
      "0.951 for {'bootstrap': True, 'max_depth': 10, 'max_features': 2, 'min_samples_leaf': 5, 'n_estimators': 200}\n",
      "0.942 for {'bootstrap': True, 'max_depth': 10, 'max_features': 3, 'min_samples_leaf': 2, 'n_estimators': 10}\n",
      "0.951 for {'bootstrap': True, 'max_depth': 10, 'max_features': 3, 'min_samples_leaf': 2, 'n_estimators': 100}\n",
      "0.951 for {'bootstrap': True, 'max_depth': 10, 'max_features': 3, 'min_samples_leaf': 2, 'n_estimators': 200}\n",
      "0.942 for {'bootstrap': True, 'max_depth': 10, 'max_features': 3, 'min_samples_leaf': 5, 'n_estimators': 10}\n",
      "0.951 for {'bootstrap': True, 'max_depth': 10, 'max_features': 3, 'min_samples_leaf': 5, 'n_estimators': 100}\n",
      "0.951 for {'bootstrap': True, 'max_depth': 10, 'max_features': 3, 'min_samples_leaf': 5, 'n_estimators': 200}\n",
      "0.951 for {'bootstrap': True, 'max_depth': 10, 'max_features': 4, 'min_samples_leaf': 2, 'n_estimators': 10}\n",
      "0.951 for {'bootstrap': True, 'max_depth': 10, 'max_features': 4, 'min_samples_leaf': 2, 'n_estimators': 100}\n",
      "0.951 for {'bootstrap': True, 'max_depth': 10, 'max_features': 4, 'min_samples_leaf': 2, 'n_estimators': 200}\n",
      "0.934 for {'bootstrap': True, 'max_depth': 10, 'max_features': 4, 'min_samples_leaf': 5, 'n_estimators': 10}\n",
      "0.951 for {'bootstrap': True, 'max_depth': 10, 'max_features': 4, 'min_samples_leaf': 5, 'n_estimators': 100}\n",
      "0.942 for {'bootstrap': True, 'max_depth': 10, 'max_features': 4, 'min_samples_leaf': 5, 'n_estimators': 200}\n",
      "0.951 for {'bootstrap': True, 'max_depth': 100, 'max_features': 2, 'min_samples_leaf': 2, 'n_estimators': 10}\n",
      "0.951 for {'bootstrap': True, 'max_depth': 100, 'max_features': 2, 'min_samples_leaf': 2, 'n_estimators': 100}\n",
      "0.951 for {'bootstrap': True, 'max_depth': 100, 'max_features': 2, 'min_samples_leaf': 2, 'n_estimators': 200}\n",
      "0.921 for {'bootstrap': True, 'max_depth': 100, 'max_features': 2, 'min_samples_leaf': 5, 'n_estimators': 10}\n",
      "0.951 for {'bootstrap': True, 'max_depth': 100, 'max_features': 2, 'min_samples_leaf': 5, 'n_estimators': 100}\n",
      "0.951 for {'bootstrap': True, 'max_depth': 100, 'max_features': 2, 'min_samples_leaf': 5, 'n_estimators': 200}\n",
      "0.959 for {'bootstrap': True, 'max_depth': 100, 'max_features': 3, 'min_samples_leaf': 2, 'n_estimators': 10}\n",
      "0.951 for {'bootstrap': True, 'max_depth': 100, 'max_features': 3, 'min_samples_leaf': 2, 'n_estimators': 100}\n",
      "0.951 for {'bootstrap': True, 'max_depth': 100, 'max_features': 3, 'min_samples_leaf': 2, 'n_estimators': 200}\n",
      "0.944 for {'bootstrap': True, 'max_depth': 100, 'max_features': 3, 'min_samples_leaf': 5, 'n_estimators': 10}\n",
      "0.951 for {'bootstrap': True, 'max_depth': 100, 'max_features': 3, 'min_samples_leaf': 5, 'n_estimators': 100}\n",
      "0.951 for {'bootstrap': True, 'max_depth': 100, 'max_features': 3, 'min_samples_leaf': 5, 'n_estimators': 200}\n",
      "0.951 for {'bootstrap': True, 'max_depth': 100, 'max_features': 4, 'min_samples_leaf': 2, 'n_estimators': 10}\n",
      "0.951 for {'bootstrap': True, 'max_depth': 100, 'max_features': 4, 'min_samples_leaf': 2, 'n_estimators': 100}\n",
      "0.951 for {'bootstrap': True, 'max_depth': 100, 'max_features': 4, 'min_samples_leaf': 2, 'n_estimators': 200}\n",
      "0.951 for {'bootstrap': True, 'max_depth': 100, 'max_features': 4, 'min_samples_leaf': 5, 'n_estimators': 10}\n",
      "0.942 for {'bootstrap': True, 'max_depth': 100, 'max_features': 4, 'min_samples_leaf': 5, 'n_estimators': 100}\n",
      "0.951 for {'bootstrap': True, 'max_depth': 100, 'max_features': 4, 'min_samples_leaf': 5, 'n_estimators': 200}\n",
      "\n",
      "\n",
      "Detailed Classification Report\n",
      "              precision    recall  f1-score   support\n",
      "\n",
      "           0       1.00      1.00      1.00        10\n",
      "           1       0.83      1.00      0.91        10\n",
      "           2       1.00      0.80      0.89        10\n",
      "\n",
      "    accuracy                           0.93        30\n",
      "   macro avg       0.94      0.93      0.93        30\n",
      "weighted avg       0.94      0.93      0.93        30\n",
      "\n",
      "\n",
      "Tuning hyperparamters for recall\n",
      "\n",
      "Best parameters set found: \n",
      "\n",
      "{'bootstrap': True, 'max_depth': 10, 'max_features': 3, 'min_samples_leaf': 5, 'n_estimators': 10}\n",
      "\n",
      "Grid scores in process: \n",
      "\n",
      "0.950 for {'bootstrap': True, 'max_depth': 10, 'max_features': 2, 'min_samples_leaf': 2, 'n_estimators': 10}\n",
      "0.950 for {'bootstrap': True, 'max_depth': 10, 'max_features': 2, 'min_samples_leaf': 2, 'n_estimators': 100}\n",
      "0.950 for {'bootstrap': True, 'max_depth': 10, 'max_features': 2, 'min_samples_leaf': 2, 'n_estimators': 200}\n",
      "0.950 for {'bootstrap': True, 'max_depth': 10, 'max_features': 2, 'min_samples_leaf': 5, 'n_estimators': 10}\n",
      "0.950 for {'bootstrap': True, 'max_depth': 10, 'max_features': 2, 'min_samples_leaf': 5, 'n_estimators': 100}\n",
      "0.950 for {'bootstrap': True, 'max_depth': 10, 'max_features': 2, 'min_samples_leaf': 5, 'n_estimators': 200}\n",
      "0.933 for {'bootstrap': True, 'max_depth': 10, 'max_features': 3, 'min_samples_leaf': 2, 'n_estimators': 10}\n",
      "0.950 for {'bootstrap': True, 'max_depth': 10, 'max_features': 3, 'min_samples_leaf': 2, 'n_estimators': 100}\n",
      "0.950 for {'bootstrap': True, 'max_depth': 10, 'max_features': 3, 'min_samples_leaf': 2, 'n_estimators': 200}\n",
      "0.958 for {'bootstrap': True, 'max_depth': 10, 'max_features': 3, 'min_samples_leaf': 5, 'n_estimators': 10}\n",
      "0.950 for {'bootstrap': True, 'max_depth': 10, 'max_features': 3, 'min_samples_leaf': 5, 'n_estimators': 100}\n",
      "0.950 for {'bootstrap': True, 'max_depth': 10, 'max_features': 3, 'min_samples_leaf': 5, 'n_estimators': 200}\n",
      "0.942 for {'bootstrap': True, 'max_depth': 10, 'max_features': 4, 'min_samples_leaf': 2, 'n_estimators': 10}\n",
      "0.950 for {'bootstrap': True, 'max_depth': 10, 'max_features': 4, 'min_samples_leaf': 2, 'n_estimators': 100}\n",
      "0.950 for {'bootstrap': True, 'max_depth': 10, 'max_features': 4, 'min_samples_leaf': 2, 'n_estimators': 200}\n",
      "0.942 for {'bootstrap': True, 'max_depth': 10, 'max_features': 4, 'min_samples_leaf': 5, 'n_estimators': 10}\n",
      "0.950 for {'bootstrap': True, 'max_depth': 10, 'max_features': 4, 'min_samples_leaf': 5, 'n_estimators': 100}\n",
      "0.950 for {'bootstrap': True, 'max_depth': 10, 'max_features': 4, 'min_samples_leaf': 5, 'n_estimators': 200}\n",
      "0.942 for {'bootstrap': True, 'max_depth': 100, 'max_features': 2, 'min_samples_leaf': 2, 'n_estimators': 10}\n",
      "0.950 for {'bootstrap': True, 'max_depth': 100, 'max_features': 2, 'min_samples_leaf': 2, 'n_estimators': 100}\n",
      "0.950 for {'bootstrap': True, 'max_depth': 100, 'max_features': 2, 'min_samples_leaf': 2, 'n_estimators': 200}\n",
      "0.950 for {'bootstrap': True, 'max_depth': 100, 'max_features': 2, 'min_samples_leaf': 5, 'n_estimators': 10}\n",
      "0.950 for {'bootstrap': True, 'max_depth': 100, 'max_features': 2, 'min_samples_leaf': 5, 'n_estimators': 100}\n",
      "0.950 for {'bootstrap': True, 'max_depth': 100, 'max_features': 2, 'min_samples_leaf': 5, 'n_estimators': 200}\n",
      "0.950 for {'bootstrap': True, 'max_depth': 100, 'max_features': 3, 'min_samples_leaf': 2, 'n_estimators': 10}\n",
      "0.950 for {'bootstrap': True, 'max_depth': 100, 'max_features': 3, 'min_samples_leaf': 2, 'n_estimators': 100}\n",
      "0.950 for {'bootstrap': True, 'max_depth': 100, 'max_features': 3, 'min_samples_leaf': 2, 'n_estimators': 200}\n",
      "0.958 for {'bootstrap': True, 'max_depth': 100, 'max_features': 3, 'min_samples_leaf': 5, 'n_estimators': 10}\n",
      "0.942 for {'bootstrap': True, 'max_depth': 100, 'max_features': 3, 'min_samples_leaf': 5, 'n_estimators': 100}\n",
      "0.950 for {'bootstrap': True, 'max_depth': 100, 'max_features': 3, 'min_samples_leaf': 5, 'n_estimators': 200}\n",
      "0.942 for {'bootstrap': True, 'max_depth': 100, 'max_features': 4, 'min_samples_leaf': 2, 'n_estimators': 10}\n",
      "0.950 for {'bootstrap': True, 'max_depth': 100, 'max_features': 4, 'min_samples_leaf': 2, 'n_estimators': 100}\n",
      "0.950 for {'bootstrap': True, 'max_depth': 100, 'max_features': 4, 'min_samples_leaf': 2, 'n_estimators': 200}\n",
      "0.958 for {'bootstrap': True, 'max_depth': 100, 'max_features': 4, 'min_samples_leaf': 5, 'n_estimators': 10}\n",
      "0.942 for {'bootstrap': True, 'max_depth': 100, 'max_features': 4, 'min_samples_leaf': 5, 'n_estimators': 100}\n",
      "0.950 for {'bootstrap': True, 'max_depth': 100, 'max_features': 4, 'min_samples_leaf': 5, 'n_estimators': 200}\n",
      "\n",
      "\n",
      "Detailed Classification Report\n",
      "              precision    recall  f1-score   support\n",
      "\n",
      "           0       1.00      1.00      1.00        10\n",
      "           1       0.83      1.00      0.91        10\n",
      "           2       1.00      0.80      0.89        10\n",
      "\n",
      "    accuracy                           0.93        30\n",
      "   macro avg       0.94      0.93      0.93        30\n",
      "weighted avg       0.94      0.93      0.93        30\n",
      "\n",
      "\n"
     ]
    }
   ],
   "source": [
    "rfc = RandomForestClassifier(n_jobs=-1)\n",
    "run_tuning(rfc, hyperparameters, scores)"
   ]
  },
  {
   "cell_type": "code",
   "execution_count": null,
   "metadata": {},
   "outputs": [],
   "source": []
  },
  {
   "cell_type": "markdown",
   "metadata": {
    "colab_type": "text",
    "id": "sYb7aQnuoDUs"
   },
   "source": [
    "## Random Search for Best Parameter Selection\n",
    "\n",
    "With RandomizedSearchCV, if we specify a distribution, scikit-learn will randomly sample without replacement hyperparameter values from that distribution."
   ]
  },
  {
   "cell_type": "code",
   "execution_count": 70,
   "metadata": {
    "colab": {},
    "colab_type": "code",
    "id": "Cq4XnykHyPts"
   },
   "outputs": [],
   "source": [
    "# from sklearn.utils.fixes import loguniform\n",
    "from scipy.stats import uniform, loguniform\n",
    "from sklearn.model_selection import RandomizedSearchCV\n"
   ]
  },
  {
   "cell_type": "code",
   "execution_count": 74,
   "metadata": {
    "colab": {},
    "colab_type": "code",
    "id": "Rcif_sWb8qJT"
   },
   "outputs": [],
   "source": [
    "C = uniform(loc=0, scale=4)\n",
    "gamma = loguniform(1e-5, 1e-1)\n",
    " \n",
    "hyperparameters = dict(C=C, gamma=gamma)"
   ]
  },
  {
   "cell_type": "code",
   "execution_count": 75,
   "metadata": {},
   "outputs": [
    {
     "data": {
      "text/plain": [
       "{'C': <scipy.stats._distn_infrastructure.rv_frozen at 0x1c216bc5b88>,\n",
       " 'gamma': <scipy.stats._distn_infrastructure.rv_frozen at 0x1c215ccff48>}"
      ]
     },
     "execution_count": 75,
     "metadata": {},
     "output_type": "execute_result"
    }
   ],
   "source": [
    "hyperparameters"
   ]
  },
  {
   "cell_type": "code",
   "execution_count": 76,
   "metadata": {},
   "outputs": [],
   "source": [
    "clf = RandomizedSearchCV(SVC(), hyperparameters, cv = 5, n_jobs=-1)"
   ]
  },
  {
   "cell_type": "code",
   "execution_count": 77,
   "metadata": {},
   "outputs": [
    {
     "data": {
      "text/plain": [
       "RandomizedSearchCV(cv=5, error_score='raise-deprecating',\n",
       "                   estimator=SVC(C=1.0, cache_size=200, class_weight=None,\n",
       "                                 coef0=0.0, decision_function_shape='ovr',\n",
       "                                 degree=3, gamma='auto_deprecated',\n",
       "                                 kernel='rbf', max_iter=-1, probability=False,\n",
       "                                 random_state=None, shrinking=True, tol=0.001,\n",
       "                                 verbose=False),\n",
       "                   iid='warn', n_iter=10, n_jobs=-1,\n",
       "                   param_distributions={'C': <scipy.stats._distn_infrastructure.rv_frozen object at 0x000001C216BC5B88>,\n",
       "                                        'gamma': <scipy.stats._distn_infrastructure.rv_frozen object at 0x000001C215CCFF48>},\n",
       "                   pre_dispatch='2*n_jobs', random_state=None, refit=True,\n",
       "                   return_train_score=False, scoring=None, verbose=0)"
      ]
     },
     "execution_count": 77,
     "metadata": {},
     "output_type": "execute_result"
    }
   ],
   "source": [
    "clf.fit(X_train, y_train)"
   ]
  },
  {
   "cell_type": "code",
   "execution_count": 78,
   "metadata": {},
   "outputs": [
    {
     "data": {
      "text/plain": [
       "{'C': 2.7899807903692477, 'gamma': 0.04604970797505251}"
      ]
     },
     "execution_count": 78,
     "metadata": {},
     "output_type": "execute_result"
    }
   ],
   "source": [
    "clf.best_params_"
   ]
  },
  {
   "cell_type": "code",
   "execution_count": 79,
   "metadata": {},
   "outputs": [
    {
     "data": {
      "text/plain": [
       "0.95"
      ]
     },
     "execution_count": 79,
     "metadata": {},
     "output_type": "execute_result"
    }
   ],
   "source": [
    "clf.best_score_"
   ]
  },
  {
   "cell_type": "code",
   "execution_count": 80,
   "metadata": {},
   "outputs": [],
   "source": [
    "y_pred = clf.predict(X_test)"
   ]
  },
  {
   "cell_type": "code",
   "execution_count": 81,
   "metadata": {},
   "outputs": [
    {
     "name": "stdout",
     "output_type": "stream",
     "text": [
      "              precision    recall  f1-score   support\n",
      "\n",
      "           0       1.00      1.00      1.00        10\n",
      "           1       1.00      1.00      1.00        10\n",
      "           2       1.00      1.00      1.00        10\n",
      "\n",
      "    accuracy                           1.00        30\n",
      "   macro avg       1.00      1.00      1.00        30\n",
      "weighted avg       1.00      1.00      1.00        30\n",
      "\n"
     ]
    }
   ],
   "source": [
    "print(classification_report(y_test, y_pred))"
   ]
  },
  {
   "cell_type": "markdown",
   "metadata": {
    "colab_type": "text",
    "id": "cHQP26RpTNHh"
   },
   "source": [
    "# Selecting Best Models from Multiple ML Algorithms"
   ]
  },
  {
   "cell_type": "code",
   "execution_count": 82,
   "metadata": {
    "colab": {},
    "colab_type": "code",
    "id": "aIefOZ2ryPjk"
   },
   "outputs": [],
   "source": [
    "from sklearn.linear_model import LogisticRegression\n",
    "from sklearn.ensemble import RandomForestClassifier\n",
    "from sklearn.svm import SVC\n",
    "\n",
    "from sklearn.model_selection import GridSearchCV\n",
    "from sklearn.pipeline import Pipeline"
   ]
  },
  {
   "cell_type": "code",
   "execution_count": 83,
   "metadata": {
    "colab": {},
    "colab_type": "code",
    "id": "gAPd1S1hyPhm"
   },
   "outputs": [],
   "source": [
    "np.random.seed(0)"
   ]
  },
  {
   "cell_type": "code",
   "execution_count": 84,
   "metadata": {
    "colab": {},
    "colab_type": "code",
    "id": "DHudJdClyPfm"
   },
   "outputs": [],
   "source": [
    "pipe = Pipeline([(\"classifier\", RandomForestClassifier())])\n",
    "\n",
    "search_space = [{\"classifier\": [LogisticRegression(solver='liblinear')],\n",
    "                  \"classifier__penalty\": ['l1', 'l2'],\n",
    "                  \"classifier__C\": np.logspace(0, 4, 10)},\n",
    "                \n",
    "                {\"classifier\": [RandomForestClassifier(n_jobs=-1)],\n",
    "                  \"classifier__n_estimators\": [10, 100],\n",
    "                  \"classifier__max_features\": [1, 3]},\n",
    "                \n",
    "                  {\"classifier\": [SVC()],\n",
    "                  \"classifier__C\": [1, 5],\n",
    "                  \"classifier__gamma\": [1e-1, 1e-2]}]"
   ]
  },
  {
   "cell_type": "code",
   "execution_count": 85,
   "metadata": {
    "colab": {},
    "colab_type": "code",
    "id": "IdvfJKe9UQEO"
   },
   "outputs": [],
   "source": [
    "clf = GridSearchCV(pipe, search_space, cv = 5, n_jobs = -1)\n"
   ]
  },
  {
   "cell_type": "code",
   "execution_count": 86,
   "metadata": {
    "colab": {},
    "colab_type": "code",
    "id": "JIMi5vJUUP9Y"
   },
   "outputs": [
    {
     "data": {
      "text/plain": [
       "GridSearchCV(cv=5, error_score='raise-deprecating',\n",
       "             estimator=Pipeline(memory=None,\n",
       "                                steps=[('classifier',\n",
       "                                        RandomForestClassifier(bootstrap=True,\n",
       "                                                               class_weight=None,\n",
       "                                                               criterion='gini',\n",
       "                                                               max_depth=None,\n",
       "                                                               max_features='auto',\n",
       "                                                               max_leaf_nodes=None,\n",
       "                                                               min_impurity_decrease=0.0,\n",
       "                                                               min_impurity_split=None,\n",
       "                                                               min_samples_leaf=1,\n",
       "                                                               min_samples_split=2,\n",
       "                                                               min_weight_fraction_leaf=0.0,\n",
       "                                                               n_...\n",
       "                         {'classifier': [SVC(C=5, cache_size=200,\n",
       "                                             class_weight=None, coef0=0.0,\n",
       "                                             decision_function_shape='ovr',\n",
       "                                             degree=3, gamma=0.1, kernel='rbf',\n",
       "                                             max_iter=-1, probability=False,\n",
       "                                             random_state=None, shrinking=True,\n",
       "                                             tol=0.001, verbose=False)],\n",
       "                          'classifier__C': [1, 5],\n",
       "                          'classifier__gamma': [0.1, 0.01]}],\n",
       "             pre_dispatch='2*n_jobs', refit=True, return_train_score=False,\n",
       "             scoring=None, verbose=0)"
      ]
     },
     "execution_count": 86,
     "metadata": {},
     "output_type": "execute_result"
    }
   ],
   "source": [
    "clf.fit(X_train, y_train)"
   ]
  },
  {
   "cell_type": "code",
   "execution_count": 87,
   "metadata": {
    "colab": {},
    "colab_type": "code",
    "id": "-Bwnp5QoUPv0"
   },
   "outputs": [
    {
     "data": {
      "text/plain": [
       "Pipeline(memory=None,\n",
       "         steps=[('classifier',\n",
       "                 SVC(C=5, cache_size=200, class_weight=None, coef0=0.0,\n",
       "                     decision_function_shape='ovr', degree=3, gamma=0.1,\n",
       "                     kernel='rbf', max_iter=-1, probability=False,\n",
       "                     random_state=None, shrinking=True, tol=0.001,\n",
       "                     verbose=False))],\n",
       "         verbose=False)"
      ]
     },
     "execution_count": 87,
     "metadata": {},
     "output_type": "execute_result"
    }
   ],
   "source": [
    "clf.best_estimator_"
   ]
  },
  {
   "cell_type": "code",
   "execution_count": 88,
   "metadata": {
    "colab": {},
    "colab_type": "code",
    "id": "sFP5m5b4UPo9"
   },
   "outputs": [
    {
     "data": {
      "text/plain": [
       "{'classifier': SVC(C=5, cache_size=200, class_weight=None, coef0=0.0,\n",
       "     decision_function_shape='ovr', degree=3, gamma=0.1, kernel='rbf',\n",
       "     max_iter=-1, probability=False, random_state=None, shrinking=True,\n",
       "     tol=0.001, verbose=False),\n",
       " 'classifier__C': 5,\n",
       " 'classifier__gamma': 0.1}"
      ]
     },
     "execution_count": 88,
     "metadata": {},
     "output_type": "execute_result"
    }
   ],
   "source": [
    "clf.best_params_"
   ]
  },
  {
   "cell_type": "code",
   "execution_count": null,
   "metadata": {
    "colab": {},
    "colab_type": "code",
    "id": "IUyGQuq_yPb0"
   },
   "outputs": [],
   "source": []
  },
  {
   "cell_type": "code",
   "execution_count": null,
   "metadata": {
    "colab": {},
    "colab_type": "code",
    "id": "f2JQOuilyPRC"
   },
   "outputs": [],
   "source": []
  },
  {
   "cell_type": "code",
   "execution_count": null,
   "metadata": {
    "colab": {},
    "colab_type": "code",
    "id": "QepTcMfManbm"
   },
   "outputs": [],
   "source": []
  },
  {
   "cell_type": "code",
   "execution_count": null,
   "metadata": {
    "colab": {},
    "colab_type": "code",
    "id": "dKvCUwk_anUK"
   },
   "outputs": [],
   "source": []
  },
  {
   "cell_type": "code",
   "execution_count": null,
   "metadata": {
    "colab": {},
    "colab_type": "code",
    "id": "ynUHurd-anIy"
   },
   "outputs": [],
   "source": []
  },
  {
   "cell_type": "code",
   "execution_count": null,
   "metadata": {
    "colab": {},
    "colab_type": "code",
    "id": "fzA6wRZ9anA8"
   },
   "outputs": [],
   "source": []
  }
 ],
 "metadata": {
  "colab": {
   "collapsed_sections": [],
   "name": "Fine Tune Machine Learning Model.ipynb",
   "provenance": []
  },
  "kernelspec": {
   "display_name": "Python 3",
   "language": "python",
   "name": "python3"
  },
  "language_info": {
   "codemirror_mode": {
    "name": "ipython",
    "version": 3
   },
   "file_extension": ".py",
   "mimetype": "text/x-python",
   "name": "python",
   "nbconvert_exporter": "python",
   "pygments_lexer": "ipython3",
   "version": "3.7.6"
  }
 },
 "nbformat": 4,
 "nbformat_minor": 1
}
