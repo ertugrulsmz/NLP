{
  "nbformat": 4,
  "nbformat_minor": 0,
  "metadata": {
    "accelerator": "GPU",
    "colab": {
      "name": "sentiment_tf_classification.ipynb",
      "provenance": [],
      "collapsed_sections": []
    },
    "kernelspec": {
      "display_name": "Python 3",
      "language": "python",
      "name": "python3"
    },
    "language_info": {
      "codemirror_mode": {
        "name": "ipython",
        "version": 3
      },
      "file_extension": ".py",
      "mimetype": "text/x-python",
      "name": "python",
      "nbconvert_exporter": "python",
      "pygments_lexer": "ipython3",
      "version": "3.7.6"
    }
  },
  "cells": [
    {
      "cell_type": "markdown",
      "metadata": {
        "id": "MJNOP0G6epWU"
      },
      "source": [
        "# Sentiment Analysis using Deep Learning"
      ]
    },
    {
      "cell_type": "code",
      "metadata": {
        "colab": {
          "base_uri": "https://localhost:8080/"
        },
        "id": "funvVzJQcQtK",
        "outputId": "1dee77d8-8499-43f6-b725-6d1111df88c9"
      },
      "source": [
        "import tensorflow as tf\n",
        "print(tf.__version__)"
      ],
      "execution_count": 2,
      "outputs": [
        {
          "output_type": "stream",
          "text": [
            "2.4.0\n"
          ],
          "name": "stdout"
        }
      ]
    },
    {
      "cell_type": "code",
      "metadata": {
        "colab": {
          "base_uri": "https://localhost:8080/"
        },
        "id": "PMqhvaJXcj_y",
        "outputId": "bf169ecc-04f5-4d97-a44b-4ca36f392b73"
      },
      "source": [
        "!pip install git+https://github.com/laxmimerit/preprocess_kgptalkie.git"
      ],
      "execution_count": 3,
      "outputs": [
        {
          "output_type": "stream",
          "text": [
            "Collecting git+https://github.com/laxmimerit/preprocess_kgptalkie.git\n",
            "  Cloning https://github.com/laxmimerit/preprocess_kgptalkie.git to /tmp/pip-req-build-ei9btqab\n",
            "  Running command git clone -q https://github.com/laxmimerit/preprocess_kgptalkie.git /tmp/pip-req-build-ei9btqab\n",
            "Building wheels for collected packages: preprocess-kgptalkie\n",
            "  Building wheel for preprocess-kgptalkie (setup.py) ... \u001b[?25l\u001b[?25hdone\n",
            "  Created wheel for preprocess-kgptalkie: filename=preprocess_kgptalkie-0.1.3-cp36-none-any.whl size=11742 sha256=2b186ccf7db2487f7d3df7417ea47bf81a0bc8e32d416b581b3a08786fb3b852\n",
            "  Stored in directory: /tmp/pip-ephem-wheel-cache-crrmv0gb/wheels/a8/18/22/90afa4bd43247fb9a75b710a4a3fcd94966c022ce9e3c7d0a6\n",
            "Successfully built preprocess-kgptalkie\n",
            "Installing collected packages: preprocess-kgptalkie\n",
            "Successfully installed preprocess-kgptalkie-0.1.3\n"
          ],
          "name": "stdout"
        }
      ]
    },
    {
      "cell_type": "code",
      "metadata": {
        "colab": {
          "base_uri": "https://localhost:8080/"
        },
        "id": "mAdupzKWdcZH",
        "outputId": "2bc6e077-e9b1-4b4b-fc40-054efa94863c"
      },
      "source": [
        "!pip install -U spacy\n",
        "!python -m spacy download en_core_web_lg"
      ],
      "execution_count": 4,
      "outputs": [
        {
          "output_type": "stream",
          "text": [
            "Collecting spacy\n",
            "\u001b[?25l  Downloading https://files.pythonhosted.org/packages/e5/bf/ca7bb25edd21f1cf9d498d0023808279672a664a70585e1962617ca2740c/spacy-2.3.5-cp36-cp36m-manylinux2014_x86_64.whl (10.4MB)\n",
            "\u001b[K     |████████████████████████████████| 10.4MB 10.1MB/s \n",
            "\u001b[?25hRequirement already satisfied, skipping upgrade: blis<0.8.0,>=0.4.0 in /usr/local/lib/python3.6/dist-packages (from spacy) (0.4.1)\n",
            "Requirement already satisfied, skipping upgrade: tqdm<5.0.0,>=4.38.0 in /usr/local/lib/python3.6/dist-packages (from spacy) (4.41.1)\n",
            "Requirement already satisfied, skipping upgrade: cymem<2.1.0,>=2.0.2 in /usr/local/lib/python3.6/dist-packages (from spacy) (2.0.5)\n",
            "Requirement already satisfied, skipping upgrade: srsly<1.1.0,>=1.0.2 in /usr/local/lib/python3.6/dist-packages (from spacy) (1.0.5)\n",
            "Requirement already satisfied, skipping upgrade: plac<1.2.0,>=0.9.6 in /usr/local/lib/python3.6/dist-packages (from spacy) (1.1.3)\n",
            "Requirement already satisfied, skipping upgrade: catalogue<1.1.0,>=0.0.7 in /usr/local/lib/python3.6/dist-packages (from spacy) (1.0.0)\n",
            "Requirement already satisfied, skipping upgrade: wasabi<1.1.0,>=0.4.0 in /usr/local/lib/python3.6/dist-packages (from spacy) (0.8.0)\n",
            "Collecting thinc<7.5.0,>=7.4.1\n",
            "\u001b[?25l  Downloading https://files.pythonhosted.org/packages/c0/1a/c3e4ab982214c63d743fad57c45c5e68ee49e4ea4384d27b28595a26ad26/thinc-7.4.5-cp36-cp36m-manylinux2014_x86_64.whl (1.1MB)\n",
            "\u001b[K     |████████████████████████████████| 1.1MB 58.8MB/s \n",
            "\u001b[?25hRequirement already satisfied, skipping upgrade: requests<3.0.0,>=2.13.0 in /usr/local/lib/python3.6/dist-packages (from spacy) (2.23.0)\n",
            "Requirement already satisfied, skipping upgrade: setuptools in /usr/local/lib/python3.6/dist-packages (from spacy) (51.1.1)\n",
            "Requirement already satisfied, skipping upgrade: preshed<3.1.0,>=3.0.2 in /usr/local/lib/python3.6/dist-packages (from spacy) (3.0.5)\n",
            "Requirement already satisfied, skipping upgrade: numpy>=1.15.0 in /usr/local/lib/python3.6/dist-packages (from spacy) (1.19.4)\n",
            "Requirement already satisfied, skipping upgrade: murmurhash<1.1.0,>=0.28.0 in /usr/local/lib/python3.6/dist-packages (from spacy) (1.0.5)\n",
            "Requirement already satisfied, skipping upgrade: importlib-metadata>=0.20; python_version < \"3.8\" in /usr/local/lib/python3.6/dist-packages (from catalogue<1.1.0,>=0.0.7->spacy) (3.3.0)\n",
            "Requirement already satisfied, skipping upgrade: idna<3,>=2.5 in /usr/local/lib/python3.6/dist-packages (from requests<3.0.0,>=2.13.0->spacy) (2.10)\n",
            "Requirement already satisfied, skipping upgrade: certifi>=2017.4.17 in /usr/local/lib/python3.6/dist-packages (from requests<3.0.0,>=2.13.0->spacy) (2020.12.5)\n",
            "Requirement already satisfied, skipping upgrade: chardet<4,>=3.0.2 in /usr/local/lib/python3.6/dist-packages (from requests<3.0.0,>=2.13.0->spacy) (3.0.4)\n",
            "Requirement already satisfied, skipping upgrade: urllib3!=1.25.0,!=1.25.1,<1.26,>=1.21.1 in /usr/local/lib/python3.6/dist-packages (from requests<3.0.0,>=2.13.0->spacy) (1.24.3)\n",
            "Requirement already satisfied, skipping upgrade: zipp>=0.5 in /usr/local/lib/python3.6/dist-packages (from importlib-metadata>=0.20; python_version < \"3.8\"->catalogue<1.1.0,>=0.0.7->spacy) (3.4.0)\n",
            "Requirement already satisfied, skipping upgrade: typing-extensions>=3.6.4; python_version < \"3.8\" in /usr/local/lib/python3.6/dist-packages (from importlib-metadata>=0.20; python_version < \"3.8\"->catalogue<1.1.0,>=0.0.7->spacy) (3.7.4.3)\n",
            "Installing collected packages: thinc, spacy\n",
            "  Found existing installation: thinc 7.4.0\n",
            "    Uninstalling thinc-7.4.0:\n",
            "      Successfully uninstalled thinc-7.4.0\n",
            "  Found existing installation: spacy 2.2.4\n",
            "    Uninstalling spacy-2.2.4:\n",
            "      Successfully uninstalled spacy-2.2.4\n",
            "Successfully installed spacy-2.3.5 thinc-7.4.5\n",
            "Collecting en_core_web_lg==2.3.1\n",
            "\u001b[?25l  Downloading https://github.com/explosion/spacy-models/releases/download/en_core_web_lg-2.3.1/en_core_web_lg-2.3.1.tar.gz (782.7MB)\n",
            "\u001b[K     |████████████████████████████████| 782.7MB 1.2MB/s \n",
            "\u001b[?25hRequirement already satisfied: spacy<2.4.0,>=2.3.0 in /usr/local/lib/python3.6/dist-packages (from en_core_web_lg==2.3.1) (2.3.5)\n",
            "Requirement already satisfied: thinc<7.5.0,>=7.4.1 in /usr/local/lib/python3.6/dist-packages (from spacy<2.4.0,>=2.3.0->en_core_web_lg==2.3.1) (7.4.5)\n",
            "Requirement already satisfied: catalogue<1.1.0,>=0.0.7 in /usr/local/lib/python3.6/dist-packages (from spacy<2.4.0,>=2.3.0->en_core_web_lg==2.3.1) (1.0.0)\n",
            "Requirement already satisfied: preshed<3.1.0,>=3.0.2 in /usr/local/lib/python3.6/dist-packages (from spacy<2.4.0,>=2.3.0->en_core_web_lg==2.3.1) (3.0.5)\n",
            "Requirement already satisfied: murmurhash<1.1.0,>=0.28.0 in /usr/local/lib/python3.6/dist-packages (from spacy<2.4.0,>=2.3.0->en_core_web_lg==2.3.1) (1.0.5)\n",
            "Requirement already satisfied: tqdm<5.0.0,>=4.38.0 in /usr/local/lib/python3.6/dist-packages (from spacy<2.4.0,>=2.3.0->en_core_web_lg==2.3.1) (4.41.1)\n",
            "Requirement already satisfied: plac<1.2.0,>=0.9.6 in /usr/local/lib/python3.6/dist-packages (from spacy<2.4.0,>=2.3.0->en_core_web_lg==2.3.1) (1.1.3)\n",
            "Requirement already satisfied: blis<0.8.0,>=0.4.0 in /usr/local/lib/python3.6/dist-packages (from spacy<2.4.0,>=2.3.0->en_core_web_lg==2.3.1) (0.4.1)\n",
            "Requirement already satisfied: requests<3.0.0,>=2.13.0 in /usr/local/lib/python3.6/dist-packages (from spacy<2.4.0,>=2.3.0->en_core_web_lg==2.3.1) (2.23.0)\n",
            "Requirement already satisfied: cymem<2.1.0,>=2.0.2 in /usr/local/lib/python3.6/dist-packages (from spacy<2.4.0,>=2.3.0->en_core_web_lg==2.3.1) (2.0.5)\n",
            "Requirement already satisfied: srsly<1.1.0,>=1.0.2 in /usr/local/lib/python3.6/dist-packages (from spacy<2.4.0,>=2.3.0->en_core_web_lg==2.3.1) (1.0.5)\n",
            "Requirement already satisfied: wasabi<1.1.0,>=0.4.0 in /usr/local/lib/python3.6/dist-packages (from spacy<2.4.0,>=2.3.0->en_core_web_lg==2.3.1) (0.8.0)\n",
            "Requirement already satisfied: numpy>=1.15.0 in /usr/local/lib/python3.6/dist-packages (from spacy<2.4.0,>=2.3.0->en_core_web_lg==2.3.1) (1.19.4)\n",
            "Requirement already satisfied: setuptools in /usr/local/lib/python3.6/dist-packages (from spacy<2.4.0,>=2.3.0->en_core_web_lg==2.3.1) (51.1.1)\n",
            "Requirement already satisfied: importlib-metadata>=0.20; python_version < \"3.8\" in /usr/local/lib/python3.6/dist-packages (from catalogue<1.1.0,>=0.0.7->spacy<2.4.0,>=2.3.0->en_core_web_lg==2.3.1) (3.3.0)\n",
            "Requirement already satisfied: urllib3!=1.25.0,!=1.25.1,<1.26,>=1.21.1 in /usr/local/lib/python3.6/dist-packages (from requests<3.0.0,>=2.13.0->spacy<2.4.0,>=2.3.0->en_core_web_lg==2.3.1) (1.24.3)\n",
            "Requirement already satisfied: idna<3,>=2.5 in /usr/local/lib/python3.6/dist-packages (from requests<3.0.0,>=2.13.0->spacy<2.4.0,>=2.3.0->en_core_web_lg==2.3.1) (2.10)\n",
            "Requirement already satisfied: certifi>=2017.4.17 in /usr/local/lib/python3.6/dist-packages (from requests<3.0.0,>=2.13.0->spacy<2.4.0,>=2.3.0->en_core_web_lg==2.3.1) (2020.12.5)\n",
            "Requirement already satisfied: chardet<4,>=3.0.2 in /usr/local/lib/python3.6/dist-packages (from requests<3.0.0,>=2.13.0->spacy<2.4.0,>=2.3.0->en_core_web_lg==2.3.1) (3.0.4)\n",
            "Requirement already satisfied: zipp>=0.5 in /usr/local/lib/python3.6/dist-packages (from importlib-metadata>=0.20; python_version < \"3.8\"->catalogue<1.1.0,>=0.0.7->spacy<2.4.0,>=2.3.0->en_core_web_lg==2.3.1) (3.4.0)\n",
            "Requirement already satisfied: typing-extensions>=3.6.4; python_version < \"3.8\" in /usr/local/lib/python3.6/dist-packages (from importlib-metadata>=0.20; python_version < \"3.8\"->catalogue<1.1.0,>=0.0.7->spacy<2.4.0,>=2.3.0->en_core_web_lg==2.3.1) (3.7.4.3)\n",
            "Building wheels for collected packages: en-core-web-lg\n",
            "  Building wheel for en-core-web-lg (setup.py) ... \u001b[?25l\u001b[?25hdone\n",
            "  Created wheel for en-core-web-lg: filename=en_core_web_lg-2.3.1-cp36-none-any.whl size=782936123 sha256=13151a5c02dd84e2b5933f252e247e5ced2f819589a735dc709959fb47b8cd1c\n",
            "  Stored in directory: /tmp/pip-ephem-wheel-cache-1djesh6s/wheels/ce/4d/1b/bc6cabb6df139c5f0318927be3ae9e51363fb44d6ea328d3f4\n",
            "Successfully built en-core-web-lg\n",
            "Installing collected packages: en-core-web-lg\n",
            "Successfully installed en-core-web-lg-2.3.1\n",
            "\u001b[38;5;2m✔ Download and installation successful\u001b[0m\n",
            "You can now load the model via spacy.load('en_core_web_lg')\n"
          ],
          "name": "stdout"
        }
      ]
    },
    {
      "cell_type": "code",
      "metadata": {
        "id": "a56jD6badyS_"
      },
      "source": [
        "import pandas as pd\n",
        "import numpy as np\n",
        "import spacy"
      ],
      "execution_count": 5,
      "outputs": []
    },
    {
      "cell_type": "code",
      "metadata": {
        "colab": {
          "base_uri": "https://localhost:8080/"
        },
        "id": "Oe99CjIId3rX",
        "outputId": "03c4e58b-4a25-4f57-9de2-9e255e85e205"
      },
      "source": [
        "import preprocess_kgptalkie as ps\n",
        "import matplotlib.pyplot as plt\n",
        "from sklearn.model_selection import train_test_split\n",
        "from sklearn.metrics import confusion_matrix, classification_report"
      ],
      "execution_count": 6,
      "outputs": [
        {
          "output_type": "stream",
          "text": [
            "/usr/local/lib/python3.6/dist-packages/spacy/util.py:275: UserWarning: [W031] Model 'en_core_web_sm' (2.2.5) requires spaCy v2.2 and is incompatible with the current spaCy version (2.3.5). This may lead to unexpected results or runtime errors. To resolve this, download a newer compatible model or retrain your custom model with the current spaCy version. For more details and available updates, run: python -m spacy validate\n",
            "  warnings.warn(warn_msg)\n"
          ],
          "name": "stderr"
        }
      ]
    },
    {
      "cell_type": "markdown",
      "metadata": {
        "id": "qcBf_mauevfU"
      },
      "source": [
        "### Data Preprocessing"
      ]
    },
    {
      "cell_type": "code",
      "metadata": {
        "id": "fpgwQWKJd3uj"
      },
      "source": [
        "df = pd.read_csv('https://raw.githubusercontent.com/laxmimerit/NLP-Tutorial-8---Sentiment-Classification-using-SpaCy-for-IMDB-and-Amazon-Review-Dataset/master/datasets/imdb_labelled.txt', sep = '\\t', header = None)"
      ],
      "execution_count": 10,
      "outputs": []
    },
    {
      "cell_type": "code",
      "metadata": {
        "id": "W-AjX9xId30r"
      },
      "source": [
        "df.columns = ['reviews', 'sentiment']"
      ],
      "execution_count": 11,
      "outputs": []
    },
    {
      "cell_type": "code",
      "metadata": {
        "colab": {
          "base_uri": "https://localhost:8080/",
          "height": 206
        },
        "id": "vNm-FbmLd37Q",
        "outputId": "c21fb8ed-bc54-43f6-908b-36020e7765c0"
      },
      "source": [
        "\n",
        "df.head()"
      ],
      "execution_count": 12,
      "outputs": [
        {
          "output_type": "execute_result",
          "data": {
            "text/html": [
              "<div>\n",
              "<style scoped>\n",
              "    .dataframe tbody tr th:only-of-type {\n",
              "        vertical-align: middle;\n",
              "    }\n",
              "\n",
              "    .dataframe tbody tr th {\n",
              "        vertical-align: top;\n",
              "    }\n",
              "\n",
              "    .dataframe thead th {\n",
              "        text-align: right;\n",
              "    }\n",
              "</style>\n",
              "<table border=\"1\" class=\"dataframe\">\n",
              "  <thead>\n",
              "    <tr style=\"text-align: right;\">\n",
              "      <th></th>\n",
              "      <th>reviews</th>\n",
              "      <th>sentiment</th>\n",
              "    </tr>\n",
              "  </thead>\n",
              "  <tbody>\n",
              "    <tr>\n",
              "      <th>0</th>\n",
              "      <td>A very, very, very slow-moving, aimless movie ...</td>\n",
              "      <td>0</td>\n",
              "    </tr>\n",
              "    <tr>\n",
              "      <th>1</th>\n",
              "      <td>Not sure who was more lost - the flat characte...</td>\n",
              "      <td>0</td>\n",
              "    </tr>\n",
              "    <tr>\n",
              "      <th>2</th>\n",
              "      <td>Attempting artiness with black &amp; white and cle...</td>\n",
              "      <td>0</td>\n",
              "    </tr>\n",
              "    <tr>\n",
              "      <th>3</th>\n",
              "      <td>Very little music or anything to speak of.</td>\n",
              "      <td>0</td>\n",
              "    </tr>\n",
              "    <tr>\n",
              "      <th>4</th>\n",
              "      <td>The best scene in the movie was when Gerardo i...</td>\n",
              "      <td>1</td>\n",
              "    </tr>\n",
              "  </tbody>\n",
              "</table>\n",
              "</div>"
            ],
            "text/plain": [
              "                                             reviews  sentiment\n",
              "0  A very, very, very slow-moving, aimless movie ...          0\n",
              "1  Not sure who was more lost - the flat characte...          0\n",
              "2  Attempting artiness with black & white and cle...          0\n",
              "3       Very little music or anything to speak of.            0\n",
              "4  The best scene in the movie was when Gerardo i...          1"
            ]
          },
          "metadata": {
            "tags": []
          },
          "execution_count": 12
        }
      ]
    },
    {
      "cell_type": "code",
      "metadata": {
        "id": "3rqLI8wld4AE"
      },
      "source": [
        "def get_clean(x):\n",
        "    x = str(x).lower()\n",
        "    x =  ps.cont_exp(x)\n",
        "    x = ps.remove_emails(x)\n",
        "    x = ps.remove_html_tags(x)\n",
        "    x = ps.remove_urls(x)\n",
        "    x =  ps.remove_special_chars(x)\n",
        "    x = ps.remove_accented_chars(x)\n",
        "    return x"
      ],
      "execution_count": 13,
      "outputs": []
    },
    {
      "cell_type": "code",
      "metadata": {
        "colab": {
          "base_uri": "https://localhost:8080/",
          "height": 36
        },
        "id": "j4dWI3Yld4JK",
        "outputId": "a6192509-6a58-4b7a-be0e-0a9ce9f6f1ac"
      },
      "source": [
        "get_clean('I have an email ertugrulsmz@gmail.com where you will reach on ##')"
      ],
      "execution_count": 14,
      "outputs": [
        {
          "output_type": "execute_result",
          "data": {
            "application/vnd.google.colaboratory.intrinsic+json": {
              "type": "string"
            },
            "text/plain": [
              "'i have an email where you will reach on'"
            ]
          },
          "metadata": {
            "tags": []
          },
          "execution_count": 14
        }
      ]
    },
    {
      "cell_type": "code",
      "metadata": {
        "id": "g_9ko6grd34a"
      },
      "source": [
        "df['reviews'] = df['reviews'].apply(lambda x: get_clean(x))"
      ],
      "execution_count": 15,
      "outputs": []
    },
    {
      "cell_type": "code",
      "metadata": {
        "colab": {
          "base_uri": "https://localhost:8080/",
          "height": 206
        },
        "id": "-8ISMTDgd3yH",
        "outputId": "e390f324-778b-446c-8dce-87f3866798c9"
      },
      "source": [
        "df.head()"
      ],
      "execution_count": 16,
      "outputs": [
        {
          "output_type": "execute_result",
          "data": {
            "text/html": [
              "<div>\n",
              "<style scoped>\n",
              "    .dataframe tbody tr th:only-of-type {\n",
              "        vertical-align: middle;\n",
              "    }\n",
              "\n",
              "    .dataframe tbody tr th {\n",
              "        vertical-align: top;\n",
              "    }\n",
              "\n",
              "    .dataframe thead th {\n",
              "        text-align: right;\n",
              "    }\n",
              "</style>\n",
              "<table border=\"1\" class=\"dataframe\">\n",
              "  <thead>\n",
              "    <tr style=\"text-align: right;\">\n",
              "      <th></th>\n",
              "      <th>reviews</th>\n",
              "      <th>sentiment</th>\n",
              "    </tr>\n",
              "  </thead>\n",
              "  <tbody>\n",
              "    <tr>\n",
              "      <th>0</th>\n",
              "      <td>a very very very slowmoving aimless movie abou...</td>\n",
              "      <td>0</td>\n",
              "    </tr>\n",
              "    <tr>\n",
              "      <th>1</th>\n",
              "      <td>not sure who was more lost the flat characters...</td>\n",
              "      <td>0</td>\n",
              "    </tr>\n",
              "    <tr>\n",
              "      <th>2</th>\n",
              "      <td>attempting artiness with black white and cleve...</td>\n",
              "      <td>0</td>\n",
              "    </tr>\n",
              "    <tr>\n",
              "      <th>3</th>\n",
              "      <td>very little music or anything to speak of</td>\n",
              "      <td>0</td>\n",
              "    </tr>\n",
              "    <tr>\n",
              "      <th>4</th>\n",
              "      <td>the best scene in the movie was when gerardo i...</td>\n",
              "      <td>1</td>\n",
              "    </tr>\n",
              "  </tbody>\n",
              "</table>\n",
              "</div>"
            ],
            "text/plain": [
              "                                             reviews  sentiment\n",
              "0  a very very very slowmoving aimless movie abou...          0\n",
              "1  not sure who was more lost the flat characters...          0\n",
              "2  attempting artiness with black white and cleve...          0\n",
              "3          very little music or anything to speak of          0\n",
              "4  the best scene in the movie was when gerardo i...          1"
            ]
          },
          "metadata": {
            "tags": []
          },
          "execution_count": 16
        }
      ]
    },
    {
      "cell_type": "markdown",
      "metadata": {
        "id": "FG18yMdRuydd"
      },
      "source": [
        "### Get the word2vec"
      ]
    },
    {
      "cell_type": "markdown",
      "metadata": {
        "id": "elJ4Ph8pu7xM"
      },
      "source": [
        "```\n",
        "pip install -U spacy\n",
        "\n",
        "python -m spacy download en_core_web_lg\n",
        "```"
      ]
    },
    {
      "cell_type": "code",
      "metadata": {
        "id": "CWEZLxHIgusI"
      },
      "source": [
        "import en_core_web_lg"
      ],
      "execution_count": 17,
      "outputs": []
    },
    {
      "cell_type": "code",
      "metadata": {
        "id": "lGnD05XXu2NJ"
      },
      "source": [
        "nlp = en_core_web_lg.load()"
      ],
      "execution_count": 18,
      "outputs": []
    },
    {
      "cell_type": "code",
      "metadata": {
        "id": "ki2_29Xuu2GD"
      },
      "source": [
        "def get_vec(x):\n",
        "  doc = nlp(x)\n",
        "  vec = doc.vector\n",
        "  return vec"
      ],
      "execution_count": 19,
      "outputs": []
    },
    {
      "cell_type": "code",
      "metadata": {
        "colab": {
          "base_uri": "https://localhost:8080/"
        },
        "id": "vZLedvJVu2ra",
        "outputId": "d85907aa-b2a3-4d9c-8913-337bbac9bd2a"
      },
      "source": [
        "get_vec('I will come with you').shape"
      ],
      "execution_count": 22,
      "outputs": [
        {
          "output_type": "execute_result",
          "data": {
            "text/plain": [
              "(300,)"
            ]
          },
          "metadata": {
            "tags": []
          },
          "execution_count": 22
        }
      ]
    },
    {
      "cell_type": "code",
      "metadata": {
        "id": "n09mhaIOu2ul"
      },
      "source": [
        "df['vec'] = df['reviews'].apply(lambda x: get_vec(x))"
      ],
      "execution_count": 23,
      "outputs": []
    },
    {
      "cell_type": "code",
      "metadata": {
        "colab": {
          "base_uri": "https://localhost:8080/",
          "height": 206
        },
        "id": "ZNJTzup1u2xo",
        "outputId": "e83654f1-2d00-49bb-85f7-48fc6aae92f9"
      },
      "source": [
        "df.head()"
      ],
      "execution_count": 24,
      "outputs": [
        {
          "output_type": "execute_result",
          "data": {
            "text/html": [
              "<div>\n",
              "<style scoped>\n",
              "    .dataframe tbody tr th:only-of-type {\n",
              "        vertical-align: middle;\n",
              "    }\n",
              "\n",
              "    .dataframe tbody tr th {\n",
              "        vertical-align: top;\n",
              "    }\n",
              "\n",
              "    .dataframe thead th {\n",
              "        text-align: right;\n",
              "    }\n",
              "</style>\n",
              "<table border=\"1\" class=\"dataframe\">\n",
              "  <thead>\n",
              "    <tr style=\"text-align: right;\">\n",
              "      <th></th>\n",
              "      <th>reviews</th>\n",
              "      <th>sentiment</th>\n",
              "      <th>vec</th>\n",
              "    </tr>\n",
              "  </thead>\n",
              "  <tbody>\n",
              "    <tr>\n",
              "      <th>0</th>\n",
              "      <td>a very very very slowmoving aimless movie abou...</td>\n",
              "      <td>0</td>\n",
              "      <td>[-0.065427616, 0.105150685, -0.23944347, 0.127...</td>\n",
              "    </tr>\n",
              "    <tr>\n",
              "      <th>1</th>\n",
              "      <td>not sure who was more lost the flat characters...</td>\n",
              "      <td>0</td>\n",
              "      <td>[0.07790671, 0.1754548, -0.14305861, -0.021857...</td>\n",
              "    </tr>\n",
              "    <tr>\n",
              "      <th>2</th>\n",
              "      <td>attempting artiness with black white and cleve...</td>\n",
              "      <td>0</td>\n",
              "      <td>[-0.1621301, 0.004197893, -0.11855656, -0.1021...</td>\n",
              "    </tr>\n",
              "    <tr>\n",
              "      <th>3</th>\n",
              "      <td>very little music or anything to speak of</td>\n",
              "      <td>0</td>\n",
              "      <td>[-0.09093174, 0.25162372, -0.25681874, 0.15846...</td>\n",
              "    </tr>\n",
              "    <tr>\n",
              "      <th>4</th>\n",
              "      <td>the best scene in the movie was when gerardo i...</td>\n",
              "      <td>1</td>\n",
              "      <td>[0.08769195, 0.12695198, -0.097915664, -0.0435...</td>\n",
              "    </tr>\n",
              "  </tbody>\n",
              "</table>\n",
              "</div>"
            ],
            "text/plain": [
              "                                             reviews  ...                                                vec\n",
              "0  a very very very slowmoving aimless movie abou...  ...  [-0.065427616, 0.105150685, -0.23944347, 0.127...\n",
              "1  not sure who was more lost the flat characters...  ...  [0.07790671, 0.1754548, -0.14305861, -0.021857...\n",
              "2  attempting artiness with black white and cleve...  ...  [-0.1621301, 0.004197893, -0.11855656, -0.1021...\n",
              "3          very little music or anything to speak of  ...  [-0.09093174, 0.25162372, -0.25681874, 0.15846...\n",
              "4  the best scene in the movie was when gerardo i...  ...  [0.08769195, 0.12695198, -0.097915664, -0.0435...\n",
              "\n",
              "[5 rows x 3 columns]"
            ]
          },
          "metadata": {
            "tags": []
          },
          "execution_count": 24
        }
      ]
    },
    {
      "cell_type": "code",
      "metadata": {
        "id": "2NwI-A7Wu22z"
      },
      "source": [
        "y = df['sentiment']"
      ],
      "execution_count": 25,
      "outputs": []
    },
    {
      "cell_type": "code",
      "metadata": {
        "id": "JAnnq97xkxR8"
      },
      "source": [
        "y.shape"
      ],
      "execution_count": null,
      "outputs": []
    },
    {
      "cell_type": "code",
      "metadata": {
        "colab": {
          "base_uri": "https://localhost:8080/"
        },
        "id": "Z9AhDQolu26W",
        "outputId": "79fab2f7-bb7c-4fe4-f58a-b553a6d016f8"
      },
      "source": [
        "X = df['vec'].to_numpy()\n",
        "X.shape\n"
      ],
      "execution_count": 26,
      "outputs": [
        {
          "output_type": "execute_result",
          "data": {
            "text/plain": [
              "(748,)"
            ]
          },
          "metadata": {
            "tags": []
          },
          "execution_count": 26
        }
      ]
    },
    {
      "cell_type": "code",
      "metadata": {
        "colab": {
          "base_uri": "https://localhost:8080/"
        },
        "id": "oUJtnc2Ik4O4",
        "outputId": "6647c836-7faf-4f84-a263-6b90d5b7d9a1"
      },
      "source": [
        "X[0].shape"
      ],
      "execution_count": 29,
      "outputs": [
        {
          "output_type": "execute_result",
          "data": {
            "text/plain": [
              "(300,)"
            ]
          },
          "metadata": {
            "tags": []
          },
          "execution_count": 29
        }
      ]
    },
    {
      "cell_type": "code",
      "metadata": {
        "id": "rTnDnaKfktVC"
      },
      "source": [
        "X = X.reshape(-1, 1)"
      ],
      "execution_count": 33,
      "outputs": []
    },
    {
      "cell_type": "code",
      "metadata": {
        "colab": {
          "base_uri": "https://localhost:8080/"
        },
        "id": "DQs3jqzhu2_8",
        "outputId": "a5a4d903-da53-48ac-f96c-01cd704f568c"
      },
      "source": [
        "df.shape, X.shape"
      ],
      "execution_count": 34,
      "outputs": [
        {
          "output_type": "execute_result",
          "data": {
            "text/plain": [
              "((748, 3), (748, 1))"
            ]
          },
          "metadata": {
            "tags": []
          },
          "execution_count": 34
        }
      ]
    },
    {
      "cell_type": "code",
      "metadata": {
        "colab": {
          "base_uri": "https://localhost:8080/"
        },
        "id": "cE3bJ2Z2mI4y",
        "outputId": "576bd5e2-13ff-48c1-cf8f-39a6d5139bc2"
      },
      "source": [
        "np.concatenate(X,axis=0).shape"
      ],
      "execution_count": 37,
      "outputs": [
        {
          "output_type": "execute_result",
          "data": {
            "text/plain": [
              "(224400,)"
            ]
          },
          "metadata": {
            "tags": []
          },
          "execution_count": 37
        }
      ]
    },
    {
      "cell_type": "code",
      "metadata": {
        "colab": {
          "base_uri": "https://localhost:8080/"
        },
        "id": "J0ubAqXYmRX0",
        "outputId": "494c020e-b184-4be4-b604-0dc11b92c2cf"
      },
      "source": [
        "np.concatenate(X,axis=0).reshape(-1,300).shape"
      ],
      "execution_count": 42,
      "outputs": [
        {
          "output_type": "execute_result",
          "data": {
            "text/plain": [
              "(748, 300)"
            ]
          },
          "metadata": {
            "tags": []
          },
          "execution_count": 42
        }
      ]
    },
    {
      "cell_type": "code",
      "metadata": {
        "id": "2rRpWDIku3FS"
      },
      "source": [
        "X = np.concatenate(X,axis=0).reshape(-1,300)"
      ],
      "execution_count": 43,
      "outputs": []
    },
    {
      "cell_type": "code",
      "metadata": {
        "colab": {
          "base_uri": "https://localhost:8080/"
        },
        "id": "i46skpIBu3Ig",
        "outputId": "ec972b0a-94fa-4faa-999c-91180a680ca3"
      },
      "source": [
        "df.shape, X.shape"
      ],
      "execution_count": 44,
      "outputs": [
        {
          "output_type": "execute_result",
          "data": {
            "text/plain": [
              "((748, 3), (748, 300))"
            ]
          },
          "metadata": {
            "tags": []
          },
          "execution_count": 44
        }
      ]
    },
    {
      "cell_type": "code",
      "metadata": {
        "id": "qWyZkbS2u3L8"
      },
      "source": [
        "X_train, X_test, y_train, y_test = train_test_split(X, y, test_size = 0.2, random_state = 0, stratify = y)"
      ],
      "execution_count": 45,
      "outputs": []
    },
    {
      "cell_type": "code",
      "metadata": {
        "colab": {
          "base_uri": "https://localhost:8080/"
        },
        "id": "ePUAFeaVu3O1",
        "outputId": "6ebfcf9d-de35-42ba-d899-a39f08fcf239"
      },
      "source": [
        "X_train.shape, X_test.shape"
      ],
      "execution_count": 46,
      "outputs": [
        {
          "output_type": "execute_result",
          "data": {
            "text/plain": [
              "((598, 300), (150, 300))"
            ]
          },
          "metadata": {
            "tags": []
          },
          "execution_count": 46
        }
      ]
    },
    {
      "cell_type": "code",
      "metadata": {
        "colab": {
          "base_uri": "https://localhost:8080/"
        },
        "id": "Nc2AzH-Wu3TY",
        "outputId": "7b5f1861-f67e-4b50-fdd3-f80b56ab98d3"
      },
      "source": [
        "np.min(X_train)"
      ],
      "execution_count": 47,
      "outputs": [
        {
          "output_type": "execute_result",
          "data": {
            "text/plain": [
              "-2.7673"
            ]
          },
          "metadata": {
            "tags": []
          },
          "execution_count": 47
        }
      ]
    },
    {
      "cell_type": "markdown",
      "metadata": {
        "id": "51McDXQ1x0aA"
      },
      "source": [
        "### Feature Standardization"
      ]
    },
    {
      "cell_type": "code",
      "metadata": {
        "id": "9M-G08Yiu3sV"
      },
      "source": [
        "from sklearn.preprocessing import MinMaxScaler"
      ],
      "execution_count": 48,
      "outputs": []
    },
    {
      "cell_type": "code",
      "metadata": {
        "id": "cRc0FTvnx1vf"
      },
      "source": [
        "scaler = MinMaxScaler()\n",
        "X_train = scaler.fit_transform(X_train)\n",
        "X_test = scaler.transform(X_test)"
      ],
      "execution_count": 49,
      "outputs": []
    },
    {
      "cell_type": "code",
      "metadata": {
        "colab": {
          "base_uri": "https://localhost:8080/"
        },
        "id": "9gSfAYa7x1yn",
        "outputId": "3a5dc8fa-cda0-4149-8bff-39898bd99f5e"
      },
      "source": [
        "np.min(X_train)"
      ],
      "execution_count": 50,
      "outputs": [
        {
          "output_type": "execute_result",
          "data": {
            "text/plain": [
              "0.0"
            ]
          },
          "metadata": {
            "tags": []
          },
          "execution_count": 50
        }
      ]
    },
    {
      "cell_type": "code",
      "metadata": {
        "colab": {
          "base_uri": "https://localhost:8080/"
        },
        "id": "OAMhwk9hx137",
        "outputId": "38eb2f34-f7ee-4c58-f984-57130a24324e"
      },
      "source": [
        "np.max(X_train)"
      ],
      "execution_count": 51,
      "outputs": [
        {
          "output_type": "execute_result",
          "data": {
            "text/plain": [
              "1.0000001"
            ]
          },
          "metadata": {
            "tags": []
          },
          "execution_count": 51
        }
      ]
    },
    {
      "cell_type": "markdown",
      "metadata": {
        "id": "5zlOCzFSyszb"
      },
      "source": [
        "### ANN Model Building and Traning"
      ]
    },
    {
      "cell_type": "code",
      "metadata": {
        "id": "-ru5bydgx2Fy"
      },
      "source": [
        "import tensorflow as tf\n",
        "from tensorflow import keras\n",
        "from tensorflow.keras import Sequential\n",
        "from tensorflow.keras.layers import Flatten, Dense\n",
        "from tensorflow.keras.optimizers import Adam\n",
        "from keras import Input\n",
        "from keras import Model"
      ],
      "execution_count": 57,
      "outputs": []
    },
    {
      "cell_type": "code",
      "metadata": {
        "id": "UJC4J1a1x2N2"
      },
      "source": [
        "input = Input(shape=X.shape[1])\n",
        "x = Dense(units = 128, activation='relu')(input)\n",
        "x = Dense(units = 128, activation='relu')(x)\n",
        "x = Dense(units = 128, activation='relu')(x)\n",
        "output = Dense(1, activation='sigmoid')(x)\n",
        "\n",
        "model = Model(inputs = input,outputs = output)\n"
      ],
      "execution_count": 60,
      "outputs": []
    },
    {
      "cell_type": "code",
      "metadata": {
        "id": "mN09kjczx2WM"
      },
      "source": [
        "model.compile(optimizer=Adam(lr = 0.00005), loss = 'binary_crossentropy', metrics=['accuracy'])"
      ],
      "execution_count": 61,
      "outputs": []
    },
    {
      "cell_type": "code",
      "metadata": {
        "id": "Be2g4EHUoLZO"
      },
      "source": [
        "model.fit()"
      ],
      "execution_count": null,
      "outputs": []
    },
    {
      "cell_type": "code",
      "metadata": {
        "colab": {
          "base_uri": "https://localhost:8080/"
        },
        "id": "0qL1H3vQx2cg",
        "outputId": "182b1612-1cb0-497a-e366-7e2adee0db7f"
      },
      "source": [
        "model.fit(X_train, y_train, batch_size=4, epochs=20, validation_data=(X_test,y_test))"
      ],
      "execution_count": 65,
      "outputs": [
        {
          "output_type": "stream",
          "text": [
            "Epoch 1/20\n",
            "150/150 [==============================] - 1s 4ms/step - loss: 0.3624 - accuracy: 0.8445 - val_loss: 0.5289 - val_accuracy: 0.7333\n",
            "Epoch 2/20\n",
            "150/150 [==============================] - 0s 3ms/step - loss: 0.3593 - accuracy: 0.8395 - val_loss: 0.5151 - val_accuracy: 0.7600\n",
            "Epoch 3/20\n",
            "150/150 [==============================] - 0s 3ms/step - loss: 0.3567 - accuracy: 0.8328 - val_loss: 0.5089 - val_accuracy: 0.7333\n",
            "Epoch 4/20\n",
            "150/150 [==============================] - 1s 4ms/step - loss: 0.3398 - accuracy: 0.8512 - val_loss: 0.5163 - val_accuracy: 0.7800\n",
            "Epoch 5/20\n",
            "150/150 [==============================] - 0s 3ms/step - loss: 0.3388 - accuracy: 0.8595 - val_loss: 0.5035 - val_accuracy: 0.7400\n",
            "Epoch 6/20\n",
            "150/150 [==============================] - 0s 3ms/step - loss: 0.3288 - accuracy: 0.8512 - val_loss: 0.5110 - val_accuracy: 0.7733\n",
            "Epoch 7/20\n",
            "150/150 [==============================] - 0s 3ms/step - loss: 0.3293 - accuracy: 0.8545 - val_loss: 0.5079 - val_accuracy: 0.7600\n",
            "Epoch 8/20\n",
            "150/150 [==============================] - 0s 3ms/step - loss: 0.3291 - accuracy: 0.8595 - val_loss: 0.4970 - val_accuracy: 0.7467\n",
            "Epoch 9/20\n",
            "150/150 [==============================] - 0s 3ms/step - loss: 0.3317 - accuracy: 0.8679 - val_loss: 0.4963 - val_accuracy: 0.7533\n",
            "Epoch 10/20\n",
            "150/150 [==============================] - 0s 3ms/step - loss: 0.3246 - accuracy: 0.8662 - val_loss: 0.5048 - val_accuracy: 0.7800\n",
            "Epoch 11/20\n",
            "150/150 [==============================] - 0s 3ms/step - loss: 0.3239 - accuracy: 0.8528 - val_loss: 0.4952 - val_accuracy: 0.7600\n",
            "Epoch 12/20\n",
            "150/150 [==============================] - 0s 3ms/step - loss: 0.3112 - accuracy: 0.8579 - val_loss: 0.5376 - val_accuracy: 0.7533\n",
            "Epoch 13/20\n",
            "150/150 [==============================] - 0s 3ms/step - loss: 0.3087 - accuracy: 0.8629 - val_loss: 0.5983 - val_accuracy: 0.7000\n",
            "Epoch 14/20\n",
            "150/150 [==============================] - 0s 3ms/step - loss: 0.3065 - accuracy: 0.8579 - val_loss: 0.4928 - val_accuracy: 0.7667\n",
            "Epoch 15/20\n",
            "150/150 [==============================] - 0s 3ms/step - loss: 0.3059 - accuracy: 0.8679 - val_loss: 0.5074 - val_accuracy: 0.7533\n",
            "Epoch 16/20\n",
            "150/150 [==============================] - 0s 3ms/step - loss: 0.3046 - accuracy: 0.8679 - val_loss: 0.5186 - val_accuracy: 0.7667\n",
            "Epoch 17/20\n",
            "150/150 [==============================] - 0s 3ms/step - loss: 0.3047 - accuracy: 0.8662 - val_loss: 0.5284 - val_accuracy: 0.7733\n",
            "Epoch 18/20\n",
            "150/150 [==============================] - 0s 3ms/step - loss: 0.3003 - accuracy: 0.8696 - val_loss: 0.4936 - val_accuracy: 0.7733\n",
            "Epoch 19/20\n",
            "150/150 [==============================] - 0s 3ms/step - loss: 0.2987 - accuracy: 0.8796 - val_loss: 0.4855 - val_accuracy: 0.7667\n",
            "Epoch 20/20\n",
            "150/150 [==============================] - 0s 3ms/step - loss: 0.2940 - accuracy: 0.8829 - val_loss: 0.4860 - val_accuracy: 0.7667\n"
          ],
          "name": "stdout"
        },
        {
          "output_type": "execute_result",
          "data": {
            "text/plain": [
              "<tensorflow.python.keras.callbacks.History at 0x7fd52cdbfb38>"
            ]
          },
          "metadata": {
            "tags": []
          },
          "execution_count": 65
        }
      ]
    },
    {
      "cell_type": "markdown",
      "metadata": {
        "id": "adTBgToE0ooC"
      },
      "source": [
        "### Confusion Matrix Plot"
      ]
    },
    {
      "cell_type": "code",
      "metadata": {
        "id": "P6uhzlcSx2gZ"
      },
      "source": [
        " #!pip install mlxtend"
      ],
      "execution_count": 76,
      "outputs": []
    },
    {
      "cell_type": "code",
      "metadata": {
        "colab": {
          "base_uri": "https://localhost:8080/"
        },
        "id": "vhF1-WK5pGop",
        "outputId": "50cfe835-9d39-4a46-9864-30cb6b21e748"
      },
      "source": [
        "X_test.shape,y_test.shape"
      ],
      "execution_count": 78,
      "outputs": [
        {
          "output_type": "execute_result",
          "data": {
            "text/plain": [
              "((150, 300), (150,))"
            ]
          },
          "metadata": {
            "tags": []
          },
          "execution_count": 78
        }
      ]
    },
    {
      "cell_type": "code",
      "metadata": {
        "id": "ZZ78JCFax2bS"
      },
      "source": [
        "y_pred = (model.predict(X_test) > 0.5).astype(np.uint8)"
      ],
      "execution_count": 74,
      "outputs": []
    },
    {
      "cell_type": "code",
      "metadata": {
        "colab": {
          "base_uri": "https://localhost:8080/"
        },
        "id": "UieTrEO6x2UZ",
        "outputId": "0e1713b5-0f6c-4180-d83f-5e6f192d8fc4"
      },
      "source": [
        "confusion_matrix(y_test, y_pred)"
      ],
      "execution_count": 79,
      "outputs": [
        {
          "output_type": "execute_result",
          "data": {
            "text/plain": [
              "array([[54, 19],\n",
              "       [16, 61]])"
            ]
          },
          "metadata": {
            "tags": []
          },
          "execution_count": 79
        }
      ]
    },
    {
      "cell_type": "code",
      "metadata": {
        "id": "dGbg_1RSx2Sh"
      },
      "source": [
        "from mlxtend.plotting import plot_confusion_matrix"
      ],
      "execution_count": 81,
      "outputs": []
    },
    {
      "cell_type": "code",
      "metadata": {
        "colab": {
          "base_uri": "https://localhost:8080/",
          "height": 279
        },
        "id": "oQ_upqxix2Mr",
        "outputId": "14599e6a-7ceb-4357-ff7d-a075d69e4623"
      },
      "source": [
        "plot_confusion_matrix(confusion_matrix(y_test, y_pred))\n",
        "plt.show()"
      ],
      "execution_count": 82,
      "outputs": [
        {
          "output_type": "display_data",
          "data": {
            "image/png": "[encoded data removed]",
            "text/plain": [
              "<Figure size 432x288 with 1 Axes>"
            ]
          },
          "metadata": {
            "tags": [],
            "needs_background": "light"
          }
        }
      ]
    },
    {
      "cell_type": "code",
      "metadata": {
        "colab": {
          "base_uri": "https://localhost:8080/"
        },
        "id": "Jggls4tsx2Kn",
        "outputId": "ffffdb79-439c-4d69-fb7a-2b120a7b1540"
      },
      "source": [
        "print(classification_report(y_test, y_pred))"
      ],
      "execution_count": 83,
      "outputs": [
        {
          "output_type": "stream",
          "text": [
            "              precision    recall  f1-score   support\n",
            "\n",
            "           0       0.77      0.74      0.76        73\n",
            "           1       0.76      0.79      0.78        77\n",
            "\n",
            "    accuracy                           0.77       150\n",
            "   macro avg       0.77      0.77      0.77       150\n",
            "weighted avg       0.77      0.77      0.77       150\n",
            "\n"
          ],
          "name": "stdout"
        }
      ]
    },
    {
      "cell_type": "markdown",
      "metadata": {
        "id": "QNzruATD19Tn"
      },
      "source": [
        "### Setting Custom Threshold"
      ]
    },
    {
      "cell_type": "code",
      "metadata": {
        "id": "TeE5C2D4x2Da"
      },
      "source": [
        "from sklearn.metrics import precision_score, recall_score"
      ],
      "execution_count": 84,
      "outputs": []
    },
    {
      "cell_type": "code",
      "metadata": {
        "id": "pQ7hcGOux2A1"
      },
      "source": [
        "y_pred = model.predict(X_test)"
      ],
      "execution_count": 85,
      "outputs": []
    },
    {
      "cell_type": "code",
      "metadata": {
        "colab": {
          "base_uri": "https://localhost:8080/"
        },
        "id": "tsYXf7gmx1-7",
        "outputId": "e17ee224-5eb9-4639-cfc4-204ead3dd636"
      },
      "source": [
        "for i in [0.30, 0.35, 0.40, 0.45, 0.50, 0.55, 0.60, 0.65, 0.70, 0.75]:\n",
        "  classes = [1 if val>i else 0 for val in y_pred]\n",
        "  print(f\"i : {i}  precision : {precision_score(y_test, classes)}, recall : {recall_score(y_test, classes)}\")"
      ],
      "execution_count": 87,
      "outputs": [
        {
          "output_type": "stream",
          "text": [
            "i : 0.3  precision : 0.7216494845360825, recall : 0.9090909090909091\n",
            "i : 0.35  precision : 0.717391304347826, recall : 0.8571428571428571\n",
            "i : 0.4  precision : 0.7325581395348837, recall : 0.8181818181818182\n",
            "i : 0.45  precision : 0.7682926829268293, recall : 0.8181818181818182\n",
            "i : 0.5  precision : 0.7625, recall : 0.7922077922077922\n",
            "i : 0.55  precision : 0.8082191780821918, recall : 0.7662337662337663\n",
            "i : 0.6  precision : 0.835820895522388, recall : 0.7272727272727273\n",
            "i : 0.65  precision : 0.859375, recall : 0.7142857142857143\n",
            "i : 0.7  precision : 0.8888888888888888, recall : 0.6233766233766234\n",
            "i : 0.75  precision : 0.9, recall : 0.5844155844155844\n"
          ],
          "name": "stdout"
        }
      ]
    },
    {
      "cell_type": "code",
      "metadata": {
        "id": "WrioPJRmx18f"
      },
      "source": [
        "classes = [1 if val>0.6 else 0 for val in y_pred]"
      ],
      "execution_count": 88,
      "outputs": []
    },
    {
      "cell_type": "code",
      "metadata": {
        "colab": {
          "base_uri": "https://localhost:8080/",
          "height": 279
        },
        "id": "e06QDXGBu3v5",
        "outputId": "c7790ddf-5406-40b5-ac09-3df18e6f5c9f"
      },
      "source": [
        "plot_confusion_matrix(confusion_matrix(y_test, classes))\n",
        "plt.show()"
      ],
      "execution_count": 89,
      "outputs": [
        {
          "output_type": "display_data",
          "data": {
            "image/png": "[encoded data removed]",
            "text/plain": [
              "<Figure size 432x288 with 1 Axes>"
            ]
          },
          "metadata": {
            "tags": [],
            "needs_background": "light"
          }
        }
      ]
    },
    {
      "cell_type": "markdown",
      "metadata": {
        "id": "qRZiRQK-4YnC"
      },
      "source": [
        "## 1D CNN Model Building and Training"
      ]
    },
    {
      "cell_type": "code",
      "metadata": {
        "id": "nYGHg_Gpu2-e"
      },
      "source": [
        "from tensorflow.keras import Sequential\n",
        "from tensorflow.keras.layers import Flatten, Dense, Conv1D, BatchNormalization, Dropout"
      ],
      "execution_count": 90,
      "outputs": []
    },
    {
      "cell_type": "code",
      "metadata": {
        "colab": {
          "base_uri": "https://localhost:8080/"
        },
        "id": "1eZtfaUq4c1G",
        "outputId": "a7cb2844-ad26-47af-e869-4549c311e664"
      },
      "source": [
        "X_train.shape"
      ],
      "execution_count": 91,
      "outputs": [
        {
          "output_type": "execute_result",
          "data": {
            "text/plain": [
              "(598, 300)"
            ]
          },
          "metadata": {
            "tags": []
          },
          "execution_count": 91
        }
      ]
    },
    {
      "cell_type": "code",
      "metadata": {
        "id": "kRG4MSLf4c9Y"
      },
      "source": [
        "X_train = X_train.reshape(X_train.shape[0], X_train.shape[1], 1)\n",
        "X_test = X_test.reshape(X_test.shape[0], X_test.shape[1], 1)\n"
      ],
      "execution_count": 92,
      "outputs": []
    },
    {
      "cell_type": "code",
      "metadata": {
        "colab": {
          "base_uri": "https://localhost:8080/"
        },
        "id": "tgrguDXE4dFS",
        "outputId": "262940eb-0160-4986-99f7-9486a3e95ce8"
      },
      "source": [
        "X_train.shape, X_test.shape"
      ],
      "execution_count": 93,
      "outputs": [
        {
          "output_type": "execute_result",
          "data": {
            "text/plain": [
              "((598, 300, 1), (150, 300, 1))"
            ]
          },
          "metadata": {
            "tags": []
          },
          "execution_count": 93
        }
      ]
    },
    {
      "cell_type": "code",
      "metadata": {
        "id": "aremOaFY4dbH"
      },
      "source": [
        "model = Sequential()\n",
        "model.add(Conv1D(32, 2, activation='relu', input_shape = X_train[0].shape))\n",
        "model.add(BatchNormalization())\n",
        "model.add(Dropout(0.2))\n",
        "\n",
        "model.add(Flatten())\n",
        "model.add(Dense(64, activation='relu'))\n",
        "model.add(Dropout(0.3))\n",
        "\n",
        "model.add(Dense(1, activation='sigmoid'))"
      ],
      "execution_count": 94,
      "outputs": []
    },
    {
      "cell_type": "code",
      "metadata": {
        "colab": {
          "base_uri": "https://localhost:8080/"
        },
        "id": "Wd7bY_qO4dfW",
        "outputId": "e5c585d9-dc4f-49c8-8aac-ce13b9c2aedd"
      },
      "source": [
        "model.summary()"
      ],
      "execution_count": 95,
      "outputs": [
        {
          "output_type": "stream",
          "text": [
            "Model: \"sequential_1\"\n",
            "_________________________________________________________________\n",
            "Layer (type)                 Output Shape              Param #   \n",
            "=================================================================\n",
            "conv1d (Conv1D)              (None, 299, 32)           96        \n",
            "_________________________________________________________________\n",
            "batch_normalization (BatchNo (None, 299, 32)           128       \n",
            "_________________________________________________________________\n",
            "dropout (Dropout)            (None, 299, 32)           0         \n",
            "_________________________________________________________________\n",
            "flatten (Flatten)            (None, 9568)              0         \n",
            "_________________________________________________________________\n",
            "dense_13 (Dense)             (None, 64)                612416    \n",
            "_________________________________________________________________\n",
            "dropout_1 (Dropout)          (None, 64)                0         \n",
            "_________________________________________________________________\n",
            "dense_14 (Dense)             (None, 1)                 65        \n",
            "=================================================================\n",
            "Total params: 612,705\n",
            "Trainable params: 612,641\n",
            "Non-trainable params: 64\n",
            "_________________________________________________________________\n"
          ],
          "name": "stdout"
        }
      ]
    },
    {
      "cell_type": "code",
      "metadata": {
        "colab": {
          "base_uri": "https://localhost:8080/"
        },
        "id": "5sX37hUa4dBq",
        "outputId": "6b74bb91-3e68-443c-e367-158fb48bcaff"
      },
      "source": [
        "epochs = 20\n",
        "model.compile(optimizer=Adam(0.00001), loss = 'binary_crossentropy', metrics= ['accuracy'])\n",
        "history = model.fit(X_train, y_train, epochs = epochs, validation_data=(X_test, y_test))"
      ],
      "execution_count": 96,
      "outputs": [
        {
          "output_type": "stream",
          "text": [
            "Epoch 1/20\n",
            "19/19 [==============================] - 6s 15ms/step - loss: 0.7258 - accuracy: 0.5319 - val_loss: 0.6892 - val_accuracy: 0.5067\n",
            "Epoch 2/20\n",
            "19/19 [==============================] - 0s 6ms/step - loss: 0.6967 - accuracy: 0.5567 - val_loss: 0.6872 - val_accuracy: 0.5067\n",
            "Epoch 3/20\n",
            "19/19 [==============================] - 0s 5ms/step - loss: 0.6315 - accuracy: 0.6263 - val_loss: 0.6851 - val_accuracy: 0.5133\n",
            "Epoch 4/20\n",
            "19/19 [==============================] - 0s 5ms/step - loss: 0.5843 - accuracy: 0.6711 - val_loss: 0.6826 - val_accuracy: 0.5067\n",
            "Epoch 5/20\n",
            "19/19 [==============================] - 0s 5ms/step - loss: 0.5550 - accuracy: 0.7045 - val_loss: 0.6800 - val_accuracy: 0.5333\n",
            "Epoch 6/20\n",
            "19/19 [==============================] - 0s 14ms/step - loss: 0.5603 - accuracy: 0.7134 - val_loss: 0.6769 - val_accuracy: 0.5800\n",
            "Epoch 7/20\n",
            "19/19 [==============================] - 0s 5ms/step - loss: 0.5577 - accuracy: 0.7213 - val_loss: 0.6731 - val_accuracy: 0.6200\n",
            "Epoch 8/20\n",
            "19/19 [==============================] - 0s 5ms/step - loss: 0.5172 - accuracy: 0.7568 - val_loss: 0.6693 - val_accuracy: 0.6333\n",
            "Epoch 9/20\n",
            "19/19 [==============================] - 0s 5ms/step - loss: 0.5072 - accuracy: 0.7755 - val_loss: 0.6648 - val_accuracy: 0.6400\n",
            "Epoch 10/20\n",
            "19/19 [==============================] - 0s 5ms/step - loss: 0.5127 - accuracy: 0.7224 - val_loss: 0.6604 - val_accuracy: 0.7000\n",
            "Epoch 11/20\n",
            "19/19 [==============================] - 0s 5ms/step - loss: 0.4786 - accuracy: 0.7975 - val_loss: 0.6550 - val_accuracy: 0.6933\n",
            "Epoch 12/20\n",
            "19/19 [==============================] - 0s 5ms/step - loss: 0.4708 - accuracy: 0.7880 - val_loss: 0.6496 - val_accuracy: 0.7200\n",
            "Epoch 13/20\n",
            "19/19 [==============================] - 0s 5ms/step - loss: 0.4819 - accuracy: 0.7730 - val_loss: 0.6434 - val_accuracy: 0.7200\n",
            "Epoch 14/20\n",
            "19/19 [==============================] - 0s 5ms/step - loss: 0.4199 - accuracy: 0.7882 - val_loss: 0.6367 - val_accuracy: 0.7267\n",
            "Epoch 15/20\n",
            "19/19 [==============================] - 0s 5ms/step - loss: 0.4159 - accuracy: 0.8169 - val_loss: 0.6290 - val_accuracy: 0.7333\n",
            "Epoch 16/20\n",
            "19/19 [==============================] - 0s 5ms/step - loss: 0.4149 - accuracy: 0.8078 - val_loss: 0.6217 - val_accuracy: 0.7467\n",
            "Epoch 17/20\n",
            "19/19 [==============================] - 0s 5ms/step - loss: 0.4293 - accuracy: 0.8132 - val_loss: 0.6134 - val_accuracy: 0.7400\n",
            "Epoch 18/20\n",
            "19/19 [==============================] - 0s 5ms/step - loss: 0.4183 - accuracy: 0.8103 - val_loss: 0.6038 - val_accuracy: 0.7533\n",
            "Epoch 19/20\n",
            "19/19 [==============================] - 0s 6ms/step - loss: 0.3857 - accuracy: 0.8384 - val_loss: 0.5944 - val_accuracy: 0.7533\n",
            "Epoch 20/20\n",
            "19/19 [==============================] - 0s 5ms/step - loss: 0.3875 - accuracy: 0.8366 - val_loss: 0.5850 - val_accuracy: 0.7533\n"
          ],
          "name": "stdout"
        }
      ]
    },
    {
      "cell_type": "markdown",
      "metadata": {
        "id": "yXq3Zsb77ZaP"
      },
      "source": [
        "### Plot Learning Curve"
      ]
    },
    {
      "cell_type": "code",
      "metadata": {
        "colab": {
          "base_uri": "https://localhost:8080/"
        },
        "id": "x_wb4BRF7f5j",
        "outputId": "585ac52e-b513-40cb-b5c1-dd345a1a29c8"
      },
      "source": [
        "history.history.keys()"
      ],
      "execution_count": 97,
      "outputs": [
        {
          "output_type": "execute_result",
          "data": {
            "text/plain": [
              "dict_keys(['loss', 'accuracy', 'val_loss', 'val_accuracy'])"
            ]
          },
          "metadata": {
            "tags": []
          },
          "execution_count": 97
        }
      ]
    },
    {
      "cell_type": "code",
      "metadata": {
        "id": "XvXVCjE07fqd"
      },
      "source": [
        ""
      ],
      "execution_count": null,
      "outputs": []
    },
    {
      "cell_type": "code",
      "metadata": {
        "id": "Gy0xUiD24c7M"
      },
      "source": [
        "def plot_learningCurve(history, epoch):\n",
        "  # Plot training & validation accuracy values\n",
        "  epoch_range = range(1, epoch+1)\n",
        "  plt.plot(epoch_range, history.history['accuracy'])\n",
        "  plt.plot(epoch_range, history.history['val_accuracy'])\n",
        "  plt.title('Model accuracy')\n",
        "  plt.ylabel('Accuracy')\n",
        "  plt.xlabel('Epoch')\n",
        "  plt.legend(['Train', 'Val'], loc='upper left')\n",
        "  plt.show()\n",
        "\n",
        "  # Plot training & validation loss values\n",
        "  plt.plot(epoch_range, history.history['loss'])\n",
        "  plt.plot(epoch_range, history.history['val_loss'])\n",
        "  plt.title('Model loss')\n",
        "  plt.ylabel('Loss')\n",
        "  plt.xlabel('Epoch')\n",
        "  plt.legend(['Train', 'Val'], loc='upper left')\n",
        "  plt.show()"
      ],
      "execution_count": 98,
      "outputs": []
    },
    {
      "cell_type": "code",
      "metadata": {
        "colab": {
          "base_uri": "https://localhost:8080/",
          "height": 573
        },
        "id": "bzPJBT_W7X6T",
        "outputId": "8f6d0979-b656-4d73-dcf1-c4f5f92d7c1a"
      },
      "source": [
        "plot_learningCurve(history, epochs)"
      ],
      "execution_count": 99,
      "outputs": [
        {
          "output_type": "display_data",
          "data": {
            "image/png": "[encoded data removed]",
            "text/plain": [
              "<Figure size 432x288 with 1 Axes>"
            ]
          },
          "metadata": {
            "tags": [],
            "needs_background": "light"
          }
        },
        {
          "output_type": "display_data",
          "data": {
            "image/png": "[encoded data removed]",
            "text/plain": [
              "<Figure size 432x288 with 1 Axes>"
            ]
          },
          "metadata": {
            "tags": [],
            "needs_background": "light"
          }
        }
      ]
    },
    {
      "cell_type": "markdown",
      "metadata": {
        "id": "UVDXTpOk8wq5"
      },
      "source": [
        "### Model Load, Store and Testing"
      ]
    },
    {
      "cell_type": "code",
      "metadata": {
        "colab": {
          "base_uri": "https://localhost:8080/",
          "height": 372
        },
        "id": "j7Mp5zJF9ZWz",
        "outputId": "459cb3d4-4692-46f0-bf82-bc34f7793682"
      },
      "source": [
        "plot_confusion_matrix(confusion_matrix(y_test, model.predict_classes(X_test)))"
      ],
      "execution_count": 100,
      "outputs": [
        {
          "output_type": "stream",
          "text": [
            "/usr/local/lib/python3.6/dist-packages/tensorflow/python/keras/engine/sequential.py:450: UserWarning: `model.predict_classes()` is deprecated and will be removed after 2021-01-01. Please use instead:* `np.argmax(model.predict(x), axis=-1)`,   if your model does multi-class classification   (e.g. if it uses a `softmax` last-layer activation).* `(model.predict(x) > 0.5).astype(\"int32\")`,   if your model does binary classification   (e.g. if it uses a `sigmoid` last-layer activation).\n",
            "  warnings.warn('`model.predict_classes()` is deprecated and '\n"
          ],
          "name": "stderr"
        },
        {
          "output_type": "execute_result",
          "data": {
            "text/plain": [
              "(<Figure size 432x288 with 1 Axes>,\n",
              " <matplotlib.axes._subplots.AxesSubplot at 0x7fd539facf98>)"
            ]
          },
          "metadata": {
            "tags": []
          },
          "execution_count": 100
        },
        {
          "output_type": "display_data",
          "data": {
            "image/png": "[encoded data removed]",
            "text/plain": [
              "<Figure size 432x288 with 1 Axes>"
            ]
          },
          "metadata": {
            "tags": [],
            "needs_background": "light"
          }
        }
      ]
    },
    {
      "cell_type": "code",
      "metadata": {
        "id": "zutWLn3m7YAR"
      },
      "source": [
        "from tensorflow.keras.models import load_model"
      ],
      "execution_count": 101,
      "outputs": []
    },
    {
      "cell_type": "code",
      "metadata": {
        "id": "lVWagbDF7YI_"
      },
      "source": [
        "model.save('cnn', save_format='h5')"
      ],
      "execution_count": 102,
      "outputs": []
    },
    {
      "cell_type": "code",
      "metadata": {
        "id": "wWL3YXHL7YPQ"
      },
      "source": [
        "model = load_model('cnn')"
      ],
      "execution_count": 103,
      "outputs": []
    },
    {
      "cell_type": "code",
      "metadata": {
        "colab": {
          "base_uri": "https://localhost:8080/"
        },
        "id": "IXZko_Mf-JqJ",
        "outputId": "4921e7e2-2e68-471e-c5fe-fb8343d68430"
      },
      "source": [
        "X_test[0].shape"
      ],
      "execution_count": 104,
      "outputs": [
        {
          "output_type": "execute_result",
          "data": {
            "text/plain": [
              "(300, 1)"
            ]
          },
          "metadata": {
            "tags": []
          },
          "execution_count": 104
        }
      ]
    },
    {
      "cell_type": "code",
      "metadata": {
        "id": "QMbVx2L07YNF"
      },
      "source": [
        "def get_pred(x, model, scaler):\n",
        "  x = get_clean(x)\n",
        "  vec = get_vec(x).reshape(1, -1)\n",
        "\n",
        "  vec = scaler.transform(vec)\n",
        "\n",
        "  vec = vec.reshape(1, 300, 1)\n",
        "  \n",
        "  y_pred = model.predict_classes(vec)\n",
        "\n",
        "  return y_pred\n"
      ],
      "execution_count": 113,
      "outputs": []
    },
    {
      "cell_type": "code",
      "metadata": {
        "colab": {
          "base_uri": "https://localhost:8080/"
        },
        "id": "PoaDqkYz7X-d",
        "outputId": "50a14c3b-1966-42ca-b911-c1d47de4a632"
      },
      "source": [
        "x = 'it was a nice movie. thanks for making it'\n",
        "get_pred(x, model, scaler)"
      ],
      "execution_count": 114,
      "outputs": [
        {
          "output_type": "stream",
          "text": [
            "/usr/local/lib/python3.6/dist-packages/tensorflow/python/keras/engine/sequential.py:450: UserWarning: `model.predict_classes()` is deprecated and will be removed after 2021-01-01. Please use instead:* `np.argmax(model.predict(x), axis=-1)`,   if your model does multi-class classification   (e.g. if it uses a `softmax` last-layer activation).* `(model.predict(x) > 0.5).astype(\"int32\")`,   if your model does binary classification   (e.g. if it uses a `sigmoid` last-layer activation).\n",
            "  warnings.warn('`model.predict_classes()` is deprecated and '\n"
          ],
          "name": "stderr"
        },
        {
          "output_type": "execute_result",
          "data": {
            "text/plain": [
              "array([[1]], dtype=int32)"
            ]
          },
          "metadata": {
            "tags": []
          },
          "execution_count": 114
        }
      ]
    }
  ]
}