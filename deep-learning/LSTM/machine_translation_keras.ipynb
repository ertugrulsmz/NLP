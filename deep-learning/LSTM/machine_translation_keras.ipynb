{
  "nbformat": 4,
  "nbformat_minor": 0,
  "metadata": {
    "colab": {
      "name": "machine-translation-keras.ipynb",
      "provenance": [],
      "collapsed_sections": []
    },
    "kernelspec": {
      "name": "python3",
      "display_name": "Python 3"
    },
    "language_info": {
      "name": "python"
    },
    "accelerator": "GPU"
  },
  "cells": [
    {
      "cell_type": "code",
      "metadata": {
        "id": "aFUMEZrcRXdj"
      },
      "source": [
        "import numpy as np\n",
        "import tensorflow as tf\n",
        "from tensorflow import keras"
      ],
      "execution_count": 1,
      "outputs": []
    },
    {
      "cell_type": "code",
      "metadata": {
        "colab": {
          "base_uri": "https://localhost:8080/"
        },
        "id": "swXD9-p7RaID",
        "outputId": "63ef156e-adf1-48ef-ee1c-923126106af0"
      },
      "source": [
        "!!curl -O http://www.manythings.org/anki/fra-eng.zip\n",
        "!!unzip fra-eng.zip"
      ],
      "execution_count": 2,
      "outputs": [
        {
          "output_type": "execute_result",
          "data": {
            "text/plain": [
              "['Archive:  fra-eng.zip',\n",
              " '  inflating: _about.txt              ',\n",
              " '  inflating: fra.txt                 ']"
            ]
          },
          "metadata": {
            "tags": []
          },
          "execution_count": 2
        }
      ]
    },
    {
      "cell_type": "code",
      "metadata": {
        "id": "ulFJLcDQRcsQ"
      },
      "source": [
        "batch_size = 64  # Batch size for training.\n",
        "epochs = 50  # Number of epochs to train for.\n",
        "latent_dim = 256  # Latent dimensionality of the encoding space.\n",
        "num_samples = 10000  # Number of samples to train on.\n",
        "# Path to the data txt file on disk.\n",
        "data_path = \"fra.txt\""
      ],
      "execution_count": 4,
      "outputs": []
    },
    {
      "cell_type": "code",
      "metadata": {
        "colab": {
          "base_uri": "https://localhost:8080/"
        },
        "id": "NrLg2Oy6RuhM",
        "outputId": "625edbdd-f64d-4bed-f329-ebafb4d53b62"
      },
      "source": [
        "input_texts = []\n",
        "target_texts = []\n",
        "input_characters = set()\n",
        "target_characters = set()\n",
        "with open(data_path, \"r\", encoding=\"utf-8\") as f:\n",
        "    lines = f.read().split(\"\\n\")\n",
        "for line in lines[: min(num_samples, len(lines) - 1)]:\n",
        "    input_text, target_text, _ = line.split(\"\\t\")\n",
        "    # We use \"tab\" as the \"start sequence\" character\n",
        "    # for the targets, and \"\\n\" as \"end sequence\" character.\n",
        "    target_text = \"\\t\" + target_text + \"\\n\"\n",
        "    input_texts.append(input_text)\n",
        "    target_texts.append(target_text)\n",
        "    for char in input_text:\n",
        "        if char not in input_characters:\n",
        "            input_characters.add(char)\n",
        "    for char in target_text:\n",
        "        if char not in target_characters:\n",
        "            target_characters.add(char)\n",
        "\n",
        "input_characters = sorted(list(input_characters))\n",
        "target_characters = sorted(list(target_characters))\n",
        "num_encoder_tokens = len(input_characters)\n",
        "num_decoder_tokens = len(target_characters)\n",
        "max_encoder_seq_length = max([len(txt) for txt in input_texts])\n",
        "max_decoder_seq_length = max([len(txt) for txt in target_texts])\n",
        "\n",
        "print(\"Number of samples:\", len(input_texts))\n",
        "print(\"Number of unique input tokens:\", num_encoder_tokens)\n",
        "print(\"Number of unique output tokens:\", num_decoder_tokens)\n",
        "print(\"Max sequence length for inputs:\", max_encoder_seq_length)\n",
        "print(\"Max sequence length for outputs:\", max_decoder_seq_length)"
      ],
      "execution_count": 5,
      "outputs": [
        {
          "output_type": "stream",
          "text": [
            "Number of samples: 10000\n",
            "Number of unique input tokens: 71\n",
            "Number of unique output tokens: 93\n",
            "Max sequence length for inputs: 15\n",
            "Max sequence length for outputs: 59\n"
          ],
          "name": "stdout"
        }
      ]
    },
    {
      "cell_type": "code",
      "metadata": {
        "colab": {
          "base_uri": "https://localhost:8080/"
        },
        "id": "l1BS8RhfR0tQ",
        "outputId": "9ff7231f-41e4-4c19-d3c5-6be2ad4e2a45"
      },
      "source": [
        "input_texts[0:3], target_texts[0:3]"
      ],
      "execution_count": 6,
      "outputs": [
        {
          "output_type": "execute_result",
          "data": {
            "text/plain": [
              "(['Go.', 'Go.', 'Go.'], ['\\tVa !\\n', '\\tMarche.\\n', '\\tBouge !\\n'])"
            ]
          },
          "metadata": {
            "tags": []
          },
          "execution_count": 6
        }
      ]
    },
    {
      "cell_type": "code",
      "metadata": {
        "id": "CcE4ekGkR_Xw"
      },
      "source": [
        "input_token_index = dict([(char, i) for i, char in enumerate(input_characters)])\n",
        "target_token_index = dict([(char, i) for i, char in enumerate(target_characters)])"
      ],
      "execution_count": 7,
      "outputs": []
    },
    {
      "cell_type": "code",
      "metadata": {
        "colab": {
          "base_uri": "https://localhost:8080/"
        },
        "id": "wElMa3ehTAzB",
        "outputId": "c6a25a9a-0f80-4e7d-bdc4-0f446a034eca"
      },
      "source": [
        "encoder_input_data = np.zeros(\n",
        "    (len(input_texts), max_encoder_seq_length, num_encoder_tokens), dtype=\"float32\"\n",
        ")\n",
        "decoder_input_data = np.zeros(\n",
        "    (len(input_texts), max_decoder_seq_length, num_decoder_tokens), dtype=\"float32\"\n",
        ")\n",
        "decoder_target_data = np.zeros(\n",
        "    (len(input_texts), max_decoder_seq_length, num_decoder_tokens), dtype=\"float32\"\n",
        ")\n",
        "\n",
        "encoder_input_data.shape, decoder_input_data.shape, decoder_target_data.shape"
      ],
      "execution_count": 45,
      "outputs": [
        {
          "output_type": "execute_result",
          "data": {
            "text/plain": [
              "((10000, 15, 71), (10000, 59, 93), (10000, 59, 93))"
            ]
          },
          "metadata": {
            "tags": []
          },
          "execution_count": 45
        }
      ]
    },
    {
      "cell_type": "code",
      "metadata": {
        "id": "jVUmb1Z7TP4Q"
      },
      "source": [
        "for i, (input_text, target_text) in enumerate(zip(input_texts, target_texts)):\n",
        "    for t, char in enumerate(input_text):\n",
        "        encoder_input_data[i, t, input_token_index[char]] = 1.0\n",
        "    encoder_input_data[i, t + 1 :, input_token_index[\" \"]] = 1.0\n",
        "\n",
        "    for t, char in enumerate(target_text):\n",
        "        # decoder_target_data is ahead of decoder_input_data by one timestep\n",
        "        decoder_input_data[i, t, target_token_index[char]] = 1.0\n",
        "        if t > 0:\n",
        "            # decoder_target_data will be ahead by one timestep\n",
        "            # and will not include the start character.\n",
        "          \n",
        "            decoder_target_data[i, t - 1, target_token_index[char]] = 1.0\n",
        "  \n",
        "    decoder_input_data[i, t + 1 :, target_token_index[\" \"]] = 1.0 # !!!  t + 1 : keep fill till end\n",
        "    decoder_target_data[i, t:, target_token_index[\" \"]] = 1.0 # !! t :  keep fill till end\n",
        "    "
      ],
      "execution_count": 49,
      "outputs": []
    },
    {
      "cell_type": "code",
      "metadata": {
        "colab": {
          "base_uri": "https://localhost:8080/"
        },
        "id": "pDdauiHHhgJy",
        "outputId": "dcfc69fb-8b40-4fbb-82fc-5f006ae4fb38"
      },
      "source": [
        "for i in range(10):\n",
        "  print(i)\n",
        "\n",
        "print(\"i : \",i) # --> that is different than for(i=0;i<10;i++) then print(i) "
      ],
      "execution_count": 52,
      "outputs": [
        {
          "output_type": "stream",
          "text": [
            "0\n",
            "1\n",
            "2\n",
            "3\n",
            "4\n",
            "5\n",
            "6\n",
            "7\n",
            "8\n",
            "9\n",
            "i :  9\n"
          ],
          "name": "stdout"
        }
      ]
    },
    {
      "cell_type": "markdown",
      "metadata": {
        "id": "zsTc2LZ9g3AR"
      },
      "source": [
        "### decoder_input : \\t x y z t n 'space' 'space' ....\n",
        "### decoder_target : x y z t n 'space' 'space' ..."
      ]
    },
    {
      "cell_type": "code",
      "metadata": {
        "id": "4FNBrtQ_Ulig"
      },
      "source": [
        "encoder_inputs = keras.Input(shape=(None, num_encoder_tokens))\n",
        "encoder = keras.layers.LSTM(latent_dim, return_state=True)\n",
        "encoder_outputs, state_h, state_c = encoder(encoder_inputs)\n",
        "\n",
        "# We discard `encoder_outputs` and only keep the states.\n",
        "encoder_states = [state_h, state_c]\n",
        "\n",
        "# Set up the decoder, using `encoder_states` as initial state.\n",
        "decoder_inputs = keras.Input(shape=(None, num_decoder_tokens))\n",
        "\n",
        "# We set up our decoder to return full output sequences,\n",
        "# and to return internal states as well. We don't use the\n",
        "# return states in the training model, but we will use them in inference.\n",
        "decoder_lstm = keras.layers.LSTM(latent_dim, return_sequences=True, return_state=True)\n",
        "decoder_outputs, _, _ = decoder_lstm(decoder_inputs, initial_state=encoder_states)\n",
        "decoder_dense = keras.layers.Dense(num_decoder_tokens, activation=\"softmax\")\n",
        "decoder_outputs = decoder_dense(decoder_outputs)\n",
        "\n",
        "# Define the model that will turn\n",
        "# `encoder_input_data` & `decoder_input_data` into `decoder_target_data`\n",
        "model = keras.Model([encoder_inputs, decoder_inputs], decoder_outputs)"
      ],
      "execution_count": 10,
      "outputs": []
    },
    {
      "cell_type": "code",
      "metadata": {
        "colab": {
          "base_uri": "https://localhost:8080/"
        },
        "id": "P77ud9owWIrA",
        "outputId": "35c317d8-98e9-448c-9852-5ed51a4e3c18"
      },
      "source": [
        "model.summary()"
      ],
      "execution_count": 11,
      "outputs": [
        {
          "output_type": "stream",
          "text": [
            "Model: \"model\"\n",
            "__________________________________________________________________________________________________\n",
            "Layer (type)                    Output Shape         Param #     Connected to                     \n",
            "==================================================================================================\n",
            "input_1 (InputLayer)            [(None, None, 71)]   0                                            \n",
            "__________________________________________________________________________________________________\n",
            "input_2 (InputLayer)            [(None, None, 93)]   0                                            \n",
            "__________________________________________________________________________________________________\n",
            "lstm (LSTM)                     [(None, 256), (None, 335872      input_1[0][0]                    \n",
            "__________________________________________________________________________________________________\n",
            "lstm_1 (LSTM)                   [(None, None, 256),  358400      input_2[0][0]                    \n",
            "                                                                 lstm[0][1]                       \n",
            "                                                                 lstm[0][2]                       \n",
            "__________________________________________________________________________________________________\n",
            "dense (Dense)                   (None, None, 93)     23901       lstm_1[0][0]                     \n",
            "==================================================================================================\n",
            "Total params: 718,173\n",
            "Trainable params: 718,173\n",
            "Non-trainable params: 0\n",
            "__________________________________________________________________________________________________\n"
          ],
          "name": "stdout"
        }
      ]
    },
    {
      "cell_type": "code",
      "metadata": {
        "colab": {
          "base_uri": "https://localhost:8080/",
          "height": 422
        },
        "id": "bfqcJIJsWK0h",
        "outputId": "2d2d153c-e194-45c7-a4e2-3953908f3935"
      },
      "source": [
        "from tensorflow.python.keras.utils.vis_utils import plot_model\n",
        "plot_model(model, show_shapes=True, show_layer_names=True)\n"
      ],
      "execution_count": 12,
      "outputs": [
        {
          "output_type": "execute_result",
          "data": {
            "image/png": "[encoded data removed]",
            "text/plain": [
              "<IPython.core.display.Image object>"
            ]
          },
          "metadata": {
            "tags": []
          },
          "execution_count": 12
        }
      ]
    },
    {
      "cell_type": "markdown",
      "metadata": {
        "id": "BlOjqJHRZAap"
      },
      "source": [
        "### split in fit no need for sklearn or pandas"
      ]
    },
    {
      "cell_type": "code",
      "metadata": {
        "colab": {
          "base_uri": "https://localhost:8080/"
        },
        "id": "LL4l020rWb_K",
        "outputId": "70c775cb-f792-4d45-aa8d-754ec2e8f595"
      },
      "source": [
        "model.compile(\n",
        "    optimizer=\"rmsprop\", loss=\"categorical_crossentropy\", metrics=[\"accuracy\"]\n",
        ")\n",
        "model.fit(\n",
        "    [encoder_input_data, decoder_input_data],\n",
        "    decoder_target_data,\n",
        "    batch_size=batch_size,\n",
        "    epochs=epochs,\n",
        "    validation_split=0.2,\n",
        ")\n",
        "# Save model\n",
        "model.save(\"s2s\")"
      ],
      "execution_count": 13,
      "outputs": [
        {
          "output_type": "stream",
          "text": [
            "Epoch 1/50\n",
            "125/125 [==============================] - 36s 19ms/step - loss: 1.5001 - accuracy: 0.7023 - val_loss: 1.0510 - val_accuracy: 0.7103\n",
            "Epoch 2/50\n",
            "125/125 [==============================] - 1s 12ms/step - loss: 0.8671 - accuracy: 0.7645 - val_loss: 0.8249 - val_accuracy: 0.7724\n",
            "Epoch 3/50\n",
            "125/125 [==============================] - 1s 12ms/step - loss: 0.7033 - accuracy: 0.8032 - val_loss: 0.7066 - val_accuracy: 0.7934\n",
            "Epoch 4/50\n",
            "125/125 [==============================] - 1s 12ms/step - loss: 0.5925 - accuracy: 0.8287 - val_loss: 0.6300 - val_accuracy: 0.8169\n",
            "Epoch 5/50\n",
            "125/125 [==============================] - 1s 12ms/step - loss: 0.5314 - accuracy: 0.8444 - val_loss: 0.5974 - val_accuracy: 0.8260\n",
            "Epoch 6/50\n",
            "125/125 [==============================] - 1s 12ms/step - loss: 0.4950 - accuracy: 0.8544 - val_loss: 0.5635 - val_accuracy: 0.8352\n",
            "Epoch 7/50\n",
            "125/125 [==============================] - 1s 12ms/step - loss: 0.4656 - accuracy: 0.8623 - val_loss: 0.5487 - val_accuracy: 0.8393\n",
            "Epoch 8/50\n",
            "125/125 [==============================] - 1s 12ms/step - loss: 0.4426 - accuracy: 0.8689 - val_loss: 0.5197 - val_accuracy: 0.8480\n",
            "Epoch 9/50\n",
            "125/125 [==============================] - 1s 12ms/step - loss: 0.4222 - accuracy: 0.8742 - val_loss: 0.5138 - val_accuracy: 0.8496\n",
            "Epoch 10/50\n",
            "125/125 [==============================] - 1s 12ms/step - loss: 0.4031 - accuracy: 0.8797 - val_loss: 0.4952 - val_accuracy: 0.8550\n",
            "Epoch 11/50\n",
            "125/125 [==============================] - 1s 12ms/step - loss: 0.3845 - accuracy: 0.8851 - val_loss: 0.4940 - val_accuracy: 0.8550\n",
            "Epoch 12/50\n",
            "125/125 [==============================] - 1s 12ms/step - loss: 0.3694 - accuracy: 0.8888 - val_loss: 0.4773 - val_accuracy: 0.8611\n",
            "Epoch 13/50\n",
            "125/125 [==============================] - 1s 12ms/step - loss: 0.3522 - accuracy: 0.8939 - val_loss: 0.4727 - val_accuracy: 0.8611\n",
            "Epoch 14/50\n",
            "125/125 [==============================] - 1s 12ms/step - loss: 0.3374 - accuracy: 0.8986 - val_loss: 0.4632 - val_accuracy: 0.8639\n",
            "Epoch 15/50\n",
            "125/125 [==============================] - 1s 12ms/step - loss: 0.3266 - accuracy: 0.9011 - val_loss: 0.4624 - val_accuracy: 0.8645\n",
            "Epoch 16/50\n",
            "125/125 [==============================] - 1s 12ms/step - loss: 0.3155 - accuracy: 0.9052 - val_loss: 0.4536 - val_accuracy: 0.8688\n",
            "Epoch 17/50\n",
            "125/125 [==============================] - 1s 12ms/step - loss: 0.3037 - accuracy: 0.9083 - val_loss: 0.4506 - val_accuracy: 0.8704\n",
            "Epoch 18/50\n",
            "125/125 [==============================] - 1s 12ms/step - loss: 0.2896 - accuracy: 0.9129 - val_loss: 0.4506 - val_accuracy: 0.8704\n",
            "Epoch 19/50\n",
            "125/125 [==============================] - 2s 12ms/step - loss: 0.2806 - accuracy: 0.9159 - val_loss: 0.4508 - val_accuracy: 0.8707\n",
            "Epoch 20/50\n",
            "125/125 [==============================] - 1s 12ms/step - loss: 0.2691 - accuracy: 0.9188 - val_loss: 0.4501 - val_accuracy: 0.8718\n",
            "Epoch 21/50\n",
            "125/125 [==============================] - 1s 12ms/step - loss: 0.2583 - accuracy: 0.9228 - val_loss: 0.4501 - val_accuracy: 0.8719\n",
            "Epoch 22/50\n",
            "125/125 [==============================] - 1s 12ms/step - loss: 0.2475 - accuracy: 0.9250 - val_loss: 0.4484 - val_accuracy: 0.8736\n",
            "Epoch 23/50\n",
            "125/125 [==============================] - 1s 12ms/step - loss: 0.2432 - accuracy: 0.9264 - val_loss: 0.4513 - val_accuracy: 0.8727\n",
            "Epoch 24/50\n",
            "125/125 [==============================] - 1s 12ms/step - loss: 0.2317 - accuracy: 0.9300 - val_loss: 0.4539 - val_accuracy: 0.8736\n",
            "Epoch 25/50\n",
            "125/125 [==============================] - 1s 12ms/step - loss: 0.2239 - accuracy: 0.9323 - val_loss: 0.4523 - val_accuracy: 0.8754\n",
            "Epoch 26/50\n",
            "125/125 [==============================] - 1s 12ms/step - loss: 0.2145 - accuracy: 0.9352 - val_loss: 0.4543 - val_accuracy: 0.8747\n",
            "Epoch 27/50\n",
            "125/125 [==============================] - 1s 12ms/step - loss: 0.2085 - accuracy: 0.9369 - val_loss: 0.4590 - val_accuracy: 0.8746\n",
            "Epoch 28/50\n",
            "125/125 [==============================] - 2s 12ms/step - loss: 0.2018 - accuracy: 0.9393 - val_loss: 0.4630 - val_accuracy: 0.8749\n",
            "Epoch 29/50\n",
            "125/125 [==============================] - 1s 12ms/step - loss: 0.1955 - accuracy: 0.9407 - val_loss: 0.4640 - val_accuracy: 0.8754\n",
            "Epoch 30/50\n",
            "125/125 [==============================] - 2s 12ms/step - loss: 0.1875 - accuracy: 0.9432 - val_loss: 0.4707 - val_accuracy: 0.8753\n",
            "Epoch 31/50\n",
            "125/125 [==============================] - 1s 12ms/step - loss: 0.1824 - accuracy: 0.9450 - val_loss: 0.4691 - val_accuracy: 0.8756\n",
            "Epoch 32/50\n",
            "125/125 [==============================] - 1s 12ms/step - loss: 0.1771 - accuracy: 0.9464 - val_loss: 0.4758 - val_accuracy: 0.8753\n",
            "Epoch 33/50\n",
            "125/125 [==============================] - 1s 12ms/step - loss: 0.1695 - accuracy: 0.9483 - val_loss: 0.4804 - val_accuracy: 0.8750\n",
            "Epoch 34/50\n",
            "125/125 [==============================] - 2s 12ms/step - loss: 0.1642 - accuracy: 0.9504 - val_loss: 0.4851 - val_accuracy: 0.8758\n",
            "Epoch 35/50\n",
            "125/125 [==============================] - 1s 12ms/step - loss: 0.1581 - accuracy: 0.9518 - val_loss: 0.4859 - val_accuracy: 0.8756\n",
            "Epoch 36/50\n",
            "125/125 [==============================] - 2s 12ms/step - loss: 0.1537 - accuracy: 0.9530 - val_loss: 0.4923 - val_accuracy: 0.8749\n",
            "Epoch 37/50\n",
            "125/125 [==============================] - 1s 12ms/step - loss: 0.1521 - accuracy: 0.9535 - val_loss: 0.4941 - val_accuracy: 0.8758\n",
            "Epoch 38/50\n",
            "125/125 [==============================] - 2s 12ms/step - loss: 0.1455 - accuracy: 0.9555 - val_loss: 0.5020 - val_accuracy: 0.8755\n",
            "Epoch 39/50\n",
            "125/125 [==============================] - 1s 12ms/step - loss: 0.1387 - accuracy: 0.9574 - val_loss: 0.5102 - val_accuracy: 0.8744\n",
            "Epoch 40/50\n",
            "125/125 [==============================] - 1s 12ms/step - loss: 0.1355 - accuracy: 0.9587 - val_loss: 0.5077 - val_accuracy: 0.8748\n",
            "Epoch 41/50\n",
            "125/125 [==============================] - 1s 12ms/step - loss: 0.1339 - accuracy: 0.9586 - val_loss: 0.5144 - val_accuracy: 0.8757\n",
            "Epoch 42/50\n",
            "125/125 [==============================] - 1s 12ms/step - loss: 0.1296 - accuracy: 0.9601 - val_loss: 0.5191 - val_accuracy: 0.8751\n",
            "Epoch 43/50\n",
            "125/125 [==============================] - 1s 12ms/step - loss: 0.1260 - accuracy: 0.9614 - val_loss: 0.5271 - val_accuracy: 0.8745\n",
            "Epoch 44/50\n",
            "125/125 [==============================] - 1s 12ms/step - loss: 0.1243 - accuracy: 0.9624 - val_loss: 0.5360 - val_accuracy: 0.8747\n",
            "Epoch 45/50\n",
            "125/125 [==============================] - 1s 12ms/step - loss: 0.1196 - accuracy: 0.9633 - val_loss: 0.5434 - val_accuracy: 0.8720\n",
            "Epoch 46/50\n",
            "125/125 [==============================] - 2s 12ms/step - loss: 0.1166 - accuracy: 0.9644 - val_loss: 0.5405 - val_accuracy: 0.8743\n",
            "Epoch 47/50\n",
            "125/125 [==============================] - 1s 12ms/step - loss: 0.1138 - accuracy: 0.9649 - val_loss: 0.5428 - val_accuracy: 0.8748\n",
            "Epoch 48/50\n",
            "125/125 [==============================] - 1s 12ms/step - loss: 0.1092 - accuracy: 0.9663 - val_loss: 0.5538 - val_accuracy: 0.8741\n",
            "Epoch 49/50\n",
            "125/125 [==============================] - 1s 12ms/step - loss: 0.1067 - accuracy: 0.9671 - val_loss: 0.5551 - val_accuracy: 0.8738\n",
            "Epoch 50/50\n",
            "125/125 [==============================] - 1s 12ms/step - loss: 0.1043 - accuracy: 0.9675 - val_loss: 0.5614 - val_accuracy: 0.8740\n"
          ],
          "name": "stdout"
        },
        {
          "output_type": "stream",
          "text": [
            "WARNING:absl:Found untraced functions such as lstm_cell_layer_call_fn, lstm_cell_layer_call_and_return_conditional_losses, lstm_cell_1_layer_call_fn, lstm_cell_1_layer_call_and_return_conditional_losses, lstm_cell_layer_call_fn while saving (showing 5 of 10). These functions will not be directly callable after loading.\n",
            "WARNING:absl:Found untraced functions such as lstm_cell_layer_call_fn, lstm_cell_layer_call_and_return_conditional_losses, lstm_cell_1_layer_call_fn, lstm_cell_1_layer_call_and_return_conditional_losses, lstm_cell_layer_call_fn while saving (showing 5 of 10). These functions will not be directly callable after loading.\n"
          ],
          "name": "stderr"
        },
        {
          "output_type": "stream",
          "text": [
            "INFO:tensorflow:Assets written to: s2s/assets\n"
          ],
          "name": "stdout"
        },
        {
          "output_type": "stream",
          "text": [
            "INFO:tensorflow:Assets written to: s2s/assets\n"
          ],
          "name": "stderr"
        }
      ]
    },
    {
      "cell_type": "code",
      "metadata": {
        "colab": {
          "base_uri": "https://localhost:8080/"
        },
        "id": "Jzn5pPssaIO5",
        "outputId": "65907473-c0e6-4a27-f2ed-c11dffa2aad4"
      },
      "source": [
        "model.layers"
      ],
      "execution_count": 17,
      "outputs": [
        {
          "output_type": "execute_result",
          "data": {
            "text/plain": [
              "[<tensorflow.python.keras.engine.input_layer.InputLayer at 0x7f29042ad550>,\n",
              " <tensorflow.python.keras.engine.input_layer.InputLayer at 0x7f2970a561d0>,\n",
              " <tensorflow.python.keras.layers.recurrent_v2.LSTM at 0x7f29c01b1150>,\n",
              " <tensorflow.python.keras.layers.recurrent_v2.LSTM at 0x7f297d646b50>,\n",
              " <tensorflow.python.keras.layers.core.Dense at 0x7f29d1515510>]"
            ]
          },
          "metadata": {
            "tags": []
          },
          "execution_count": 17
        }
      ]
    },
    {
      "cell_type": "code",
      "metadata": {
        "id": "C8DHA_NcXRH4"
      },
      "source": [
        "model = keras.models.load_model(\"s2s\")\n",
        "\n",
        "encoder_inputs = model.input[0]  # input_1\n",
        "encoder_outputs, state_h_enc, state_c_enc = model.layers[2].output  # lstm_1\n",
        "encoder_states = [state_h_enc, state_c_enc]\n",
        "encoder_model = keras.Model(encoder_inputs, encoder_states)\n",
        "\n",
        "decoder_inputs = model.input[1]  # input_2\n",
        "decoder_state_input_h = keras.Input(shape=(latent_dim,), name=\"input_3\")\n",
        "decoder_state_input_c = keras.Input(shape=(latent_dim,), name=\"input_4\")\n",
        "decoder_states_inputs = [decoder_state_input_h, decoder_state_input_c]\n",
        "decoder_lstm = model.layers[3]\n",
        "decoder_outputs, state_h_dec, state_c_dec = decoder_lstm(\n",
        "    decoder_inputs, initial_state=decoder_states_inputs\n",
        ")\n",
        "decoder_states = [state_h_dec, state_c_dec]\n",
        "decoder_dense = model.layers[4]\n",
        "decoder_outputs = decoder_dense(decoder_outputs)\n",
        "decoder_model = keras.Model(\n",
        "    [decoder_inputs] + decoder_states_inputs, [decoder_outputs] + decoder_states\n",
        ")"
      ],
      "execution_count": 16,
      "outputs": []
    },
    {
      "cell_type": "code",
      "metadata": {
        "colab": {
          "base_uri": "https://localhost:8080/",
          "height": 201
        },
        "id": "CNuRrNetan_a",
        "outputId": "b62e9465-fb0f-4173-bb26-1e10ceaf17aa"
      },
      "source": [
        "from tensorflow.python.keras.utils.vis_utils import plot_model\n",
        "plot_model(encoder_model, show_shapes=True, show_layer_names=True)\n"
      ],
      "execution_count": 18,
      "outputs": [
        {
          "output_type": "execute_result",
          "data": {
            "image/png": "[encoded data removed]",
            "text/plain": [
              "<IPython.core.display.Image object>"
            ]
          },
          "metadata": {
            "tags": []
          },
          "execution_count": 18
        }
      ]
    },
    {
      "cell_type": "code",
      "metadata": {
        "colab": {
          "base_uri": "https://localhost:8080/",
          "height": 312
        },
        "id": "RHN6CqwravDQ",
        "outputId": "ef81b033-be93-40c6-a467-decaf5bcd047"
      },
      "source": [
        "from tensorflow.python.keras.utils.vis_utils import plot_model\n",
        "plot_model(decoder_model, show_shapes=True, show_layer_names=True)\n"
      ],
      "execution_count": 19,
      "outputs": [
        {
          "output_type": "execute_result",
          "data": {
            "image/png": "[encoded data removed]",
            "text/plain": [
              "<IPython.core.display.Image object>"
            ]
          },
          "metadata": {
            "tags": []
          },
          "execution_count": 19
        }
      ]
    },
    {
      "cell_type": "code",
      "metadata": {
        "id": "-3W7bTX6YvgS"
      },
      "source": [
        "reverse_input_char_index = dict((i, char) for char, i in input_token_index.items())\n",
        "reverse_target_char_index = dict((i, char) for char, i in target_token_index.items())\n",
        "\n",
        "\n",
        "def decode_sequence(input_seq):\n",
        "    # Encode the input as state vectors.\n",
        "    print(\"input_seq : \",input_seq)\n",
        "    states_value = encoder_model.predict(input_seq)\n",
        "    #print(\"statue_value : \",states_value)\n",
        "    print(\"output of encoder len : \",len(states_value))\n",
        "    print(\"output of encoder 0 shape : \",states_value[0].shape)\n",
        "\n",
        "\n",
        "    # Generate empty target sequence of length 1.\n",
        "    target_seq = np.zeros((1, 1, num_decoder_tokens)) # single letter --> \\t\n",
        "    # Populate the first character of target sequence with the start character.\n",
        "    target_seq[0, 0, target_token_index[\"\\t\"]] = 1.0 # --> start with dummy letter\n",
        "\n",
        "    # Sampling loop for a batch of sequences\n",
        "    # (to simplify, here we assume a batch of size 1).\n",
        "    stop_condition = False\n",
        "    decoded_sentence = \"\"\n",
        "    while not stop_condition:\n",
        "        output_tokens, h, c = decoder_model.predict([target_seq] + states_value)\n",
        "\n",
        "        # Sample a token\n",
        "        sampled_token_index = np.argmax(output_tokens[0, -1, :])\n",
        "        sampled_char = reverse_target_char_index[sampled_token_index]\n",
        "        decoded_sentence += sampled_char\n",
        "\n",
        "        # Exit condition: either hit max length\n",
        "        # or find stop character.\n",
        "        if sampled_char == \"\\n\" or len(decoded_sentence) > max_decoder_seq_length:\n",
        "            stop_condition = True\n",
        "\n",
        "        # Update the target sequence (of length 1).\n",
        "        target_seq = np.zeros((1, 1, num_decoder_tokens))\n",
        "        target_seq[0, 0, sampled_token_index] = 1.0\n",
        "\n",
        "        # Update states\n",
        "        states_value = [h, c]\n",
        "    return decoded_sentence"
      ],
      "execution_count": 29,
      "outputs": []
    },
    {
      "cell_type": "code",
      "metadata": {
        "colab": {
          "base_uri": "https://localhost:8080/"
        },
        "id": "n7jSYSlDbsv_",
        "outputId": "4110958f-0527-4d5a-b03f-f8cfcb035c25"
      },
      "source": [
        "for seq_index in range(20):\n",
        "    # Take one sequence (part of the training set)\n",
        "    # for trying out decoding.\n",
        "    input_seq = encoder_input_data[seq_index : seq_index + 1]\n",
        "    input_seq2 = encoder_input_data[seq_index+10 : seq_index + 11]\n",
        "    two_sentence = np.concatenate([input_seq,input_seq2],axis=1)\n",
        "\n",
        "    decoded_sentence = decode_sequence(two_sentence)\n",
        "    print(\"-\")\n",
        "    print(\"Input sentence:\", input_texts[seq_index]+input_texts[seq_index+10])\n",
        "    print(\"Decoded sentence:\", decoded_sentence+\"after\") # it comes with \\n\n",
        "\n",
        "    # two sentence break models\n",
        "    break"
      ],
      "execution_count": 35,
      "outputs": [
        {
          "output_type": "stream",
          "text": [
            "input_seq :  [[[0. 0. 0. ... 0. 0. 0.]\n",
            "  [0. 0. 0. ... 0. 0. 0.]\n",
            "  [0. 0. 0. ... 0. 0. 0.]\n",
            "  ...\n",
            "  [1. 0. 0. ... 0. 0. 0.]\n",
            "  [1. 0. 0. ... 0. 0. 0.]\n",
            "  [1. 0. 0. ... 0. 0. 0.]]]\n",
            "output of encoder len :  2\n",
            "output of encoder 0 shape :  (1, 256)\n",
            "-\n",
            "Input sentence: Go.Run!\n",
            "Decoded sentence: Enouvez à m'ai eu tien !\n",
            "after\n"
          ],
          "name": "stdout"
        }
      ]
    },
    {
      "cell_type": "code",
      "metadata": {
        "id": "OqCk5arzdUTp"
      },
      "source": [
        ""
      ],
      "execution_count": null,
      "outputs": []
    }
  ]
}