{
  "nbformat": 4,
  "nbformat_minor": 0,
  "metadata": {
    "accelerator": "GPU",
    "colab": {
      "name": "Poetry_Generation_LSTM.ipynb",
      "provenance": [],
      "collapsed_sections": [],
      "machine_shape": "hm"
    },
    "kernelspec": {
      "display_name": "Python 3",
      "language": "python",
      "name": "python3"
    },
    "language_info": {
      "codemirror_mode": {
        "name": "ipython",
        "version": 3
      },
      "file_extension": ".py",
      "mimetype": "text/x-python",
      "name": "python",
      "nbconvert_exporter": "python",
      "pygments_lexer": "ipython3",
      "version": "3.7.6"
    }
  },
  "cells": [
    {
      "cell_type": "markdown",
      "metadata": {
        "id": "-GEetUC8qSjS"
      },
      "source": [
        "## What is RNN"
      ]
    },
    {
      "cell_type": "markdown",
      "metadata": {
        "id": "8S4TTTT_qSkL"
      },
      "source": [
        "## Sequence Generation Scheme "
      ]
    },
    {
      "cell_type": "markdown",
      "metadata": {
        "id": "QKsx2j7w1f8L"
      },
      "source": [
        "![alt text](https://miro.medium.com/max/3444/1*XvUt5wDQA8D3C0wAuxAvbA.png)"
      ]
    },
    {
      "cell_type": "code",
      "metadata": {
        "id": "rGhiI8Tm1pGo"
      },
      "source": [
        "import tensorflow as tf\n",
        "import string\n",
        "import requests\n",
        "import pandas as pd"
      ],
      "execution_count": 1,
      "outputs": []
    },
    {
      "cell_type": "code",
      "metadata": {
        "id": "Wf47xVb8QpPN"
      },
      "source": [
        "response = requests.get('https://raw.githubusercontent.com/laxmimerit/poetry-data/master/adele.txt')"
      ],
      "execution_count": 2,
      "outputs": []
    },
    {
      "cell_type": "code",
      "metadata": {
        "id": "MfBgXgWhDpna",
        "colab": {
          "base_uri": "https://localhost:8080/"
        },
        "outputId": "4c34ddc3-4701-49d5-a3c6-c43256ff57a1"
      },
      "source": [
        "response"
      ],
      "execution_count": 3,
      "outputs": [
        {
          "output_type": "execute_result",
          "data": {
            "text/plain": [
              "<Response [200]>"
            ]
          },
          "metadata": {
            "tags": []
          },
          "execution_count": 3
        }
      ]
    },
    {
      "cell_type": "code",
      "metadata": {
        "id": "f0MyeNvdDprC",
        "colab": {
          "base_uri": "https://localhost:8080/",
          "height": 103
        },
        "outputId": "a76e0aeb-12b8-4cb0-fee8-d82c18a69fb9"
      },
      "source": [
        "response.text"
      ],
      "execution_count": 18,
      "outputs": [
        {
          "output_type": "execute_result",
          "data": {
            "application/vnd.google.colaboratory.intrinsic+json": {
              "type": "string"
            },
            "text/plain": [
              "'Looking for some education\\nMade my way into the night\\nAll that bullshit conversation\\nBaby, can\\'t you read the signs? I won\\'t bore you with the details, baby\\nI don\\'t even wanna waste your time\\nLet\\'s just say that maybe\\nYou could help me ease my mind\\nI ain\\'t Mr. Right But if you\\'re looking for fast love\\nIf that\\'s love in your eyes\\nIt\\'s more than enough\\nHad some bad love\\nSo fast love is all that I\\'ve got on my mind Ooh, ooh\\nOoh, ooh Looking for some affirmation\\nMade my way into the sun\\nMy friends got their ladies\\nAnd they\\'re all having babies\\nI just wanna have some fun I won\\'t bore you with the details, baby\\nI don\\'t even wanna waste your time\\nLet\\'s just say that maybe\\nYou could help me ease my mind\\nI ain\\'t Mr. Right But if you\\'re looking for fast love\\nIf that\\'s love in your eyes\\nIt\\'s more than enough\\nI\\'ve had some bad love\\nSo fast love is all that I\\'ve got on my mind Ooh, ooh\\nBaby, baby\\nOoh, ooh\\nBaby, baby\\nOoh, ooh\\nBaby, baby\\nOoh In the absence of security\\nI made my way into the night\\nStupid cupid keeps on calling me\\nAnd I see nothing in his eyes\\nI miss my baby\\nOh I, I miss my baby\\nI miss my baby\\nI miss, I miss, I miss, I miss my baby\\nOoh I, I miss my baby I don\\'t want you to be no slave\\nI don\\'t want you to work all day\\nBut I want you to be true\\nAnd I just want to make love to you\\nLove to you, ooh baby\\nLove to you, yeah All I want to do is wash your clothes\\nI don\\'t want to keep you indoors\\nThere is nothing you can\\'t do\\nBut keep me making love to me\\nLove to me, ooh baby\\nLove to you, yeah And I can tell by the way you walk that walk\\nAnd I can hear by the way you talk that talk\\nAnd I can know by the way you treat your girl\\nThat I can give you all the loving in the whole wide world All I want you to do is make your bread\\nJust to make sure you\\'re well fed\\nI don\\'t want you sad and blue\\nAnd I just want to make love to you\\nLove to you, ooh yeah\\nLove to you, yeah And I can tell by the way you walk that walk\\nAnd I can hear by the way you talk that talk\\nAnd I can know by the way you treat your girl\\nThat I can give you all the loving in the whole wide world All I want you to do baby is make your bread\\nJust to make sure you\\'re well fed\\nI don\\'t want you sad and blue\\nAnd I just want to make love to you\\nLove to you, ooh yeah\\nLove to you, yeah\\nOh I just want to make love to you Happy New Year! I heard that you\\'re settled down\\nThat you found a girl and you\\'re married now\\nI heard that your dreams came true\\nGuess she gave you things I didn\\'t give to you Old friend, why are you so shy?\\nAin\\'t like you to hold back or hide from the light I hate to turn up out of the blue, uninvited\\nBut I couldn\\'t stay away, I couldn\\'t fight it\\nI had hoped you\\'d see my face and that you\\'d be reminded\\nThat for me, it isn\\'t over Never mind, I\\'ll find someone like you\\nI wish nothing but the best for you two\\nDon\\'t forget me, I beg, I remember you said\\nSometimes it lasts in love, but sometimes it hurts instead\\nSometimes it lasts in love, but sometimes it hurts instead You know how the time flies\\nOnly yesterday was the time of our lives\\nWe were born and raised in a summer haze\\nBound by the surprise of our glory days I hate to turn up out of the blue, uninvited\\nBut I couldn\\'t stay away, I couldn\\'t fight it\\nI had hoped you\\'d see my face and that you\\'d be reminded\\nThat for me, it isn\\'t over Never mind, I\\'ll find someone like you\\nI wish nothing but the best for you two\\nDon\\'t forget me, I beg, I remember you said\\nSometimes it lasts in love, but sometimes it hurts instead, yeah Nothing compares, no worries or cares\\nRegrets and mistakes, they\\'re memories made\\nWho would have known how bittersweet this would taste? Never mind, I\\'ll find someone like you\\nI wish nothing but the best for you\\nDon\\'t forget me, I beg, I remember you said\\nSometimes it lasts in love, but sometimes it hurts instead Never mind, I\\'ll find someone like you\\nI wish nothing but the best for you two\\nDon\\'t forget me, I beg, I remember you said\\nSometimes it lasts in love, but sometimes it hurts instead\\nSometimes it lasts in love, but sometimes it hurts instead There\\'s a fire starting in my heart\\nReaching a fever pitch, it\\'s bringing me out the dark\\nFinally I can see you crystal clear\\n[Clean version:] Go \\'head and sell me out and I\\'ll lay your ship bare\\n[Explicit version:] Go \\'head and sell me out and I\\'ll lay your shit bare\\nSee how I leave with every piece of you\\nDon\\'t underestimate the things that I will do There\\'s a fire starting in my heart\\nReaching a fever pitch\\nAnd it\\'s bringing me out the dark The scars of your love remind me of us\\nThey keep me thinking that we almost had it all\\nThe scars of your love, they leave me breathless\\nI can\\'t help feeling\\nWe could have had it all\\n(You\\'re gonna wish you never had met me)\\nRolling in the deep\\n(Tears are gonna fall, rolling in the deep)\\nYou had my heart inside of your hand\\n(You\\'re gonna wish you never had met me)\\nAnd you played it, to the beat\\n(Tears are gonna fall, rolling in the deep) Baby, I have no story to be told\\nBut I\\'ve heard one on you\\nAnd I\\'m gonna make your head burn\\nThink of me in the depths of your despair\\nMake a home down there\\nAs mine sure won\\'t be shared (You\\'re gonna wish you never had met me)\\nThe scars of your love remind me of us\\n(Tears are gonna fall, rolling in the deep)\\nThey keep me thinking that we almost had it all\\n(You\\'re gonna wish you never had met me)\\nThe scars of your love, they leave me breathless\\n(Tears are gonna fall, rolling in the deep)\\nI can\\'t help feeling\\nWe could have had it all\\n(You\\'re gonna wish you never had met me)\\nRolling in the deep\\n(Tears are gonna fall, rolling in the deep)\\nYou had my heart inside of your hand\\n(You\\'re gonna wish you never had met me)\\nAnd you played it, to the beat\\n(Tears are gonna fall, rolling in the deep)\\nWe could have had it all\\nRolling in the deep\\nYou had my heart inside of your hand\\nBut you played it, with a beating Throw your soul through every open door (woah)\\nCount your blessings to find what you look for (woah)\\nTurn my sorrow into treasured gold (woah)\\nYou\\'ll pay me back in kind and reap just what you sow (woah)\\n(You\\'re gonna wish you never had met me)\\nWe could have had it all\\n(Tears are gonna fall, rolling in the deep)\\nWe could have had it all\\n(You\\'re gonna wish you never had met me)\\nIt all, it all, it all\\n(Tears are gonna fall, rolling in the deep) We could have had it all\\n(You\\'re gonna wish you never had met me)\\nRolling in the deep\\n(Tears are gonna fall, rolling in the deep)\\nYou had my heart inside of your hand\\n(You\\'re gonna wish you never had met me)\\nAnd you played it to the beat\\n(Tears are gonna fall, rolling in the deep) We could have had it all\\n(You\\'re gonna wish you never had met me)\\nRolling in the deep\\n(Tears are gonna fall, rolling in the deep)\\nYou had my heart inside of your hand\\n(You\\'re gonna wish you never had met me) But you played it\\nYou played it\\nYou played it\\nYou played it to the beat. Hello, it\\'s me\\nI was wondering if after all these years you\\'d like to meet\\nTo go over everything\\nThey say that time\\'s supposed to heal ya\\nBut I ain\\'t done much healing Hello, can you hear me?\\nI\\'m in California dreaming about who we used to be\\nWhen we were younger and free\\nI\\'ve forgotten how it felt before the world fell at our feet There\\'s such a difference between us\\nAnd a million miles Hello from the other side\\nI must\\'ve called a thousand times\\nTo tell you I\\'m sorry\\nFor everything that I\\'ve done\\nBut when I call you never\\nSeem to be home Hello from the outside\\nAt least I can say that I\\'ve tried\\nTo tell you I\\'m sorry\\nFor breaking your heart\\nBut it don\\'t matter, it clearly\\nDoesn\\'t tear you apart anymore Hello, how are you?\\nIt\\'s so typical of me to talk about myself, I\\'m sorry\\nI hope that you\\'re well\\nDid you ever make it out of that town\\nWhere nothing ever happened? It\\'s no secret\\nThat the both of us\\nAre running out of time So hello from the other side (other side)\\nI must\\'ve called a thousand times (thousand times)\\nTo tell you I\\'m sorry\\nFor everything that I\\'ve done\\nBut when I call you never\\nSeem to be home Hello from the outside (outside)\\nAt least I can say that I\\'ve tried (I\\'ve tried)\\nTo tell you I\\'m sorry\\nFor breaking your heart\\nBut it don\\'t matter, it clearly\\nDoesn\\'t tear you apart anymore Oh, anymore\\nOh, anymore\\nOh, anymore\\nAnymore Hello from the other side (other side)\\nI must\\'ve called a thousand times (thousand times)\\nTo tell you I\\'m sorry\\nFor everything that I\\'ve done\\nBut when I call you never\\nSeem to be home Hello from the outside (outside)\\nAt least I can say that I\\'ve tried (I\\'ve tried)\\nTo tell you I\\'m sorry\\nFor breaking your heart\\nBut it don\\'t matter, it clearly\\nDoesn\\'t tear you apart anymore I will leave my heart at the door\\nI won\\'t say a word\\nThey\\'ve all been said before you know\\nSo why don\\'t we just play pretend\\nLike we\\'re not scared of what\\'s coming next\\nOr scared of having nothing left Look, don\\'t get me wrong\\nI know there is no tomorrow\\nAll I ask is If this is my last night with you\\nHold me like I\\'m more than just a friend\\nGive me a memory I can use\\nTake me by the hand while we do what lovers do\\nIt matters how this ends\\n\\'Cause what if I never love again? I don\\'t need your honesty\\nIt\\'s already in your eyes\\nAnd I\\'m sure my eyes, they speak for me\\nNo one knows me like you do\\nAnd since you\\'re the only one that matters\\nTell me who do I run to? Look, don\\'t get me wrong\\nI know there is no tomorrow\\nAll I ask is If this is my last night with you\\nHold me like I\\'m more than just a friend\\nGive me a memory I can use\\nTake me by the hand while we do what lovers do\\nIt matters how this ends\\n\\'Cause what if I never love again? Let this be our lesson in love\\nLet this be the way we remember us\\nI don\\'t wanna be cruel or vicious\\nAnd I ain\\'t asking for forgiveness\\nAll I ask is If this is my last night with you\\nHold me like I\\'m more than just a friend\\nGive me a memory I can use\\nTake me by the hand while we do what lovers do\\nIt matters how this ends\\n\\'Cause what if I never love again? I let it fall, my heart,\\nAnd as it fell you rose to claim it\\nIt was dark and I was over\\nUntil you kissed my lips and you saved me My hands, they\\'re strong\\nBut my knees were far too weak\\nTo stand in your arms\\nWithout falling to your feet But there\\'s a side to you that I never knew, never knew\\nAll the things you\\'d say, they were never true, never true\\nAnd the games you\\'d play, you would always win, always win But I set fire to the rain\\nWatched it pour as I touched your face\\nLet it burn while I cry\\n\\'Cause I heard it screaming out your name, your name When laying with you\\nI could stay there, close my eyes\\nFeel you here, forever\\nYou and me together, nothing gets better Cause there\\'s a side to you that I never knew, never knew\\nAll the things you\\'d say, they were never true, never true\\nAnd the games you\\'d play, you would always win, always win But I set fire to the rain\\nWatched it pour as I touched your face\\nLet it burn while I cried\\n\\'Cause I heard it screaming out your name, your name I set fire to the rain\\nAnd I threw us into the flames\\nWhere I felt something die, \\'cause I knew that\\nThat was the last time, the last time Sometimes I wake up by the door\\nAs if that heart you caught is still waiting for you\\nEven now when it\\'s already over\\nI can\\'t help myself from looking for you I set fire to the rain\\nWatched it pour as I touched your face\\nLet it burn while I cried\\n\\'Cause I heard it screaming out your name, your name I set fire to the rain\\nAnd I threw us into the flames\\nWhere I felt something die\\n\\'Cause I knew that that was the last time, the last time, oh\\nOh, oh Let it burn, oh\\nLet it burn\\nLet it burn Everybody loves the things you do\\nFrom the way you talk\\nTo the way you move\\nEverybody here is watching you\\n\\'Cause you feel like home\\nYou\\'re like a dream come true\\nBut if by chance you\\'re here alone\\nCan I have a moment\\nBefore I go?\\n\\'Cause I\\'ve been by myself all night long\\nHoping you\\'re someone I used to know You look like a movie\\nYou sound like a song\\nMy God, this reminds me\\nOf when we were young Let me photograph you in this light\\nIn case it is the last time\\nThat we might be exactly like we were\\nBefore we realized\\nWe were sad of getting old\\nIt made us restless\\nIt was just like a movie\\nIt was just like a song I was so scared to face my fears\\nNobody told me that you\\'d be here\\nAnd I swore you moved overseas\\nThat\\'s what you said, when you left me You still look like a movie\\nYou still sound like a song\\nMy God, this reminds me\\nOf when we were young Let me photograph you in this light\\nIn case it is the last time\\nThat we might be exactly like we were\\nBefore we realized\\nWe were sad of getting old\\nIt made us restless\\nIt was just like a movie\\nIt was just like a song When we were young\\nWhen we were young\\nWhen we were young\\nWhen we were young It\\'s hard to win me back\\nEverything just takes me back\\nTo when you were there\\nTo when you were there\\nAnd a part of me keeps holding on\\nJust in case it hasn\\'t gone\\nI guess I still care\\nDo you still care? It was just like a movie\\nIt was just like a song\\nMy God, this reminds me\\nOf when we were young When we were young\\nWhen we were young\\nWhen we were young\\nWhen we were young Let me photograph you in this light\\nIn case it is the last time\\nThat we might be exactly like we were\\nBefore we realized\\nWe were sad of getting old\\nIt made us restless\\nOh, I\\'m so mad I\\'m getting old\\nIt makes me reckless\\nIt was just like a movie\\nIt was just like a song\\nWhen we were young Whenever I\\'m alone with you\\nYou make me feel like I am home again\\nWhenever I\\'m alone with you\\nYou make me feel like I am whole again Whenever I\\'m alone with you\\nYou make me feel like I am young again\\nWhenever I\\'m alone with you\\nYou make me feel like I am fun again However far away I will always love you\\nHowever long I stay I will always love you\\nWhatever words I say I will always love you\\nI will always love you Whenever I\\'m alone with you\\nYou make me feel like I am free again\\nWhenever I\\'m alone with you\\nYou make me feel like I am clean again However far away I will always love you\\nHowever long I stay I will always love you\\nWhatever words I say I will always love you\\nI will always love you However far away I will always love you\\nHowever long I stay I will always love you\\nWhatever words I say I will always love you\\nI will always love you\\nI will always love you\\n\\'Cause I love you When the rain is blowing in your face\\nAnd the whole world is on your case\\nI could offer you a warm embrace\\nTo make you feel my love When the evening shadows and the stars appear\\nAnd there is no one there to dry your tears\\nI could hold you for a million years\\nTo make you feel my love I know you haven\\'t made your mind up yet\\nBut I would never do you wrong\\nI\\'ve known it from the moment that we met\\nno doubt in my mind were you belong I\\'d go hungry, I\\'d go black and blue\\nI\\'d go crawling down the avenue\\nNo, there\\'s nothing that I wouldn\\'t do\\nTo make you feel my love The storms are raging on the rolling sea\\nAnd on the highway of regret\\nThe winds of change are blowing wild and free\\nYou ain\\'t seen nothing like me yet I could make you happy, make your dreams come true\\nNothing that I wouldn\\'t do\\nGo to the ends of the Earth for you\\nTo make you feel my love To make you feel my love I\\'ve made up my mind\\nDon\\'t need to think it over\\nIf I\\'m wrong I am right\\nDon\\'t need to look no further\\nThis ain\\'t lust\\nI know this is love but If I tell the world\\nI\\'ll never say enough\\nCause it was not said to you\\nAnd that\\'s exactly what I need to do\\nIf I\\'m in love with you Should I give up\\nOr should I just keep chasing pavements?\\nEven if it leads nowhere\\nOr would it be a waste?\\nEven If I knew my place should I leave it there?\\nShould I give up\\nOr should I just keep chasing pavements?\\nEven if it leads nowhere I\\'d build myself up\\nAnd fly around in circles\\nWaiting as my heart drops\\nAnd my back begins to tingle\\nFinally could this be it or Should I give up\\nOr should I just keep chasing pavements?\\nEven if it leads nowhere\\nOr would it be a waste?\\nEven if I knew my place should I leave it there?\\nShould I give up\\nOr should I just keep chasing pavements?\\nEven if it leads nowhere yeah Should I give up\\nOr should I just keep chasing pavements?\\nEven if, it leads nowhere\\nOr would it be a waste?\\nEven if I knew my place should I leave it there?\\nShould I give up,\\nOr should I just keep on chasing pavements?\\nShould I just keep on chasing pavements? Or Should I give up\\nOr should I just keep chasing pavements?\\nEven if it leads nowhere\\nOr would it be a waste?\\nEven if I knew my place should I leave it there?\\nShould I give up\\nOr should I just keep chasing pavements?\\nEven if it leads nowhere When will I see you again?\\nYou left with no goodbye, not a single word was said\\nNo final kiss to seal anything\\nI had no idea of the state we were in I know I have a fickle heart and a bitterness\\nAnd a wandering eye, and a heaviness in my head\\nBut don\\'t you remember, don\\'t you remember?\\nThe reason you loved me before,\\nBaby please remember me once more When was the last time you thought of me?\\nOr have you completely erased me from your memories?\\nI often think about where I went wrong\\nThe more I do, the less I know But I know I have a fickle heart and a bitterness\\nAnd a wandering eye, and a heaviness in my head\\nBut don\\'t you remember, don\\'t you remember?\\nThe reason you loved me before\\nBaby please remember me once more Oh, I gave you the space so you could breathe\\nI kept my distance so you would be free\\nIn hope that you find the missing piece\\nTo bring you back to me Why don\\'t you remember, don\\'t you remember?\\nThe reason you loved me before\\nBaby please remember me once more\\nWhen will I see you again? She, she ain\\'t real\\nShe ain\\'t gonna be able to love you like I will\\nShe is a stranger\\nYou and I have history\\nOr don\\'t you remember\\nSure, she\\'s got it all\\nBut, baby, is that really what you want Bless your soul, you\\'ve got you\\'re head in the clouds\\nYou made a fool out of you\\nAnd, boy, she\\'s bringing you down\\nShe made your heart melt\\nBut you\\'re cold to the core\\nNow rumor has it she ain\\'t got your love anymore Rumor has it, ooh\\nRumor has it, ooh\\nRumor has it, ooh\\nRumor has it, ooh\\nRumor has it, ooh\\nRumor has it, ooh\\nRumor has it, ooh\\nRumor has it, ooh She is half your age\\nBut I\\'m guessing that\\'s the reason that you stayed\\nI heard you\\'ve been missing me\\nYou\\'ve been telling people things that you shouldn\\'t be\\nLike when we creep out and she ain\\'t around\\nHaven\\'t you heard the rumors Bless your soul, you\\'ve got your head in the clouds\\nYou made a fool out of me\\nAnd, boy, you\\'re bringing me down\\nYou made my heart melt, yet I\\'m cold to the core\\nBut rumor has it I\\'m the one you\\'re leaving her for Rumor has it, ooh\\nRumor has it, ooh\\nRumor has it, ooh\\nRumor has it, ooh\\nRumor has it, ooh\\nRumor has it, ooh\\nRumor has it, ooh\\nRumor has it, ooh All of these words whispered in my ear\\nTell a story that I cannot bear to hear\\nJust \\'cause I said it, it don\\'t mean that I meant it\\nPeople say crazy things\\nJust \\'cause I said it, don\\'t mean that I meant it\\nJust \\'cause you heard it Rumor has it, ooh,\\nRumor has it, ooh,\\nRumor has it, ooh,\\nRumor has it, ooh,\\nRumor has it, ooh,\\nRumor has it, ooh,\\nRumor has it, ooh,\\nRumor has it, ooh,\\nRumor has it, ooh,\\nRumor has it, ooh,\\nRumor has it, ooh,\\nRumor has it, ooh,\\nRumor has it, ooh,\\nRumor has it, ooh But rumor has it he\\'s the one I\\'m leaving you for You\\'ve been on my mind\\nI grow fonder every day\\nLose myself in time\\nJust thinking of your face\\nGod only knows why it\\'s taken me\\nSo long to let my doubts go\\nYou\\'re the only one that I want I don\\'t know why I\\'m scared\\nI\\'ve been here before\\nEvery feeling, every word\\nI\\'ve imagined it all\\nYou\\'ll never know if you never try\\nTo forget your past and simply be mine I dare you to let me be your, your one and only\\nI promise I\\'m worthy\\nTo hold in your arms\\nSo come on and give me the chance\\nTo prove I am the one who can walk that mile\\nUntil the end starts If I\\'ve been on your mind\\nYou hang on every word I say\\nLose yourself in time\\nAt the mention of my name\\nWill I ever know how it feels to hold you close\\nAnd have you tell me\\nWhichever road I choose, you\\'ll go? I don\\'t know why I\\'m scared\\n\\'Cause I\\'ve been here before\\nEvery feeling, every word\\nI\\'ve imagined it all\\nYou\\'ll never know if you never try\\nTo forget your past and simply be mine I dare you to let me be your, your one and only\\nI promise I\\'m worthy, mm\\nTo hold in your arms\\nSo come on and give me the chance\\nTo prove I am the one who can walk that mile\\nUntil the end starts I know it ain\\'t easy giving up your heart\\nI know it ain\\'t easy giving up your heart\\nNobody\\'s perfect\\n(I know it ain\\'t easy giving up your heart)\\nTrust me I\\'ve learned it\\nNobody\\'s perfect\\n(I know it ain\\'t easy giving up your heart)\\nTrust me I\\'ve learned it\\nNobody\\'s perfect\\n(I know it ain\\'t easy giving up your heart)\\nTrust me I\\'ve learned it\\nNobody\\'s perfect\\n(I know it ain\\'t easy giving up your heart)\\nTrust me I\\'ve learned it So I dare you to let me be your, your one and only\\nI promise I\\'m worthy\\nTo hold in your arms\\nSo come on and give me the chance\\nTo prove that I am the, one who can walk that mile\\nUntil the end starts Come on and give me the chance\\nTo prove that I am the one who can, walk that mile\\nUntil the end starts If you\\'re not the one for me\\nThen I\\'ll come back and bring you to your knees\\nIf you\\'re not the one for me\\nWhy do I hate the idea of being free?\\nAnd if I\\'m not the one for you\\nYou\\'ve gotta stop holding me the way you do\\nOh when you found that the one for you\\nWhy have we been through what we have been through It\\'s so cold out here in your wilderness\\nI want you to be my keeper\\nBut not if you are so reckless If you\\'re gonna let me down, let me down gently\\nDon\\'t pretend that you don\\'t want me\\nOur love ain\\'t water under the bridge\\nIf you\\'re gonna let me down, let me down gently\\nDon\\'t pretend that you don\\'t want me\\nOur love ain\\'t water under the bridge\\nSay that our love ain\\'t water under the bridge What are you waiting for?\\nYou never seem to make it through the door\\nAnd who are you hiding from?\\nIt ain\\'t no life to live like you\\'re on the run\\nHave I ever asked for much?\\nThe only thing that I want is your love If you\\'re gonna let me down, let me down gently\\nDon\\'t pretend that you don\\'t want me\\nOur love ain\\'t water under the bridge\\nIf you\\'re gonna let me down, let me down gently\\nDon\\'t pretend that you don\\'t want me\\nOur love ain\\'t water under the bridge\\nSay that our love ain\\'t water under the bridge It\\'s so cold in your wilderness\\nI want you to be my keeper\\nBut not if you are so reckless If you\\'re gonna let me down, let me down gently\\nDon\\'t pretend that you don\\'t want me\\nOur love ain\\'t water under the bridge\\nIf you\\'re gonna let me down, let me down gently\\nDon\\'t pretend that you don\\'t want me\\nOur love ain\\'t water under the bridge Say it ain\\'t so, say it ain\\'t so\\nSay it ain\\'t so, say it ain\\'t so\\nSay it ain\\'t so, say it ain\\'t so\\nSay it ain\\'t so, say it ain\\'t so\\nSay it ain\\'t so, say it ain\\'t so\\nSay it ain\\'t so, say it ain\\'t so\\nSay it ain\\'t so, say it ain\\'t so\\nSay it ain\\'t so, say it ain\\'t so\\nSay that our love ain\\'t water under the bridge I\\'ve been walking in the same way as I did\\nMissing out the cracks in the pavement\\nAnd turning my heel and strutting my feet\\n\"Is there anything I can do for you dear?\\nIs there anyone I could call?\"\\n\"No and thank you, please Madam.\\nI ain\\'t lost, just wandering\" Round my hometown\\nMemories are fresh\\nRound my hometown\\nOoh the people I\\'ve met\\nAre the wonders of my world\\nAre the wonders of my world\\nAre the wonders of this world\\nAre the wonders of now I like it in the city when the air is so thick and opaque\\nI love to see everybody in short skirts, shorts and shades\\nI like it in the city when two worlds collide\\nYou get the people and the government\\nEverybody taking different sides Shows that we ain\\'t gonna stand shit\\nShows that we are united\\nShows that we ain\\'t gonna take it\\nShows that we ain\\'t gonna stand shit\\nShows that we are united Round my hometown\\nMemories are fresh\\nRound my hometown\\nOoh the people I\\'ve met yea Are the wonders of my world\\nAre the wonders of my world\\nAre the wonders of this world\\nAre the wonders of my world\\nOf my world, yeah\\nOf my world\\nOf my world, yeah Close enough to start a war\\nAll that I have is on the floor\\nGod only knows what we\\'re fighting for\\nAll that I say, you always say more I can\\'t keep up with your turning tables\\nUnder your thumb, I can\\'t breathe So I won\\'t let you close enough to hurt me\\nNo, I won\\'t ask you, you to just desert me\\nI can\\'t give you what you think you gave me\\nIt\\'s time to say goodbye to turning tables, to turning tables Under haunted skies I see\\nWhere love is lost, your ghost is found\\nI\\'ve braved a hundred storms to leave you\\nAs hard as you try, no, I will never be knocked down I can\\'t keep up with your turning tables\\nUnder your thumb, I can\\'t breathe So I won\\'t let you close enough to hurt me, no\\nI won\\'t ask you, you to just desert me\\nI can\\'t give you what you think you gave me\\nIt\\'s time to say goodbye to turning tables, turning tables Next time I\\'ll be braver, I\\'ll be my own savior\\nWhen the thunder calls to me\\nNext time I\\'ll be braver, I\\'ll be my own savior\\nStanding on my own two feet I won\\'t let you close enough to hurt me, no\\nI won\\'t ask you, you to just desert me\\nI can\\'t give you what you think you gave me\\nIt\\'s time to say goodbye to turning tables, to turning tables\\nTurning tables, yeah, turning This is the end\\nHold your breath and count to ten\\nFeel the earth move and then\\nHear my heart burst again For this is the end\\nI\\'ve drowned and dreamt this moment\\nSo overdue I owe them\\nSwept away, I\\'m stolen Let the sky fall\\nWhen it crumbles\\nWe will stand tall\\nFace it all together Let the sky fall\\nWhen it crumbles\\nWe will stand tall\\nFace it all together\\nAt skyfall\\nAt skyfall Skyfall is where we start\\nA thousand miles and poles apart\\nWhere worlds collide and days are dark\\nYou may have my number, you can take my name\\nBut you\\'ll never have my heart Let the sky fall\\nWhen it crumbles\\nWe will stand tall\\nFace it all together Let the sky fall\\nWhen it crumbles\\nWe will stand tall\\nFace it all together\\nAt skyfall Where you go I go\\nWhat you see I see\\nI know I\\'d never be me\\nWithout the security\\nOf your loving arms\\nKeeping me from harm\\nPut your hand in my hand\\nAnd we\\'ll stand Let the sky fall\\nWhen it crumbles\\nWe will stand tall\\nFace it all together Let the sky fall\\nWhen it crumbles\\nWe will stand tall\\nFace it all together\\nAt skyfall Let the sky fall\\nWe will stand tall\\nAt skyfall Just the guitar This was all you, none of it me\\nYou put your hands all over my body and told me, umm\\nYou told me you were ready\\nFor the big one, for the big jump\\nI\\'d be your last love everlasting you and me\\nThat was what you told me I\\'m giving you up\\nI\\'ve forgiven it all\\nYou set me free, oh Send my love to your new lover\\nTreat her better\\nWe\\'ve gotta let go of all of our ghosts\\nWe both know we ain\\'t kids no more\\nSend my love to your new lover\\nTreat her better\\nWe\\'ve gotta let go of all of our ghosts\\nWe both know we ain\\'t kids no more I was too strong you were trembling\\nYou couldn\\'t handle the hot heat rising (rising), umm\\nBaby I\\'m so rising\\nI was running, you were walking\\nYou couldn\\'t keep up, you were falling down (down), umm\\nThere\\'s only one way down I\\'m giving you up\\nI\\'ve forgiven it all\\nYou set me free, oh Send my love to your new lover\\nTreat her better\\nWe gotta let go of all of our ghosts\\nWe\\'ve both know we ain\\'t kids no more\\nSend my love to your new lover\\nTreat her better\\nWe\\'ve gotta let go of all of our ghosts\\nWe both know we ain\\'t kids no more If you\\'re ready, if you\\'re ready\\nIf you\\'re ready, I am ready\\nIf you\\'re ready, if you\\'re ready\\nWe both know we ain\\'t kids no more\\nNo, we ain\\'t kids no more I\\'m giving you up\\nI\\'ve forgiven it all\\nYou set me free Send my love to your new lover\\nTreat her better\\nWe\\'ve gotta let go of all of our ghosts\\nWe both know we ain\\'t kids no more\\nSend my love to your new lover\\nTreat her better\\nWe\\'ve gotta let go of all of our ghosts\\nWe both know we ain\\'t kids no more If you\\'re ready, if you\\'re ready (Send my love to your new lover)\\nIf you\\'re ready, are you ready? (Treat her better)\\nWe\\'ve gotta let go of all of our ghosts\\nWe both know we ain\\'t kids no more\\nIf you\\'re ready, if you\\'re ready (Send my love to your new lover)\\nIf you\\'re ready, are you ready? (Treat her better)\\nWe\\'ve gotta let go of all of our ghosts\\nWe both know we ain\\'t kids no more Just the guitar This was all you, none of it me\\nYou put your hands all over my body and told me, umm\\nYou told me you were ready\\nFor the big one, for the big jump\\nI\\'d be your last love everlasting you and me\\nThat was what you told me I\\'m giving you up\\nI\\'ve forgiven it all\\nYou set me free, oh Send my love to your new lover\\nTreat her better\\nWe\\'ve gotta let go of all of our ghosts\\nWe both know we ain\\'t kids no more\\nSend my love to your new lover\\nTreat her better\\nWe\\'ve gotta let go of all of our ghosts\\nWe both know we ain\\'t kids no more I was too strong you were trembling\\nYou couldn\\'t handle the hot heat rising (rising), umm\\nBaby I\\'m so rising\\nI was running, you were walking\\nYou couldn\\'t keep up, you were falling down (down), umm\\nThere\\'s only one way down I\\'m giving you up\\nI\\'ve forgiven it all\\nYou set me free, oh Send my love to your new lover\\nTreat her better\\nWe gotta let go of all of our ghosts\\nWe\\'ve both know we ain\\'t kids no more\\nSend my love to your new lover\\nTreat her better\\nWe\\'ve gotta let go of all of our ghosts\\nWe both know we ain\\'t kids no more If you\\'re ready, if you\\'re ready\\nIf you\\'re ready, I am ready\\nIf you\\'re ready, if you\\'re ready\\nWe both know we ain\\'t kids no more\\nNo, we ain\\'t kids no more I\\'m giving you up\\nI\\'ve forgiven it all\\nYou set me free Send my love to your new lover\\nTreat her better\\nWe\\'ve gotta let go of all of our ghosts\\nWe both know we ain\\'t kids no more\\nSend my love to your new lover\\nTreat her better\\nWe\\'ve gotta let go of all of our ghosts\\nWe both know we ain\\'t kids no more If you\\'re ready, if you\\'re ready (Send my love to your new lover)\\nIf you\\'re ready, are you ready? (Treat her better)\\nWe\\'ve gotta let go of all of our ghosts\\nWe both know we ain\\'t kids no more\\nIf you\\'re ready, if you\\'re ready (Send my love to your new lover)\\nIf you\\'re ready, are you ready? (Treat her better)\\nWe\\'ve gotta let go of all of our ghosts\\nWe both know we ain\\'t kids no more I only wanted to have fun\\nLearning to fly, learning to run\\nI let my heart decide the way\\nWhen I was young\\nDeep down I must have always known\\nThat this would be inevitable\\nTo earn my stripes I\\'d have to pay\\nAnd bear my soul I know I\\'m not the only one\\nWho regrets the things they\\'ve done\\nSometimes I just feel it\\'s only me\\nWho can\\'t stand the reflection that they see\\nI wish I could live a little more\\nLook up to the sky, not just the floor\\nI feel like my life is flashing by\\nAnd all I can do is watch and cry\\nI miss the air, I miss my friends\\nI miss my mother, I miss it when\\nLife was a party to be thrown\\nBut that was a million years ago When I walk around all of the streets\\nWhere I grew up and found my feet\\nThey can\\'t look me in the eye\\nIt\\'s like they\\'re scared of me\\nI try to think of things to say\\nLike a joke or a memory\\nBut they don\\'t recognize me now\\nIn the light of day I know I\\'m not the only one\\nWho regrets the things they\\'ve done\\nSometimes I just feel it\\'s only me\\nWho never became who they thought they\\'d be\\nI wish I could live a little more\\nLook up to the sky, not just the floor\\nI feel like my life is flashing by\\nAnd all I can do is watch and cry\\nI miss the air, I miss my friends\\nI miss my mother, I miss it when\\nLife was a party to be thrown\\nBut that was a million years ago\\nA million years ago Looking for some education\\nMade my way into the night\\nAll that bullshit conversation\\nBaby, can\\'t you read the signs? I won\\'t bore you with the details, baby\\nI don\\'t even wanna waste your time\\nLet\\'s just say that maybe\\nYou could help me ease my mind\\nI ain\\'t Mr. Right But if you\\'re looking for fast love\\nIf that\\'s love in your eyes\\nIt\\'s more than enough\\nHad some bad love\\nSo fast love is all that I\\'ve got on my mind Ooh, ooh\\nOoh, ooh Looking for some affirmation\\nMade my way into the sun\\nMy friends got their ladies\\nAnd they\\'re all having babies\\nI just wanna have some fun I won\\'t bore you with the details, baby\\nI don\\'t even wanna waste your time\\nLet\\'s just say that maybe\\nYou could help me ease my mind\\nI ain\\'t Mr. Right But if you\\'re looking for fast love\\nIf that\\'s love in your eyes\\nIt\\'s more than enough\\nI\\'ve had some bad love\\nSo fast love is all that I\\'ve got on my mind Ooh, ooh\\nBaby, baby\\nOoh, ooh\\nBaby, baby\\nOoh, ooh\\nBaby, baby\\nOoh In the absence of security\\nI made my way into the night\\nStupid cupid keeps on calling me\\nAnd I see nothing in his eyes\\nI miss my baby\\nOh I, I miss my baby\\nI miss my baby\\nI miss, I miss, I miss, I miss my baby\\nOoh I, I miss my baby Take your eyes off of me so I can leave\\nI\\'m far too ashamed to do it with you watching me\\nThis is never ending, we have been here before\\nBut I can\\'t stay this time \\'cause I don\\'t love you anymore\\nPlease stay where you are\\nDon\\'t come any closer\\nDon\\'t try to change my mind\\nI\\'m being cruel to be kind I can\\'t love you in the dark\\nIt feels like we\\'re oceans apart\\nThere is so much space between us\\nMaybe we\\'re already defeated\\nAh-yeah-yeah-yeah-yeah-yeah-yeah everything changed me You have given me something that I can\\'t live without\\nYou mustn\\'t underestimate that when you are in doubt\\nBut I don\\'t want to carry on like everything is fine\\nThe longer we ignore it all the more that we will fight\\nPlease don\\'t fall apart\\nI can\\'t face your breaking heart\\nI\\'m trying to be brave\\nStop asking me to stay I can\\'t love you in the dark\\nIt feels like we\\'re oceans apart\\nThere is so much space between us\\nMaybe we\\'re already defeated\\nAh-yeah-yeah-yeah-yeah-yeah-yeah everything changed me We\\'re not the only ones\\nI don\\'t regret a thing\\nEvery word I\\'ve said\\nYou know I\\'ll always mean\\nIt is the world to me\\nThat you are in my life\\nBut I want to live\\nAnd not just survive That\\'s why I can\\'t love you in the dark\\nIt feels like we\\'re oceans apart\\nThere is so much space between us\\nMaybe we\\'re already defeated\\n\\'Cause ah-yeah-yeah-yeah-yeah-yeah-yeah everything changed me\\nAnd I-I-I-I-I don\\'t think you can save me I want every single piece of you\\nI want your heaven and your ocean\\'s too\\nTreat me soft but touch me cool\\nI wanna teach you things you never knew, baby\\nBring the floor up to my knees\\nLet me fall into your gravity\\nAnd kiss me back to life to see\\nYour body standing over me Baby don\\'t let the lights go down\\nBaby don\\'t let the lights go down\\nBaby don\\'t let the lights go down\\nLights go down, lights go down\\nLights go down, lights go down\\nDown, down, down, down I miss you when the lights go out\\nIt illuminates all of my doubts\\nPull me in, hold me tight\\nDon\\'t let go, baby give me light\\nI miss you when the lights go out\\nIt illuminates all of my doubts\\nPull me in, hold me tight\\nDon\\'t let go, baby give me light I love the way your body moves\\nTowards me from across the room\\nBrushing past my every groove\\nNo one has me like you do\\nIn your heart I bring my soul\\nBut be delicate with my ego\\nI wanna step into your great unknown\\nWith you and me setting the tone Baby don\\'t let the lights go down\\nBaby don\\'t let the lights go down\\nBaby don\\'t let the lights go down\\nLights go down, lights go down\\nLights go down, lights go down\\nDown, down, down, down I miss you when the lights go out\\nIt illuminates all of my doubts\\nPull me in, hold me tight\\nDon\\'t let go, baby give me light\\nI miss you when the lights go out\\nIt illuminates all of my doubts\\nPull me in, hold me tight\\nDon\\'t let go, baby give me light We play so dirty in the dark\\n\\'Cause we are living worlds apart\\nIt only makes it harder baby\\nIt only makes it harder baby (harder baby)\\nHarder baby (harder baby), harder baby I miss you when the lights go out\\nIt illuminates all of my doubts\\nPull me in, hold me tight\\nDon\\'t let go, baby give me light\\nI miss you when the lights go out\\nIt illuminates all of my doubts\\nPull me in, hold me tight\\nDon\\'t let go, baby give me light I miss you, I miss you\\nI miss you, I miss you\\nI miss you, I miss you\\nI miss you, I miss you I remember all of the things that I thought I wanted to be\\nSo desperate to find a way out of my world and finally breathe\\nRight before my eyes I saw, my heart it came to life\\nThis ain\\'t easy it\\'s not meant to be\\nEvery story has its scars When the pain cuts you deep\\nWhen the night keeps you from sleeping\\nJust look and you will see\\nThat I will be your remedy\\nWhen the world seems so cruel\\nAnd your heart makes you feel like a fool\\nI promise you will see\\nThat I will be, I will be your remedy No river is too wide or too deep for me to swim to you\\nCome whenever I\\'ll be the shelter that won\\'t let the rain come through\\nYour love, it is my truth\\nAnd I will always love you\\nLove you When the pain cuts you deep\\nWhen the night keeps you from sleeping\\nJust look and you will see\\nThat I will be your remedy\\nWhen the world seems so cruel\\nAnd your heart makes you feel like a fool\\nI promise you will see\\nThat I will be, I will be your remedy, oh When the pain cuts you deep\\nWhen the night keeps you from sleeping\\nJust look and you will see\\nI will be, I will be\\nWhen the world seems so cruel\\nAnd your heart makes you feel like a fool\\nI promise you will see\\nThat I will be, I will be, I will be\\nYour remedy, oh Didn\\'t I give it all?\\nTried my best\\nGave you everything I had, everything and no less\\nDidn\\'t I do it right? Did I let you down?\\nMaybe you got too used to having me \\'round\\nStill how can you walk away\\nFrom all my tears\\nIt\\'s gonna be an empty road without me right here\\nBut go on and take it, take it all with you\\nDon\\'t look back at this crumbling fool\\nJust take it all with my love, take it all with my love Maybe I should leave, to help you see\\nNothing is better than this and this is everything we need\\nSo is it over? Is this really it, you\\'re giving up so easily\\nI thought you loved me more than this But go on, go on, take it, take it all with you\\nDon\\'t look back at this crumbling fool\\nJust take it all with my love, take it all with my love I will change if I must\\nSlow it down and bring it home, I will adjust\\nOh if only, if only you knew\\nEverything I do, is for you But go on and take it, take it all with you\\nDon\\'t look back at this crumbling fool\\nJust take it, take it all with you\\nDon\\'t look back at this crumbling fool\\nJust take it all, with my love\\nTake it all with my love\\nTake it all with my love This is how the story went\\nI met someone by accident\\nIt blew me away\\nBlew me away It was in the darkest of my days\\nWhen you took my sorrow and you took my pain\\nAnd buried them away, you buried them away I wish I could lay down beside you\\nWhen the day is done\\nAnd wake up to your face against the morning sun\\nBut like everything I\\'ve ever known\\nYou disappear one day\\nSo I spend my whole life hiding my heart away Dropped you off at the train station\\nPut a kiss on top of your head\\nWatch you wave\\nAnd watched you wave Then I went on home to my skyscrapers\\nAnd neon lights and waiting papers\\nThat I call home\\nI call that home I wish I could lay down beside you\\nWhen the day is done\\nAnd wake up to your face against the morning sun\\nBut like everything I\\'ve ever known\\nYou disappear one day\\nSo I spend my whole life hiding my heart away, away Woke up feeling heavy-hearted\\nI\\'m going back to where I started\\nThe morning rain, the morning rain\\nAnd though I wish that you were here\\nOn that same old road that brought me here\\nIt\\'s calling me home, It\\'s calling me home I wish I could lay down beside you\\nWhen the day is done\\nAnd wake up to your face against the morning sun\\nBut like everything I\\'ve ever known\\nYou disappear one day\\nSo I spend my whole life hiding my heart away\\nI can\\'t spend my whole life hiding my heart away I don\\'t want you to be no slave\\nI don\\'t want you to work all day\\nBut I want you to be true\\nAnd I just want to make love to you\\nLove to you, ooh baby\\nLove to you, yeah All I want to do is wash your clothes\\nI don\\'t want to keep you indoors\\nThere is nothing you can\\'t do\\nBut keep me making love to me\\nLove to me, ooh baby\\nLove to you, yeah And I can tell by the way you walk that walk\\nAnd I can hear by the way you talk that talk\\nAnd I can know by the way you treat your girl\\nThat I can give you all the loving in the whole wide world All I want you to do is make your bread\\nJust to make sure you\\'re well fed\\nI don\\'t want you sad and blue\\nAnd I just want to make love to you\\nLove to you, ooh yeah\\nLove to you, yeah And I can tell by the way you walk that walk\\nAnd I can hear by the way you talk that talk\\nAnd I can know by the way you treat your girl\\nThat I can give you all the loving in the whole wide world All I want you to do baby is make your bread\\nJust to make sure you\\'re well fed\\nI don\\'t want you sad and blue\\nAnd I just want to make love to you\\nLove to you, ooh yeah\\nLove to you, yeah\\nOh I just want to make love to you Happy New Year! Turn down the lights\\nTurn down the bed\\nTurn down these voices\\nInside my head Lay down with me\\nAnd tell me no lies\\nJust hold me closly\\nDon\\'t patronize Don\\'t patronize me \\'Cause I can\\'t make you love me\\nIf you don\\'t\\nYou can\\'t make your heart feel\\nSomething that it won\\'t\\nAnd even in the dark\\nThese final hours\\nI will lay down my heart\\nI will feel the power\\nBut you won\\'t\\nNo, you won\\'t\\n\\'Cause I can\\'t make you love me\\nWhen you don\\'t\\nWhen you don\\'t, yeah I\\'ll close my eyes\\n\\'Cause then I don\\'t see\\nThe love you don\\'t feel\\nWhen you\\'re holding me Morning will come\\nAnd I\\'ll do what\\'s right\\nJust give me till then\\nTo give up this fight And I will give up this fight \\'Cause I can\\'t make you love me\\nIf you don\\'t\\nYou can\\'t make your heart feel\\nSomething that it won\\'t\\nAnd even in the dark\\nThese final hours\\nI will lay down my heart\\nI will feel the power\\nBut you won\\'t\\nNo, you won\\'t\\n\\'Cause I can\\'t make you love me\\nWhen you don\\'t\\nWhen you don\\'t, ooh don\\'t\\nYou, when you don\\'t, yeah, yeah Hold me closer, one more time\\nSay that you love me in your last goodbye\\nPlease forgive me, for my sins\\nYes, I swam dirty waters\\nBut you pushed me in\\nI\\'ve seen your face, under every sky\\nOver every border and on every line\\nYou know my heart, more than I do\\nWe were the greatest, me and you But we had time against us\\nAnd miles between us\\nThe heavens cried\\nI know I left you speechless\\nBut now the sky has cleared and it\\'s blue\\nAnd I see my future in you I\\'ll be waiting for you when you\\'re ready to love me again\\nI\\'ll put my hands up\\nI\\'ll do everything different\\nI\\'ll be better to you,\\nI\\'ll be waiting for you when you\\'re ready to love me again\\nI\\'ll put my hands up\\nI\\'ll be somebody different\\nI\\'ll be better to you Let me stay here for just one more night\\nBuild your world around me\\nAnd pull me to the light\\nSo I can tell you that I was wrong\\nI was a child then, but now I\\'m willing to learn But we had time against us\\nAnd miles between us\\nThe heavens cried\\nI know I left you speechless\\nBut now the sky has cleared and it\\'s blue\\nAnd I see my future in you I\\'ll be waiting for you when you\\'re ready to love me again\\nI\\'ll put my hands up\\nI\\'ll do everything different\\nI\\'ll be better to you\\nI\\'ll be waiting for you when you\\'re ready to love me again\\nI\\'ll put my hands up\\nI\\'ll be somebody different\\nI\\'ll be better to you Time against us\\nMiles between us\\nHeavens cried\\nI know I left you speechless\\nTime against us\\nMiles between us\\nHeavens cried\\nI know I left you speechless\\nI know I left you speechless I\\'ll be waiting\\nI\\'ll be waiting for you when you\\'re ready to love me again\\nI\\'ll put my hands up\\nI\\'ll do everything different\\nI\\'ll be better to you\\nI\\'ll be waiting for you when you\\'re ready to love me again\\nI\\'ll put my hands up\\nI\\'ll be somebody different\\nI\\'ll be better for you This is the end\\nHold your breath and count to ten\\nFeel the Earth move, and then\\nHear my heart burst again For this is the end\\nI\\'ve drowned and dreamt this moment\\nSo overdue, I owe them\\nSwept away, I\\'m stolen Let the sky fall, when it crumbles\\nWe will stand tall\\nAnd face it all together\\nLet the sky fall, when it crumbles\\nWe will stand tall\\nAnd face it all together\\nAt sky fall\\nat sky fall Skyfall is where we start\\nA thousand miles and poles apart\\nWhere worlds collide and days are dark\\nYou may have my number\\nYou can take my name\\nBut you\\'ll never have my heart Let the sky fall, when it crumbles\\nWe will stand tall\\nAnd face it all together\\nLet the sky fall, when it crumbles\\nWe will stand tall\\nAnd face it all together\\nAt sky fall Let the sky fall, when it crumbles\\nWe will stand tall\\nLet the sky fall, when it crumbles\\nWe will stand tall Where you go I go\\nWhat you see I see\\nI know I\\'d never be me with out the security\\nOf your loving arms keeping me from harm\\nPut your hand in my hand\\nAnd we\\'ll stand.... Let the sky fall, when it crumbles\\nWe will stand tall\\nAnd face it all together\\nLet the sky fall, when it crumbles\\nWe will stand tall\\nAnd face it all together\\nAt sky fall Let the sky fall\\nWe will stand tall\\nAt skyfall (Verse 1)\\nThere\\'s a fire starting in my heart\\nReaching a fever pitch and it\\'s bringing me out the dark\\nFinally I can see you crystal clear\\nGo head and sell me out and I\\'ll lay your ship bare\\nSee how I\\'ll leave with every piece of you\\nDon\\'t underestimate the things that I will do\\nThere\\'s a fire starting in my heart\\nReaching a fever pitch and it\\'s bringing me out the dark Chorus 1\\nThe scars of your love remind me of us\\nThey keep me thinkin\\' that we almost had it all\\nThe scars of your love, they leave me breathless\\nI can\\'t help feeling, we could\\'ve had it all... (You\\'re gonna wish you never met me)\\nRolling in the deep... (Tears are gonna fall rollin\\' in the deep)\\nYou had my heart inside of your hand (You\\'re gonna wish you never met me)\\nAnd you played it to the beat (Tears are gonna fall rollin\\' in the deep) Verse 2\\nBaby I have no story to be told\\nBut I\\'ve heard one on you and I\\'m gonna make your head burn\\nThink of me in the depths of your despair\\nMaking a home down there, as mine sure won\\'t be shared (Chorus 2)\\nThe scars of your love remind me of us\\nThey keep me thinkin\\' that we almost had it all\\nThe scars of your love, they leave me breathless\\nI can\\'t help feeling, we could\\'ve had it all\\nRolling in the deep... you had my heart inside of your hand\\nAnd you played it to the beat\\nCould\\'ve had it all... Rollin\\' in the deep\\nYou had my heart inside of your hand\\nBut you played it with a beating (Verse 3)\\nThrow your stone through every open door\\nCount your blessings to find what you look for\\nTurn my sorrow into treasured gold\\nYou pay me back in kind and reap just what you sow (Chorus 3)\\nWe could\\'ve had it all... We could\\'ve had it all...\\nIt all, It all, It all... We could\\'ve had it all...\\nRollin\\' in the deep...\\nYou had my heart inside of your hand\\nAnd you played it to the beat\\nCould\\'ve had it all\\nRollin\\' in the deep\\nYou had my heart inside of your hand\\nBut you played it, you played it, you played it, you played it to the beat Some say, I\\'ll be better without you,\\nThey don\\'t know you like I do,\\nOr at least as far as I thought I knew\\nI can\\'t bear this time,\\nIt drags, as I lose my mind\\nReminded by things I find\\nI know some clothes you left behind.\\nWake me up, wake me up when all is done\\nI won\\'t rise until this battle\\'s won\\nMy dignity is become undone But I won\\'t go\\nI can\\'t do it on my own\\nIf this ain\\'t love, then what is?\\nI\\'m willing to take the risk\\nI won\\'t go, I can\\'t do it on my own,\\nIf this is ain\\'t love, then what is?\\nI\\'m willing to take the risk So petrified, I\\'m so scared to step into this right,\\nWhat if I lose my heart and fail the ?\\nI won\\'t forgive me if I gave up trying\\nI heard his voice today\\nI didn\\'t know a single word he said\\nNow I\\'m resemblance to the man I met\\nJust a vague and broken boy instead But I won\\'t go, I can\\'t do it on my own\\nIf this ain\\'t love, then what is?\\nI\\'m willing to take the risk\\nI won\\'t go, I can\\'t do it on my own\\nIf this ain\\'t love, then what is?\\nI\\'m willing to take the risk There will be times, we\\'ll try and give it up\\nBursting at the seams, no doubt\\nWe almost fall apart and burn up easy\\nSo watch them turn to dust\\nBut nothing will never taint us I won\\'t go, I can\\'t do it on my own\\nIf this ain\\'t love, then what is?\\nI\\'m willing to take the risk\\nI won\\'t go, I can\\'t do it on my own\\nIf this ain\\'t love, then what is?\\nI\\'m willing to take the risk Will he, will he still remember me?\\nWill he still love me even when he\\'s free\\nOr will he go back to the place where\\nHe will choose the poison over me?\\nWhen we spoke yesterday\\nHe said to hold my breath, to sit and wait\\nI\\'ll be home soon, I won\\'t be late He won\\'t go\\nHe can\\'t do it on his own\\nIf this ain\\'t love, then what is?\\nHe\\'s willing to take the risk\\nSo I won\\'t go, I can\\'t do it on his own,\\nIf this ain\\'t love, then what is?\\nI\\'m willing to take the risk \\'Cause he won\\'t go\\nHe can\\'t do it on his own\\nIf this ain\\'t love, then what is?\\nWe\\'re willing to take the risk\\nI won\\'t go! I can\\'t do it on my own\\nIf this ain\\'t love, then what is?\\nI\\'m willing to take the risk I let it fall, my heart,\\nAnd as it fell you rose to claim it\\nIt was dark and I was over\\nUntil you kissed my lips and you saved me My hands, they\\'re strong\\nBut my knees were far too weak\\nTo stand in your arms\\nWithout falling to your feet But there\\'s a side to you\\nThat I never knew, never knew\\nAll the things you\\'d say\\nThey were never true, never true\\nAnd the games you play\\nYou would always win, always win But I set fire to the rain\\nWatched it pour as I touched your face\\nWell, it burned while I cried\\n\\'Cause I heard it screaming Out your name,\\nYour name When I lay with you\\nI could stay there\\nClose my eyes\\nFeel you here forever\\nYou and me together nothing gets better \\'Cause there\\'s a side to you\\nThat I never knew, never knew\\nAll the things you\\'d say\\nThey were never true, never true\\nAnd the games you play\\nYou would always win, always win But I set fire to the rain\\nWatched it pour as I touched your face\\nWell, it burned while I cried\\n\\'Cause I heard it screaming out your name,\\nYour name I set fire to the rain\\nAnd I threw us into the flames\\nWell, it felt something died\\n\\'Cause I knew that that was\\nThe last time, the last time Sometimes I wake up by the door,\\nThat heart you caught must be waiting for you\\nEven now when we\\'re already over\\nI can\\'t help myself from looking for you I set fire to the rain\\nWatched it pour as I touched your face\\nWell, it burned while I cried\\n\\'Cause I heard it screaming Out your name,\\nYour name I set fire to the rain,\\nAnd I threw us into the flames\\nWell, it felt something died\\n\\'Cause I knew that, that was the last time\\nThe last time Let it burn\\nLet it burn\\nLet it burn Daydreamer\\nSitting on the sea\\nSoaking up the sun\\nHe is a real lover\\nAnd making up the past\\nFeeling up his girl\\nLike he\\'s never felt a figure before A jaw dropper\\nLooks good when he walks\\nIs the subject of their talk\\nHe would be hard to chase\\nBut good to catch\\nAnd he could change the world\\nWith his hands behind his back, oh You can find him sittin\\' on your doorstep\\nWaiting for a surprise\\nAnd he will feel like he\\'s been there for hours\\nAnd you can tell that he\\'ll be there for life Daydreamer\\nWith eyes that make you melt\\nHe lends his coat for shelter\\nPlus he\\'s there for you\\nWhen he shouldn\\'t be\\nBut he stays all the same\\nWaits for you\\nThen sees you through There\\'s no way I\\nCould describe him\\nWhat I\\'ll say is\\nJust what I\\'m hoping for But I will find him sittin\\' on my doorstep\\nWaiting for a surprise\\nAnd he will feel like he\\'s been there for hours\\nAnd I can tell that he\\'ll be there for life\\nAnd I can tell that he\\'ll be there for life With your loving, there ain\\'t nothing\\nThat I can\\'t adore\\nThe way I\\'m running, with you, honey\\nIs we can break every low\\nI find it funny that you\\'re the only\\nOne I never looked for\\nThere is something in your loving\\nThat tears down my walls I wasn\\'t ready then, I\\'m ready now\\nI\\'m heading straight for you\\nYou will only be eternally\\nThe one that I belong to The sweetest devotion\\nHitting me like an explosion\\nAll of my life, I\\'ve been frozen\\nThe sweetest devotion I\\'ve known I\\'ll forever be whatever you want me to be\\nI\\'ll go under and all over for your clarity\\nWhen you wonder if I\\'m gonna lose my way home\\nJust remember, that come whatever, I\\'ll be yours all alone I wasn\\'t ready then, I\\'m ready now\\nI\\'m heading straight for you\\nYou will only be eternally\\nThe one that I belong to The sweetest devotion\\nHitting me like an explosion\\nAll of my life, I\\'ve been frozen\\nThe sweetest devotion I\\'ve known I\\'ve been looking for you, baby\\nIn every face that I\\'ve ever known\\nAnd there is something \\'bout the way you love me\\nThat finally feels like home\\nAll my life, you\\'re my darkness\\nYou\\'re the right kind of madness\\nAnd you\\'re my hope, you\\'re my despair\\nYou\\'re my scope, everything, everywhere The sweetest devotion\\nHitting me like an explosion\\nAll of my life, I\\'ve been frozen\\nThe sweetest devotion I\\'ve known Sweetest\\nIt\\'s the sweetest\\nSweetest\\nIt\\'s the sweetest\\nSweetest\\nIt\\'s the sweetest\\nSweetest\\nIt\\'s the sweetest\\nDevotion [Verse 1]\\nWhen did it go wrong, I will never know\\nI have loved you all my life\\nHow did it slow down, I go round and round\\nThinking about it all the time [Pre-Chorus]\\nI gave you heaven on a platter baby\\nI gave you everything you never gave me\\nI never lied and I never faked it\\nOnly wanted for you to save me\\nThis love, it ain\\'t over yet\\nThere\\'s too much that I haven\\'t said [Chorus]\\nDid you find the note that I wrote?\\nI hid it in the seam of your coat\\nIt was hard to write, had a lump in my throat\\nDo you even know that I can\\'t let go [Verse 2]\\nWhy were you so cold, let the truth be told\\nTell me was it all for the thrill?\\nWhat was I thinking, I gave you everything\\nBut you still went for the kill [Pre-Chorus]\\nI gave you heaven on a platter baby\\nI gave you everything you never gave me\\nI never lied and I never faked it\\nOnly wanted for you to save me [Chorus]\\nDid you find the note that I wrote?\\nI hid it in the seam of your coat\\nIt was hard to write, had a lump in my throat\\nDo you even know that I can\\'t let go [Bridge]\\nOooh sometimes I feel like I\\'m in the dark\\nOooh I thought I\\'d die in your arms [Chorus]\\nDid you find the note that I wrote?\\nI hid it in the seam of your coat\\nIt was hard to write, I had a lump in my throat\\nDo you even know that I can\\'t let go [Outro]\\nHope you know, I won\\'t let go I thought I told you, he\\'d be home soon\\nCouldn\\'t help myself, you\\'re too good to be true.\\nI fall short each time,\\nEvery time he ain\\'t here\\nYou and your charm creep closer\\nCloser and near\\nLike a fool for fire, I fall, with my pride and all.\\nLike a bomb before explosion,\\nTicking by your call,\\nYou\\'re the wiser one, disguised from greed,\\nAnd I\\'m just a child who belongs on her knees. But I found a boy who I love more,\\nThan I ever did you before,\\nSo stand beside the river I cried,\\nAnd lay yourself down.\\nLook how you want me now that I don\\'t need you. So, you thought that I\\'d crumble to my knees\\nAt the first sight of you crawling back to me\\nTo whisper \"will you leave your man? \"\\nCause you swear that this time you can stand by me.\\nI won\\'t stand by you. Cause I found a boy who I love more,\\nThan I ever did you before,\\nSo stand beside the river I cried\\nAnd lay yourself down.\\nLook how you want me now that I don\\'t need you! I ain\\'t yours for no taking,\\nYou must be mistaken\\nI could never look into your eyes, and settle for wrong\\nAnd ignore the right When I found a boy who loves me more,\\nThan you ever did me before.\\nSo stand beside the river you cried\\nAnd lay yourself down!\\nLook how you want me now that I don\\'t need you! Found myself today singing out your name,\\nYou said I\\'m crazy,\\nIf I am I\\'m crazy for you. Sometimes sitting in the dark wishing you were here\\nTurns me crazy,\\nBut it\\'s you who makes me lose my head. And every time I\\'m meant to be acting sensible\\nYou drift into my head\\nAnd turn me into a crumbling fool. Tell me to run and I\\'ll race,\\nIf you want me to stop I\\'ll freeze,\\nAnd if you want me gone. I\\'ll leave, just hold me closer baby,\\nAnd make me crazy for you.\\nCrazy for you. Lately with this state I\\'m in I can\\'t help myself but spin.\\nI wish you\\'d come over,\\nSend me spinning closer to you. My oh my, how my blood boils, it\\'s sweet taste for you,\\nStrips me down bare\\nAnd gets me into my favorite mood. I keep on trying, fighting these feelings away,\\nBut the more I do,\\nThe crazier I turn into. Pacing floors and opening doors,\\nHoping you\\'ll walk through\\nAnd save me boy,\\nBecause I\\'m too crazy for you.\\nCrazy for you Everybody tells me it\\'s \\'bout time that I moved on\\nAnd I need to learn to lighten up and learn how to be young\\nBut my heart is a valley, it\\'s so shallow and man made\\nI\\'m scared to death if I let you in that you\\'ll see I\\'m just a fake\\nSometimes I feel lonely in the arms of your touch\\nBut I know that\\'s just me, \\'cause nothing ever is enough\\nWhen I was a child I grew up by the River Lea\\nThere was something in the water, now that something\\'s in me\\nOh I can\\'t go back, but the reeds are growing out of my fingertips\\nI can\\'t go back to the river But it\\'s in my roots, it\\'s in my veins\\nIt\\'s in my blood and I stain every heart that I use to heal the pain But it\\'s in my roots, it\\'s in my veins\\nIt\\'s in my blood and I stain every heart that I use to heal the pain\\nSo I blame it on the River Lea, the River Lea, the River Lea\\nYeah, I blame it on the River Lea, the River Lea, the River Lea I should probably tell you now before it\\'s way too late\\nThat I never meant to hurt you or lie straight to your face\\nConsider this my apology, I know it\\'s years in advance\\nBut I\\'d rather say it now in case I never get the chance\\nNo, I can\\'t go back, but the reeds are growing out of my fingertips\\nI can\\'t go back to the river But it\\'s in my roots, it\\'s in my veins\\nIt\\'s in my blood and I stain every heart that I use to heal the pain It\\'s in my roots, it\\'s in my veins\\nIt\\'s in my blood and I stain every heart that I use to heal the pain So I blame it on the River Lea, the River Lea, the River Lea\\nYeah I blame it on the River Lea, the River Lea, the River Lea So I blame it on the River Lea, the River Lea, the River Lea\\nYeah, I blame it on the River Lea, the River Lea, the River Lea I never woulda hitch-hiked to Birmingham\\nIf it hadn\\'t been for love\\nI never woulda caught the train to Louisiana\\nIf it hadn\\'t been for love\\nI never woulda run through the blindin\\' rain\\nWithout one dollar to my name\\nIf it hadn\\'t been, if it hadn\\'t been for love I never woulda seen the trouble that I\\'m in\\nIf it hadn\\'t been for love\\nWoulda been gone like a wayward wind\\nIf it hadn\\'t been for love\\nNobody knows it better than me\\nI wouldn\\'t be wishing I was free\\nIf it hadn\\'t been, if it hadn\\'t been for love Four cold walls against my will\\nAt least I know he\\'s lying still\\nFour cold walls without parole\\nLord have mercy on my soul Four cold walls against my will\\nAt least I know he\\'s lying still\\nFour cold walls without parole\\nLord have mercy on my soul I never woulda hitch-hiked to Birmingham\\nIf it hadn\\'t been for love\\nI never woulda caught the train to Louisiana\\nIf it hadn\\'t been for love\\nI never woulda loaded up a forty-four\\nPut myself behind a jailhouse door\\nIf it hadn\\'t been, if it hadn\\'t been for love\\nIf it hadn\\'t been, if it hadn\\'t been for love, yes\\nIf it hadn\\'t been, if it hadn\\'t been for love, yes Hold my hand while you cut me down\\nIt had only just begun but now it\\'s over now\\nAnd you\\'re in the heat of moments with your heart playing up cold\\nI\\'m between the middle watching hastiness unfold\\nOn my eyes you were smiling in the spotlight dancing with the night\\nThe night\\nWhen I fell off your mind I\\'m tired of trying\\nYour teasing ain\\'t enough\\nFed up of biding your time\\nWhen I don\\'t get nothing back\\nAnd for what, and for what, and for what\\nWhen I don\\'t get nothing back\\nOy, I\\'m tired Where\\'d you go when you stayed behind\\nI looked up and inside down and outside only to find\\nA double taking punching hard and laughing at my smile\\nI get closer you obviously prefer her I\\'m tired of trying\\nYour teasing ain\\'t enough\\nFed up of biding your time\\nWhen I don\\'t get nothing back\\nAnd for what, and for what, and for what\\nWhen I don\\'t get nothing back\\nBoy I\\'m tired of trying\\nYour teasing ain\\'t enough\\nFed up of biding your time\\nWhen I don\\'t get nothing back\\nAnd for what, and for what, and for what\\nWhen I don\\'t get nothing back\\nOy, I\\'m tired (I should have known) Never mind said your open arms\\nI couldn\\'t help believe they tricked me back into them, even though I\\'m tired of trying\\nYour teasing ain\\'t enough\\nFed up of biding your time\\nWhen I don\\'t get nothing back\\nAnd for what, and for what, and for what\\nWhen I don\\'t get nothing back\\nBoy I\\'m tired of trying\\nYour teasing ain\\'t enough\\nFed up of biding your time\\nWhen I don\\'t get nothing back\\nAnd for what, and for what, and for what\\nWhen I don\\'t get nothing back\\nOy, I\\'m tired Who wants to be right as rain\\nIt\\'s better when something is wrong\\nYou get excitement in your bones\\nAnd everything you do\\'s a game\\nWhen night comes and you\\'re on your own\\nYou can say I chose to be alone\\nWho wants to be right as rain\\nIt\\'s harder when you\\'re on top \\'Cause when hard work don\\'t pay off\\nAnd I\\'m tired there ain\\'t no room in my bed\\nAs far as I\\'m concerned\\nSo wipe that dirty smile off\\nWe won\\'t be making up\\nI\\'ve cried my heart out\\nAnd now I\\'ve had enough of love Who wants to be riding high\\nWhen you\\'ll just crumble back on down\\nYou give up everything you are\\nAnd even then you don\\'t get far\\nThey make believe that everything\\nIs exactly what it seems\\nBut at least when you\\'re at your worst\\nYou know how to feel things \\'Cause when hard work don\\'t pay off\\nAnd I\\'m tired there ain\\'t no room in my bed\\nAs far as I\\'m concerned\\nSo wipe that dirty smile off\\nWe won\\'t be making up\\nI\\'ve cried my heart out\\nAnd now I\\'ve had enough of love Go ahead and still my heart\\nTo make me cry again\\n\\'Cause it will never hurt\\nAs much as it did then\\nWe were both right\\nAnd no one had blame\\nBut now I give up\\nOn this endless game \\'Cause who wants to be right as rain\\nIt\\'s better when something is wrong\\nI get excitement in my bones\\nEven though everything\\'s a strain\\nWhen night comes and I\\'m on my own\\nYou should know I chose to be alone\\nWho wants to be right as rain\\nIt\\'s harder when you\\'re on top \\'Cause when hard work don\\'t pay off\\nAnd I\\'m tired there ain\\'t no room in my bed\\nAs far as I\\'m concerned\\nSo wipe that dirty smile off\\nWe won\\'t be making up\\nI\\'ve cried my heart out\\nAnd now I\\'ve had enough of love No room in my bed\\nAs far as I\\'m concerned\\nSo wipe that dirty smile off\\nWe won\\'t be making up\\nI\\'ve cried my heart out\\nAnd now I\\'ve had enough of love So little to say but so much time\\nDespite my empty mouth the words are in my mind\\nPlease wear the face, the one where you smile\\nBecause you lighten up my heart when I start to cry Forgive me first love, but I\\'m tired\\nI need to get away to feel again\\nTry to understand why, don\\'t get so close to change my mind\\nPlease wipe that look out of your eyes, it\\'s bribing me to doubt myself\\nSimply, it\\'s tiring This love has dried up and stayed behind\\nAnd if I stay I\\'ll be alive\\nThen choke on words I\\'d always hide\\nExcuse me first love, but we\\'re through\\nI need to taste the kiss from someone new Forgive me first love, but I\\'m too tired\\nI\\'m bored to say the least and I, I lack desire\\nForgive me first love, forgive me first love, forgive me first love\\nForgive me first love forgive me, forgive me first love, forgive me first love This is the end\\nHold your breath and count to ten\\nFeel the earth move and then\\nHear my heart burst again For this is the end\\nI\\'ve drowned and dreamt this moment\\nSo overdue I owe them\\nSwept away, I\\'m stolen Let the skyfall\\nWhen it crumbles\\nWe will stand tall\\nFace it all together Let the skyfall\\nWhen it crumbles\\nWe will stand tall\\nFace it all together\\nAt skyfall\\nAt skyfall Skyfall is where we start\\nA thousand miles and poles apart\\nWhere worlds collide and days are dark\\nYou may have my number, you can take my name\\nBut you\\'ll never have my heart Let the skyfall (let the sky fall)\\nWhen it crumbles (when it crumbles)\\nWe will stand tall (we will stand tall)\\nFace it all together Let the skyfall (let the sky fall)\\nWhen it crumbles (when it crumbles)\\nWe will stand tall (we will stand tall)\\nFace it all together\\nAt skyfall [x2:]\\n(Let the sky fall\\nWhen it crumbles\\nWe will stand tall) Where you go I go\\nWhat you see I see\\nI know I\\'d never be me\\nWithout the security\\nOf your loving arms\\nKeeping me from harm\\nPut your hand in my hand\\nAnd we\\'ll stand Let the skyfall (let the sky fall)\\nWhen it crumbles (when it crumbles)\\nWe will stand tall (we will stand tall)\\nFace it all together Let the skyfall (let the sky fall)\\nWhen it crumbles (when it crumbles)\\nWe will stand tall (we will stand tall)\\nFace it all together\\nAt skyfall Let the sky fall\\nWe will stand tall\\nAt skyfall This is how the story went\\nI met someone by accident\\nIt blew me away\\nBlew me away It was in the darkest of my days\\nWhen you took my sorrow and you took my pain\\nAnd buried them away, you buried them away I wish I could lay down beside you\\nWhen the day is done\\nAnd wake up to your face against the morning sun\\nBut like everything I\\'ve ever known\\nYou disappear one day\\nSo I spend my whole life hiding my heart away Dropped you off at the train station\\nPut a kiss on top of your head\\nWatch you wave\\nAnd watched you wave Then I went on home to my skyscrapers\\nAnd neon lights and waiting papers\\nThat I call home\\nI call that home I wish I could lay down beside you\\nWhen the day is done\\nAnd wake up to your face against the morning sun\\nBut like everything I\\'ve ever known\\nYou disappear one day\\nSo I spend my whole life hiding my heart away, away Woke up feeling heavy-hearted\\nI\\'m going back to where I started\\nThe morning rain, the morning rain\\nAnd though I wish that you were here\\nOn that same old road that brought me here\\nIt\\'s calling me home, It\\'s calling me home I wish I could lay down beside you\\nWhen the day is done\\nAnd wake up to your face against the morning sun\\nBut like everything I\\'ve ever known\\nYou disappear one day\\nSo I spend my whole life hiding my heart away\\nI can\\'t spend my whole life hiding my heart away Right under my feet there\\'s air made of bricks\\nPulls me down turns me weak for you\\nI find myself repeating like a broken tune\\nAnd I\\'m forever excusing your intentions\\nThat I give in to my pretendings\\nWhich forgive you each time\\nWithout me knowing\\nThey melt my heart to stone And I hear your words that I made up\\nYou say my name like there could be an us\\nI best tidy up my head I\\'m the only one in love\\nI\\'m the only one in love Each and every time I turn around to leave\\nI feel my heart begin to burst and bleed\\nSo desperately I try to link it with my head\\nBut instead I fall back to my knees\\nAs you tear your way right through me\\nI forgive you once again\\nWithout me knowing\\nYou\\'ve burnt my heart to stone And I hear your words that I made up\\nYou say my name like there could be an us\\nI best tidy up my head I\\'m the only one in love\\nI\\'m the only one in love Why do you steal my hand\\nWhenever I\\'m standing my own ground\\nYou build me up, then leave me dead I hear your words you made up\\nI say your name like there should be an us\\nI best tidy up my head I\\'m the only one, in love\\nI\\'m the only one in love Fool that I am for falling in love with you\\nAnd fool that I am for thinking you loved me too You took my heart then played the part of little coquette\\nAnd my dreams just disappeared like the smoke from a cigarette Fool that I am for hoping you\\'d understand\\nAnd thinking you would listen to all of the things\\nThe things I had planned But we couldn\\'t see eye to eye\\nSo darling\\nDarling\\nDarling this is goodbye Oh\\nI still care\\nFool that I am\\nOoh\\nI still care\\nFool that I am You say it\\'s all in my head\\nAnd the things I think just don\\'t make sense\\nSo where you been then? Don\\'t go all coy\\nDon\\'t turn it round on me like it\\'s my fault\\nSee I can see that look in your eyes\\nThe one that shoots me each and every time You grace me with your cold shoulder\\nWhenever you look at me I wish I was her\\nYou shower me with words made of knives\\nWhenever you look at me I wish I was her These days when I see you\\nYou make it look like I\\'m see-through\\nDo tell me why you waste our time\\nWhen your heart ain\\'t in it, and you\\'re not satisfied\\nYou know I know just how you feel\\nI\\'m starting to find myself feeling that way too When you grace me with your cold shoulder\\nWhenever you look at me I wish I was her\\nYou shower me with words made of knives\\nWhenever you look at me I wish I was her Time and time again, I play the role of fool\\n(Just for you)\\nEven in the daylight when you think that\\n(I don\\'t see you)\\nTry to look for things I hear but our eyes never find\\nThough I do know how you play You grace me with your cold shoulder\\nWhenever you look at me I wish I was her\\nYou shower me with words made of knives\\nWhenever you look at me I wish I was her You grace me with your cold shoulder\\nWhenever you look at me I wish I was her\\nYou shower me with words made of knives\\nWhenever you look at me I wish I was her [Adele]\\nWhy do you love me\\nDo you love me...?\\nWhy do you love me\\nDo you love me?\\nWhy do you love me\\nDo you love me? Why do you love me...? Why do you love me, do you love me?\\nWhy do you love me, do you love me?\\nWhy do you love me, do you love me?\\nWhy do you love me? Why do you love me?\\nThere must be something in the water\\nCause baby I\\'m in deeper than I knew\\nHow do you keep me coming back for more\\nAfter all we\\'ve been through\\nI can\\'t decide if I should run and hide It\\'s above and beyond me\\nIt\\'s out of my hands\\nYour love drives me crazy\\nIt\\'s hard to understand just why\\nI want you to love me\\nI want you to love me\\nI want you to love me\\nI want you to love me... Who knows why I love you\\nIt could be something in the air I breath\\nWhatever it is, I depend on it\\nWhere does the time go?\\nI spend every single moment daydreaming of you\\nI can\\'t describe how I feel, it feels right It\\'s above and beyond me\\nIt\\'s out of my hands\\nYour love drives me crazy\\nIt\\'s hard to understand just why\\nI want you to love me\\nI want you to love me\\nI want you to love me\\nI want you to love me You were a shock in the dark that blew me away\\nAnd you left your mark and it never will fade\\nYou ignited a spark, let the fires away\\nAre you ready, ready?\\nYou have a place in my heart that will always be yours\\nYou are the peak and art of my universe\\nEvery piece and part, you were the first\\nI am ready, ready It\\'s above and beyond me,\\nIt\\'s out of my hands\\nYour love drives me crazy, it\\'s hard to understand just why\\nI want you to love me\\nI want you to love me\\nI want you to love me\\nI want you It\\'s above and beyond me,\\nIt\\'s out of my hands\\nYour love drives me crazy, it\\'s hard to understand just why\\nI want you to love me\\nI want you to love me\\nI want you to love me\\nI want you to love me... Why do you love me, do you love me?\\nWhy do you love me, do you love me?\\nWhy do you love me, do you love me?\\nWhy do you love me, do you love me? You said I\\'m stubborn and I never give in\\nI think you\\'re stubborn \\'cept you\\'re always softening\\nYou say I\\'m selfish, I agree with you on that\\nI think you\\'re giving out in way too much in fact\\nI say we\\'ve only known each other a year\\nYou say I\\'ve known you longer my dear\\nYou like to be so close, I like to be alone\\nI like to sit on chairs and you prefer the floor\\nWalking with each other,\\nThink we\\'ll never match at all, but we do\\nBut we do, but we do, but we do I thought I knew myself, somehow you know me more\\nI\\'ve never known this, never before\\nYou\\'re the first to make up whenever we argue\\nI don\\'t know who I\\'d be if I didn\\'t know you\\nYou\\'re so provocative, I\\'m so conservative\\nYou\\'re so adventurous, I\\'m so very cautious, combining\\nYou think we would and we do,\\nBut we do, but we do, but we do Favoritism ain\\'t my thing but,\\nIn this situation I\\'ll be glad Favoritism ain\\'t my thing but,\\nIn this situation I\\'ll be glad to make an exception You said I\\'m stubborn and I never give in\\nI think you\\'re stubborn \\'cept you\\'re always softening\\nYou say I\\'m selfish, I agree with you on that\\nI think you\\'re giving out in way too much in fact\\nI say we\\'ve only known each other one year\\nYou say I\\'ve known you longer my dear\\nYou like to be so close, I like to be alone\\nI like to sit on chairs and you prefer the floor\\nWalking with each other,\\nThink we\\'ll never match at all, but we do In the darkness of my heart is a shadow of your face\\nFrom the deepest part of my regret\\nI hear the words I wish I\\'d said\\nAt the dawning of the day\\nI can\\'t wait to see the light\\nMake up memories in my head\\nThey help to fill the emptiness you\\'ve left\\nI can\\'t drown in your tears\\nI won\\'t face your fears\\nI need to fight my own\\nYou\\'ll never see me again oh baby in time\\nLet the weight take me under\\nI know I\\'ll survive\\nYou\\'ll never see me again At the dawning of the day\\nI can\\'t bare to see the light\\nMake up memories in my head\\nThey help to fill the emptiness you\\'ve left\\nI can\\'t drown in your tears\\nI won\\'t face your fears\\nI need to fight my own\\nYou\\'ll never see me again oh baby in time\\nLet the weight take me under\\nI know I\\'ll survive Let the floor beneath of me fall\\nLet the sky come crashing down\\nTurn all my right to wrong\\nBut after you that goes on\\nYou\\'ll never see me again\\nI\\'ve been learning to live without you\\nIt\\'s taken all of my stake\\nBut I\\'m stronger now You\\'ll never see me again oh baby in time\\nLet the weight take me under\\nI know I\\'ll survive Let the floor beneath of me fall\\nLet the sky come crashing down\\nTurn all my right to wrong\\nBut after you that goes on\\nYou\\'ll never see me again\\nYou\\'ll never see me again\\nYou\\'ll never see me again I want to see your face in every kind of light\\nIn fields of dawn and forests of the night\\nAnd when you stand before the candles on a cake\\nOh, let me be the one to hear the silent wish you make What are you doing the rest of your life?\\nNorth and South and East and West of your life\\nI have only one request of your life\\nThat you spend it all with me All the seasons and the times of your days\\nAll the nickels and the dimes of your days\\nLet the reasons and the rhymes of your days\\nAll begin and end with me I want to see your face in every kind of light\\nIn the fields of dawn and the forests of the night\\nAnd when you stand before the candles on a cake\\nOh, let me be the one to hear the silent wish you make Those tomorrows waiting deep in your eyes\\nIn the world of love that you keep in your eyes\\nI\\'ll awaken what\\'s asleep in your eyes\\nIt may take a kiss or two Through all of my life\\nSummer, Winter, Spring, and Fall of my life\\nAll I ever will recall of my life\\nIs all of my life with you Wait, do you see my heart on my sleeve?\\nIt\\'s been there for days on end and\\nIt\\'s been waiting for you to open up\\nYours too baby, come on now\\nI\\'m trying to tell you just how\\nI\\'d like to hear the words roll out of your mouth finally\\nSay that it\\'s always been me That\\'s made you feel the way you\\'ve never felt before\\nAnd I\\'m all you need and that you never want more\\nThen you\\'d say all of the right things without a clue\\nBut you\\'d save the best for last\\nLike I\\'m the one for you You should know that you\\'re just a temporary fix\\nThis is not rooted with you it don\\'t mean that much to me\\nOh just a filler in the space that happened to be free\\nHow dare you think you\\'d get away with trying to play me Why is it every time I think I\\'ve tried my hardest\\nIt turns out it ain\\'t enough\\nYou\\'re still not mentioning love\\nWhat am I supposed to do to make you want me properly?\\nI\\'m taking these chances and getting nowhere\\nAnd though I\\'m trying my hardest you go back to her\\nAnd I think that I know things may never change\\nI\\'m still hoping one day I might hear you say I make you feel the way you\\'ve never felt before\\nAnd I\\'m all you need and that you never want more\\nThen you\\'d say all of the right things without a clue\\nBut you\\'d save the best for last\\nLike I\\'m the one for you You should know that you\\'re just a temporary fix\\nThis is not rooted with you it don\\'t mean that much to me\\nOh just a filler in the space that happened to be free\\nHow dare you think you\\'d get away with trying to play me But, despite the truth that I know\\nI find it hard to let go and give up on you\\nSeems I love the things you do\\nLike the meaner you treat me the more eager I am\\nTo persist with this heartbreak and running around\\nAnd I will do until I\\'m finding myself you And make you feel a way you\\'ve never felt before\\nAnd be all you need so that you never want more\\nAnd you\\'ll say all of the right things without a clue\\nAnd you\\'ll be the one for me and me the one for you I let it fall, my heart,\\nAnd as it fell you rose to claim it\\nIt was dark and I was over\\nUntil you kissed my lips and you saved me My hands, they\\'re strong\\nBut my knees were far too weak\\nTo stand in your arms\\nWithout falling to your feet But there\\'s a side to you\\nThat I never knew, never knew\\nAll the things you\\'d say\\nThey were never true, never true\\nAnd the games you play\\nYou would always win, always win But I set fire to the rain\\nWatched it pour as I touched your face\\nWell, it burned while I cried\\n\\'Cause I heard it screaming Out your name,\\nYour name When I lay with you\\nI could stay there\\nClose my eyes\\nFeel you here forever\\nYou and me together nothing gets better \\'Cause there\\'s a side to you\\nThat I never knew, never knew\\nAll the things you\\'d say\\nThey were never true, never true\\nAnd the games you play\\nYou would always win, always win But I set fire to the rain\\nWatched it pour as I touched your face\\nWell, it burned while I cried\\n\\'Cause I heard it screaming out your name,\\nYour name I set fire to the rain\\nAnd I threw us into the flames\\nWell, it felt something died\\n\\'Cause I knew that that was\\nThe last time, the last time Sometimes I wake up by the door,\\nThat heart you caught must be waiting for you\\nEven now when we\\'re already over\\nI can\\'t help myself from looking for you I set fire to the rain\\nWatched it pour as I touched your face\\nWell, it burned while I cried\\n\\'Cause I heard it screaming Out your name,\\nYour name I set fire to the rain,\\nAnd I threw us into the flames\\nWell, it felt something died\\n\\'Cause I knew that, that was the last time\\nThe last time Let it burn\\nLet it burn\\nLet it burn [Adele]\\nI would never lie to you unless you tell me to...\\nEvery part of me\\nAll my words to hold\\nAnd hold against me\\nWhy won\\'t you let it be? Don\\'t you ever say my love opened up your heart\\nNo I\\'m not gonna do it standing up\\nThe words don\\'t come out right when you\\'re right in front of me\\nHelp me baby\\nWon\\'t you turn off the lights Lay me down\\n\\'til the morning!\\nLay me down (through the night)\\nLay me down (I can fall in)\\nLay me down (Won\\'t you)\\nLay me down (I can baby)\\nLay me down (Someone believe me) I would never break the rules unless you tell me to\\nYou can read my mind, be it truth or lies\\nLie down beside me, why won\\'t you let it be? Don\\'t you ever say my love opened up your heart\\nNo I\\'m not gonna do it standing up\\nThe words don\\'t come out right when you\\'re right in front of me\\nHelp me baby, won\\'t you turn off the lights Lay me down (\\'til the morning)\\nLay me down (through the night)\\nLay me down (I can fall in)\\nLay me down (Won\\'t you)\\nLay me down (I can baby)\\nLay me down (Someone believe me) Lay down with me\\nLay down with me\\nLay down with me\\nLay down with me Words don\\'t come out right when you\\'re right in front of me\\nHelp me baby, won\\'t you turn off the lights Lay me down (\\'til the morning)\\nLay me down (through the night)\\nLay me down (I can fall in)\\nLay me down (Won\\'t you)\\nLay me down (I can baby)\\nLay me down\\nSomeone believe me Never been a girl who used to cry\\nDidn`t show emotions, don`t know why\\nDidn`t wanna feel the pain inside, I guess But as the years keep going by,\\nyou came along and changed my mind\\nI should leave the past behind me,\\nI should let you find me,\\nsupposed to stay beside me\\nYou were supposed to guide me,\\nthrough the ups and downs,\\nyou were always gonna be around until the end I still think we could\\n`cause you and me, we`re good\\nAnd I`ll tell you why this hurts, \\'cause I`m sober But I just wanna be drunk\\nso I can forget about you\\nand all the stupid things that love has put me through\\nEven when I\\'ve had too much,\\nI still feel your touch\\nMaybe this just means that I`m not drunk enough So I pour myself another drink\\nwhenever I start to think about you\\n`cause I do but I really don`t want to\\nbut sometimes my dreams just come through And when I get there,\\nto a place where I see you in a kitchen\\nI start wishing for that thing and I don`t need you,\\nI don`t really wanna see you\\nand I don`t want you to see me,\\nyou would think that I was crazy,\\nyou might think that I wanna be close to you\\nbut I`d rather wanna drink some Whisky\\nand maybe have a little sip `o wine\\n`cause right now it`s the only thing that makes me forget you were mine\\nbut right now I am sober But I just wanna be drunk\\nso I can forget about you\\nand all the stupid things that love has put me through\\nEven when I\\'ve had too much,\\nI still feel your touch\\nMaybe this just means that I`m not drunk enough I still think we could\\n(I`m not drunk enough)\\n`cause you and me, we`re good\\n`cause I`m sober But I just wanna be drunk\\nso I can forget about you\\nand all the stupid things that love has put me through\\nEven when I\\'ve had too much,\\nI still feel your touch\\nMaybe this just means that I`m not drunk enough (I still think we could)\\nBut I just wanna be drunk\\nso I can forget about you\\nand all the stupid things that love has put me through\\n(`cause you and me we`re good)\\nEven when I\\'ve had too much,\\nI still feel your touch\\nMaybe this just means that I`m not drunk enough Think I\\'ve had enough\\nI must my way\\nI\\'ve fallen off the edge to find that I\\'ve gone blind\\nYou\\'re leading me astray\\nYou haunt me like a ghost\\nAnd that scares me the most\\nThere you are the devil on my shoulder\\nSmiling as the flames are growing colder\\nHow can I believer what I have?\\nFor a little confidence I\\'ll grab But when my hand goes out don\\'t take it for I\\'m trying to make it on my own\\nI fell it in my bones any minute now!\\nThis train of thought will leave the statio\\nMy impatience will come out to play\\nYou\\'ve turned out to be the only face I see!\\nRunning through the empty hallways I can tell that I am not alone You spin a web in every room\\nYou spin a web in every room\\nAnd try to break the backbone that I\\'ve grown\\nWill I make my own path or wander where I\\'m thrown\\nWill I make my own path or wander where I\\'m thrown\\nOr wander where I\\'m thrown? When we used\\nTo say goodnight\\nI\\'d always kiss\\nAnd hold you tight\\nBut lately\\nYou don\\'t seem\\nTo care\\nYou close the door\\nAnd leave me\\nStanding there\\nOh, honey\\nThat\\'s not fair\\nThat\\'s it\\nI quit\\nI\\'m movin\\' on The other night\\nWe had a date\\nAn you showed up\\nTwo hours late\\nAnd though your hair\\nWas all in place\\nSomebody smeared\\nTheir lipstick\\nOn your face\\nOh, they smeared it\\nEvery place\\nYe that\\'s it honey\\nI quit I\\'m movin\\' on [Chorus]\\nYou made me want you\\nYou made me leave you\\nYou made me tumble\\nAnd fall\\nBut if I\\nCan\\'t have you the way\\nI want you\\nI don\\'t want you at all Baby, I can take a lot\\n\\'Cause I love\\nEverything you got\\nThough your kisses\\nFill me\\nSo if you got\\nSomeone else\\nI gotta go\\nOh, that you know\\nYe that\\'s it honey\\nI quit I\\'m movin\\' on [Chorus] Baby\\nI can take a lot\\n\\'Cause I love\\nEverything you got\\nThough your kisses\\nFill me\\nSo if you got\\nSomeone else\\nI gotta go\\nOh, that you know\\nSo that\\'s it baby\\nI quit I\\'m movin\\' on\\nYe that\\'s it baby\\nI quit now\\nI\\'m movin\\' on Don\\'t ask me\\nWhat you know is true\\nDon\\'t have to tell you\\nI love your precious heart I was standing\\nYou were there\\nTwo worlds collided\\nAnd they could never tear us apart We could live\\nFor a thousand years\\nBut if I hurt you\\nI\\'d make wine from your tears I told you\\nThat we could fly\\n\\'Cause we all have wings\\nBut some of us don\\'t know why I\\nI was standing\\nYou were there\\nTwo worlds collided\\nAnd they could never ever tear us apart I know sometimes you\\'re scared of the light\\nBut how will you ever know if you never try\\nThere\\'s something new inside my heart\\nAnd it grabs like a child whenever we\\'re apart\\nI see your face under every sky\\nI find the less I look, more I find\\nSo let\\'s go back there, back to the star\\nYou know I\\'m never gonna leave you\\nYou\\'re the only one I want\\nLet\\'s go back there, back to the star\\nYou know I\\'m never gonna leave you\\nYou\\'re the only one I want You know sometimes that I\\'m scared of the dark\\nBut I\\'m feeling sun babe when I\\'m in your arms\\nYou said my name in the dead of glory\\nYou hold me alright\\nWhen I\\'m short of falling So let\\'s go back there, back to the star\\nYou know I\\'m never gonna leave you\\nYou\\'re the only one I want\\nLet\\'s go back there, back to the star\\nYou know I\\'m never gonna leave you\\nYou\\'re the only one I want There will be times\\nWhen we\\'ll try to give it up\\nBursting out, it seems no doubt that will almost fall apart than burn to pieces\\nAnd we\\'ll watch them turn to dust\\nBut without each other, nothing is easy enough So let\\'s go back there, back to the star\\nYou know I\\'m never gonna leave you\\nYou\\'re the only one I want\\nLet\\'s go back there, back to the star\\nYou know I\\'m never gonna leave you\\n\\'cause you\\'re the only one I want, yeah\\nYou\\'re the only one\\nNever gonna leave you\\nNo, I\\'m never gonna leave you, no Go ahead, go ahead and smash it on the floor\\nTake whatever is left, and take it with you out the door\\nSee if I cry\\nSee if I shed a single sorry tear\\nCan\\'t say that it\\'s been that great\\nNo in fact it\\'s been a wasted worried year [Chorus]\\nEverybody sees\\nAnd everyone agrees\\nThat you and I are wrong\\nAnd it\\'s been that way to long\\nTake it as it comes\\nAnd be thankful when it\\'s done\\nThere\\'s so many ways to act\\nAnd there\\'s many shades of black\\nThere\\'s so many shades of black Let it out, let it all out\\nSay what\\'s on your mind\\nYou can kick and scream and shout and say things that are so unkind\\nYeah-see if I care, see if I stand firm or if I fall\\nCause in the back of my mind, and on the tip of my tongue\\nIs the answer to it all [Chorus] Yeah there\\'s many shades of black [Chorus] Cause there\\'s many shades of black\\nThere\\'s so many shades of black\\nYeah there\\'s any shades of black\\nThere\\'s so many shades of black\\nYeah there\\'s many shades of black\\nThere\\'s so many shades of black\\nAnd there\\'s many shades of black\\nThere\\'s so many shades of black Go ahead... Last night she said\\nOh, baby\\nI feel so down\\nOh, and turned me off\\nWhen I feel left out\\nSo I\\nI turned around\\nOh, baby\\nI don\\'t care no more\\nI know this for sure\\nI\\'m walking\\nOut that door Well, I\\'ve been in town\\nFor just about fifteen\\nWhole minutes now\\nOh, baby, I feel so down\\nAnd I don\\'t know why\\nI keep walking for miles But the people\\nThey don\\'t understand\\nNo, girlfriends\\nThey can\\'t understand\\nYour grandsons\\nThey won\\'t understand\\nOn top of this\\nI ain\\'t ever\\nGonna understand Last night she said\\nOh, baby\\nDon\\'t feel so down\\nOh, and turned me off\\nWhen I feel left out\\nSo I, I turned around\\nOh, baby\\nI\\'m gonna be alright\\nIt was a great big lie\\nCuz I left that night\\nYeah Oh, people\\nThey don\\'t understand\\nNo, girlfriends\\nThey don\\'t understand\\nIn spaceships\\nThey won\\'t understand\\nAnd me\\nI ain\\'t ever\\nGonna understand Last night she said\\nOh, baby\\nI feel so down\\nShe had turned me off\\nWhen I feel left out\\nSo I\\nI turned around\\nOh, little girl\\nI don\\'t care no more\\nI know this for sure\\nI\\'m walking\\nOut that door, yeah Painting pictures with my mind\\nMaking memories using my eyes\\nFilling up my heart with golden stories\\nWho adds some spice to the rhythm of life, oh Welcome sunrise with the morning glory\\nI\\'ve changed my mind\\nThere is no simple\\nI thought of me, I want to see\\nI want to feel my heartbeat so\\nWith the world that you feel, leave I can feel the pressure pushing onto my heart\\nAnd it\\'s teasing me\\nTo scratch my itch and beat my drum\\nSo I can start to begin what\\'s begun Painting pictures\\nFilling up my heart with golden stories Painting pictures\\nFilling up my heart with golden stories Running riots inside my soul\\nFire burning and it\\'s lighting me up\\nTo scratch my itch and beat my drum\\nSo I can finish what has begun Painting pictures\\nFilling up my heart with golden stories Painting pictures\\nFilling up my heart with golden stories Sometimes the hole you left hurts\\nMy heart so bad, it cuts through\\nThe deepest parts of me and fills up my mouth with the words that cry\\nOut, I\\'m still trying to stay inside Hearts break and hearts wait\\nTo make us grow from dust\\nThen our eyes cry and souls sigh\\nSo that we know that it hurts Our hearts break and hearts wait\\nTo make us grow from dust\\nThen our eyes cry and souls sigh\\nSo that we know that it hurts Every now and then my memories ache\\nWith empty ideas of the ones we\\'d have made it\\nBut as time goes on and my age gets older\\nI love the ones I know, they\\'re enough to picture the rest \\'Cause heart break and hearts wait\\nTo make us grow from dust\\nThen our eyes cry and souls sigh\\nSo that we know that it hurts Our hearts break and hearts wait\\nTo make us grow from dust\\nThen our eyes cry and souls sigh\\nSo that we know that it hurts You know when to make me, imagine you\\'re here\\nYou know when to make me, imagine you\\'re here\\nYou know when to make me, imagine you\\'re here\\nYou know when to make me, imagine you\\'re here Find yourself a girl\\nAnd settle down\\nLive a simple life\\nIn a quiet town Steady as she goes\\n(Steady as she goes)\\nSteady as she goes\\n(Steady as she goes) So steady as she goes Your friends have shown\\nA kink\\nIn the single life\\nYou\\'ve had\\nToo much to think\\nNow you need a wife Steady as she goes\\n(Steady as she goes)\\nSo steady as she goes\\n(Steady as she goes) Well here we go again\\nYou\\'ve found yourself\\nA friend\\nThat knows you well\\nBut no matter\\nWhat you do\\nYou\\'ll always feel\\nAs though you\\nTripped and fell So steady as she goes When you have completed\\nWhat you thought\\nYou had to do\\nAnd your blood\\'s\\nDepleted\\nTo the point\\nOf stable glue Then you\\'ll get along\\nThen you\\'ll get along Steady as she goes\\n(Steady as she goes)\\nSo steady as she goes\\n(Steady as she goes) Well here we go again\\nYou\\'ve found yourself\\nA friend\\nThat knows you well\\nBut no matter\\nWhat you do\\nYou\\'ll always feel\\nAs though you\\nTripped and fell So steady as she goes\\nSteady as she goes Settle for a girl\\n(Settle for a girl)\\nNeither up or down\\n(Neither up or down)\\nSell it to the crowd\\n(Sell it to the crowd)\\nThat is gathered round\\n(That is gathered round) Settle for a girl\\n(Settle for a girl)\\nNeither up or down\\n(Neither up or down)\\nSell it to the crowd\\n(Sell it to the crowd)\\nThat is gathered round\\n(That is gathered round) So steady as she goes\\n(Steady as she goes)\\nSteady as she goes\\n(Steady as she goes) Steady as she goes\\n(Steady as she goes)\\nSo steady as she goes\\n(Steady as she goes) Steady as she go\\nAre you steady now?\\nSteady as she goes\\nAre you steady now? Steady as she goes\\nAre you steady now?\\nSteady as she goes\\nAre you steady now? Steady as she goes I\\'m insane in the brain\\nYou\\'re not already...\\nFeel the pain running through my veins\\nDon\\'t you piss me off, pretentious, ostentatious\\nOther words are spring to me\\n... emolicious, for the shoot posses no... And you want me to respect you\\nAnd have... for yourself\\nYou\\'re out of control with nobody around to help\\nHelp, help oh oh. Chorus:\\nThis time you\\'re on your own\\nRunning back to mommy hoping that she\\'s home\\nBut if she\\'s not there and you\\'re on your alone\\nSo... you then go calling\\nCall it a fiasco, call it a fiasco, fiasco\\n... fiasco, fiasco,... fiasco\\n1 2 3 4.\\nHustle...\\nWanna try to testify in a... of happiness\\nBe the best, have success,\\nDoesn\\'t mean you\\'re Hollywood Feel blessed not impressed\\nBy the glamour if you think you could. And you want me to respect you\\nAnd have... for yourself\\nYou\\'re out of control with nobody around to help\\nHelp, help oh oh. Chorus:\\nThis time you\\'re on your own\\nRunning about the mammy hoping that she\\'s home\\nBut if she\\'s not there and you\\'re on your alone\\nSo... you then go calling\\nFiasco, call it fiasco, fiasco\\n... fiasco, fiasco,... fiasco\\n1 2 3 4. Fiasco, fiasco [Chorus:]\\n1 2 3 4\\nI\\'m calling, I\\'m calling, I\\'m calling it fiasco,\\nI\\'m calling, I\\'m calling, I\\'m calling it fiasco,\\nI\\'m calling, I\\'m calling, I\\'m calling it fiasco. '"
            ]
          },
          "metadata": {
            "tags": []
          },
          "execution_count": 18
        }
      ]
    },
    {
      "cell_type": "code",
      "metadata": {
        "id": "FnC3zYN9UInx"
      },
      "source": [
        "data = response.text.splitlines()"
      ],
      "execution_count": 19,
      "outputs": []
    },
    {
      "cell_type": "code",
      "metadata": {
        "id": "Gqez6iRVUItj",
        "colab": {
          "base_uri": "https://localhost:8080/"
        },
        "outputId": "297dc5bf-bd3e-4ecb-8dae-5f9042024a87"
      },
      "source": [
        "len(data)"
      ],
      "execution_count": 20,
      "outputs": [
        {
          "output_type": "execute_result",
          "data": {
            "text/plain": [
              "2400"
            ]
          },
          "metadata": {
            "tags": []
          },
          "execution_count": 20
        }
      ]
    },
    {
      "cell_type": "code",
      "metadata": {
        "id": "4PJGQzRFUIky",
        "colab": {
          "base_uri": "https://localhost:8080/"
        },
        "outputId": "3e43427b-2d85-4a5c-b356-ce6058879c6c"
      },
      "source": [
        "len(\" \".join(data))"
      ],
      "execution_count": 24,
      "outputs": [
        {
          "output_type": "execute_result",
          "data": {
            "text/plain": [
              "91330"
            ]
          },
          "metadata": {
            "tags": []
          },
          "execution_count": 24
        }
      ]
    },
    {
      "cell_type": "markdown",
      "metadata": {
        "id": "SNPOGqKhU1F0"
      },
      "source": [
        "## Build LSTM Model and Prepare X and y"
      ]
    },
    {
      "cell_type": "code",
      "metadata": {
        "id": "mtQDfONHUIho"
      },
      "source": [
        "# tokenization"
      ],
      "execution_count": 25,
      "outputs": []
    },
    {
      "cell_type": "code",
      "metadata": {
        "id": "hvdCDKi8UIez"
      },
      "source": [
        "import numpy as np\n",
        "from tensorflow.keras.preprocessing.text import Tokenizer\n",
        "from tensorflow.keras.utils import to_categorical\n",
        "from tensorflow.keras.models import Sequential\n",
        "from tensorflow.keras.layers import Dense, LSTM, Embedding\n",
        "from tensorflow.keras.preprocessing.sequence import pad_sequences"
      ],
      "execution_count": 26,
      "outputs": []
    },
    {
      "cell_type": "code",
      "metadata": {
        "id": "LkVKR4ezDpwt"
      },
      "source": [
        "token = Tokenizer()\n",
        "token.fit_on_texts(data)"
      ],
      "execution_count": 27,
      "outputs": []
    },
    {
      "cell_type": "code",
      "metadata": {
        "id": "SkUqUwE7WEKr"
      },
      "source": [
        "#token.word_counts"
      ],
      "execution_count": 29,
      "outputs": []
    },
    {
      "cell_type": "code",
      "metadata": {
        "id": "0Etpzs_OWksF"
      },
      "source": [
        "#help(token)"
      ],
      "execution_count": 30,
      "outputs": []
    },
    {
      "cell_type": "code",
      "metadata": {
        "id": "2KbRf_z6W0cV",
        "colab": {
          "base_uri": "https://localhost:8080/"
        },
        "outputId": "dbb3c0da-c233-43c6-ee56-88485f418704"
      },
      "source": [
        "token.word_index"
      ],
      "execution_count": 31,
      "outputs": [
        {
          "output_type": "execute_result",
          "data": {
            "text/plain": [
              "{'i': 1,\n",
              " 'you': 2,\n",
              " 'the': 3,\n",
              " 'me': 4,\n",
              " 'to': 5,\n",
              " 'it': 6,\n",
              " 'and': 7,\n",
              " 'my': 8,\n",
              " 'your': 9,\n",
              " 'that': 10,\n",
              " 'love': 11,\n",
              " 'of': 12,\n",
              " 'in': 13,\n",
              " 'all': 14,\n",
              " 'we': 15,\n",
              " 'a': 16,\n",
              " \"i'm\": 17,\n",
              " 'when': 18,\n",
              " 'but': 19,\n",
              " 'be': 20,\n",
              " 'for': 21,\n",
              " 'so': 22,\n",
              " \"don't\": 23,\n",
              " 'never': 24,\n",
              " \"you're\": 25,\n",
              " 'let': 26,\n",
              " 'if': 27,\n",
              " 'is': 28,\n",
              " 'know': 29,\n",
              " 'up': 30,\n",
              " 'go': 31,\n",
              " 'down': 32,\n",
              " 'will': 33,\n",
              " 'on': 34,\n",
              " 'just': 35,\n",
              " 'do': 36,\n",
              " \"ain't\": 37,\n",
              " 'heart': 38,\n",
              " 'like': 39,\n",
              " 'with': 40,\n",
              " 'baby': 41,\n",
              " \"it's\": 42,\n",
              " 'want': 43,\n",
              " 'this': 44,\n",
              " \"i've\": 45,\n",
              " 'say': 46,\n",
              " 'no': 47,\n",
              " 'as': 48,\n",
              " 'had': 49,\n",
              " 'make': 50,\n",
              " 'can': 51,\n",
              " 'out': 52,\n",
              " 'ooh': 53,\n",
              " 'was': 54,\n",
              " 'one': 55,\n",
              " \"can't\": 56,\n",
              " 'time': 57,\n",
              " 'what': 58,\n",
              " 'are': 59,\n",
              " 'feel': 60,\n",
              " 'see': 61,\n",
              " \"i'll\": 62,\n",
              " 'fall': 63,\n",
              " 'there': 64,\n",
              " 'were': 65,\n",
              " 'gonna': 66,\n",
              " 'more': 67,\n",
              " \"won't\": 68,\n",
              " 'oh': 69,\n",
              " 'back': 70,\n",
              " 'face': 71,\n",
              " 'have': 72,\n",
              " 'yeah': 73,\n",
              " 'at': 74,\n",
              " \"'cause\": 75,\n",
              " 'only': 76,\n",
              " 'been': 77,\n",
              " 'stand': 78,\n",
              " 'ready': 79,\n",
              " 'way': 80,\n",
              " 'take': 81,\n",
              " 'has': 82,\n",
              " 'could': 83,\n",
              " 'she': 84,\n",
              " 'give': 85,\n",
              " 'wish': 86,\n",
              " 'now': 87,\n",
              " 'lay': 88,\n",
              " 'then': 89,\n",
              " 'miss': 90,\n",
              " 'why': 91,\n",
              " 'every': 92,\n",
              " 'us': 93,\n",
              " 'always': 94,\n",
              " 'our': 95,\n",
              " 'or': 96,\n",
              " 'they': 97,\n",
              " 'look': 98,\n",
              " 'again': 99,\n",
              " 'life': 100,\n",
              " 'sky': 101,\n",
              " 'right': 102,\n",
              " 'things': 103,\n",
              " 'away': 104,\n",
              " 'rumor': 105,\n",
              " 'steady': 106,\n",
              " 'even': 107,\n",
              " 'nothing': 108,\n",
              " 'by': 109,\n",
              " 'not': 110,\n",
              " 'goes': 111,\n",
              " 'from': 112,\n",
              " 'leave': 113,\n",
              " 'think': 114,\n",
              " 'everything': 115,\n",
              " 'should': 116,\n",
              " 'made': 117,\n",
              " \"there's\": 118,\n",
              " 'better': 119,\n",
              " 'mind': 120,\n",
              " 'tell': 121,\n",
              " 'how': 122,\n",
              " 'deep': 123,\n",
              " 'eyes': 124,\n",
              " 'enough': 125,\n",
              " 'name': 126,\n",
              " 'her': 127,\n",
              " 'tall': 128,\n",
              " 'hold': 129,\n",
              " 'who': 130,\n",
              " 'last': 131,\n",
              " 'knew': 132,\n",
              " 'night': 133,\n",
              " 'help': 134,\n",
              " 'keep': 135,\n",
              " 'world': 136,\n",
              " 'through': 137,\n",
              " 'where': 138,\n",
              " 'rain': 139,\n",
              " 'lights': 140,\n",
              " 'find': 141,\n",
              " 'before': 142,\n",
              " 'get': 143,\n",
              " 'too': 144,\n",
              " 'crumbles': 145,\n",
              " 'river': 146,\n",
              " 'sometimes': 147,\n",
              " 'home': 148,\n",
              " \"you'll\": 149,\n",
              " 'here': 150,\n",
              " 'still': 151,\n",
              " 'am': 152,\n",
              " 'into': 153,\n",
              " 'said': 154,\n",
              " 'own': 155,\n",
              " 'treat': 156,\n",
              " \"you'd\": 157,\n",
              " 'hand': 158,\n",
              " 'ever': 159,\n",
              " 'would': 160,\n",
              " 'fire': 161,\n",
              " 'set': 162,\n",
              " 'together': 163,\n",
              " 'come': 164,\n",
              " 'words': 165,\n",
              " 'he': 166,\n",
              " 'well': 167,\n",
              " 'new': 168,\n",
              " 'over': 169,\n",
              " 'dark': 170,\n",
              " 'met': 171,\n",
              " 'both': 172,\n",
              " 'skyfall': 173,\n",
              " 'kids': 174,\n",
              " 'day': 175,\n",
              " 'true': 176,\n",
              " 'known': 177,\n",
              " 'rolling': 178,\n",
              " 'tears': 179,\n",
              " 'head': 180,\n",
              " 'cried': 181,\n",
              " 'whenever': 182,\n",
              " \"i'd\": 183,\n",
              " 'gotta': 184,\n",
              " 'under': 185,\n",
              " \"we've\": 186,\n",
              " 'off': 187,\n",
              " 'lea': 188,\n",
              " 'wanna': 189,\n",
              " 'hear': 190,\n",
              " 'turn': 191,\n",
              " 'remember': 192,\n",
              " 'left': 193,\n",
              " 'need': 194,\n",
              " 'without': 195,\n",
              " 'waiting': 196,\n",
              " 'put': 197,\n",
              " 'calling': 198,\n",
              " 'heard': 199,\n",
              " 'light': 200,\n",
              " 'played': 201,\n",
              " 'much': 202,\n",
              " 'myself': 203,\n",
              " 'something': 204,\n",
              " 'fool': 205,\n",
              " 'send': 206,\n",
              " 'lover': 207,\n",
              " 'fiasco': 208,\n",
              " \"that's\": 209,\n",
              " 'than': 210,\n",
              " 'inside': 211,\n",
              " 'burn': 212,\n",
              " 'apart': 213,\n",
              " 'hands': 214,\n",
              " \"you've\": 215,\n",
              " 'ghosts': 216,\n",
              " 'chorus': 217,\n",
              " \"hadn't\": 218,\n",
              " 'some': 219,\n",
              " 'got': 220,\n",
              " 'walk': 221,\n",
              " 'whole': 222,\n",
              " 'stay': 223,\n",
              " 'free': 224,\n",
              " 'alone': 225,\n",
              " 'young': 226,\n",
              " 'hard': 227,\n",
              " 'giving': 228,\n",
              " 'morning': 229,\n",
              " 'maybe': 230,\n",
              " 'gave': 231,\n",
              " 'done': 232,\n",
              " \"we're\": 233,\n",
              " 'close': 234,\n",
              " 'cold': 235,\n",
              " 'trying': 236,\n",
              " 'sweetest': 237,\n",
              " 'understand': 238,\n",
              " 'girl': 239,\n",
              " 'someone': 240,\n",
              " 'play': 241,\n",
              " 'wrong': 242,\n",
              " 'while': 243,\n",
              " 'far': 244,\n",
              " 'arms': 245,\n",
              " 'win': 246,\n",
              " 'cause': 247,\n",
              " 'crazy': 248,\n",
              " 'try': 249,\n",
              " 'end': 250,\n",
              " 'against': 251,\n",
              " 'forgive': 252,\n",
              " 'tired': 253,\n",
              " 'looking': 254,\n",
              " 'hurts': 255,\n",
              " 'told': 256,\n",
              " 'door': 257,\n",
              " 'other': 258,\n",
              " 'call': 259,\n",
              " 'did': 260,\n",
              " 'cry': 261,\n",
              " 'black': 262,\n",
              " 'around': 263,\n",
              " 'thought': 264,\n",
              " 'shades': 265,\n",
              " 'first': 266,\n",
              " 'talk': 267,\n",
              " \"couldn't\": 268,\n",
              " 'best': 269,\n",
              " 'forget': 270,\n",
              " 'days': 271,\n",
              " 'feeling': 272,\n",
              " 'about': 273,\n",
              " 'felt': 274,\n",
              " 'side': 275,\n",
              " 'watched': 276,\n",
              " 'wake': 277,\n",
              " 'water': 278,\n",
              " 'turning': 279,\n",
              " 'round': 280,\n",
              " 'pain': 281,\n",
              " 'beside': 282,\n",
              " 'though': 283,\n",
              " 'willing': 284,\n",
              " 'many': 285,\n",
              " \"let's\": 286,\n",
              " 'sun': 287,\n",
              " 'his': 288,\n",
              " 'sure': 289,\n",
              " 'found': 290,\n",
              " 'beat': 291,\n",
              " 'running': 292,\n",
              " 'scared': 293,\n",
              " 'until': 294,\n",
              " 'pour': 295,\n",
              " 'bridge': 296,\n",
              " 'them': 297,\n",
              " 'spend': 298,\n",
              " 'risk': 299,\n",
              " 'waste': 300,\n",
              " 'making': 301,\n",
              " 'loving': 302,\n",
              " 'fed': 303,\n",
              " 'blue': 304,\n",
              " 'two': 305,\n",
              " 'scars': 306,\n",
              " 'hello': 307,\n",
              " 'between': 308,\n",
              " 'miles': 309,\n",
              " 'thousand': 310,\n",
              " 'anymore': 311,\n",
              " 'touched': 312,\n",
              " 'screaming': 313,\n",
              " 'chasing': 314,\n",
              " 'pavements': 315,\n",
              " 'place': 316,\n",
              " 'please': 317,\n",
              " 'boy': 318,\n",
              " \"he's\": 319,\n",
              " 'yourself': 320,\n",
              " 'easy': 321,\n",
              " 'hiding': 322,\n",
              " 'floor': 323,\n",
              " 'tables': 324,\n",
              " 'an': 325,\n",
              " 'each': 326,\n",
              " 'drunk': 327,\n",
              " 'fast': 328,\n",
              " \"they're\": 329,\n",
              " 'instead': 330,\n",
              " 'memories': 331,\n",
              " 'soul': 332,\n",
              " 'these': 333,\n",
              " 'years': 334,\n",
              " 'fell': 335,\n",
              " 'feet': 336,\n",
              " 'times': 337,\n",
              " 'sorry': 338,\n",
              " 'least': 339,\n",
              " 'already': 340,\n",
              " 'knees': 341,\n",
              " 'care': 342,\n",
              " 'makes': 343,\n",
              " 'nowhere': 344,\n",
              " 'live': 345,\n",
              " 'walking': 346,\n",
              " 'wonders': 347,\n",
              " 'start': 348,\n",
              " 'standing': 349,\n",
              " \"we'll\": 350,\n",
              " 'harder': 351,\n",
              " 'woulda': 352,\n",
              " 'sad': 353,\n",
              " 'old': 354,\n",
              " 'fight': 355,\n",
              " 'sell': 356,\n",
              " 'thinking': 357,\n",
              " 'tried': 358,\n",
              " 'tear': 359,\n",
              " 'word': 360,\n",
              " 'pretend': 361,\n",
              " 'ask': 362,\n",
              " 'use': 363,\n",
              " 'knows': 364,\n",
              " 'falling': 365,\n",
              " 'flames': 366,\n",
              " 'hoping': 367,\n",
              " 'whatever': 368,\n",
              " 'leads': 369,\n",
              " 'kiss': 370,\n",
              " 'people': 371,\n",
              " 'doubts': 372,\n",
              " 'worlds': 373,\n",
              " 'different': 374,\n",
              " 'must': 375,\n",
              " 'little': 376,\n",
              " 'closer': 377,\n",
              " 'pull': 378,\n",
              " 'tight': 379,\n",
              " 'room': 380,\n",
              " \"could've\": 381,\n",
              " 'wait': 382,\n",
              " 'break': 383,\n",
              " 'devotion': 384,\n",
              " 'blame': 385,\n",
              " 't': 386,\n",
              " 'm': 387,\n",
              " 'turned': 388,\n",
              " 'hearts': 389,\n",
              " 'stupid': 390,\n",
              " 'keeps': 391,\n",
              " 'friend': 392,\n",
              " 'lasts': 393,\n",
              " 'bringing': 394,\n",
              " 'finally': 395,\n",
              " 'almost': 396,\n",
              " 'story': 397,\n",
              " 'pay': 398,\n",
              " 'kind': 399,\n",
              " 'outside': 400,\n",
              " 'run': 401,\n",
              " 'games': 402,\n",
              " 'threw': 403,\n",
              " 'everybody': 404,\n",
              " 'chance': 405,\n",
              " 'moment': 406,\n",
              " 'long': 407,\n",
              " 'movie': 408,\n",
              " 'song': 409,\n",
              " 'case': 410,\n",
              " 'however': 411,\n",
              " 'change': 412,\n",
              " 'goodbye': 413,\n",
              " 'single': 414,\n",
              " 'loved': 415,\n",
              " 'went': 416,\n",
              " 'space': 417,\n",
              " \"she's\": 418,\n",
              " 'mean': 419,\n",
              " 'lose': 420,\n",
              " 'promise': 421,\n",
              " 'feels': 422,\n",
              " 'gently': 423,\n",
              " 'thing': 424,\n",
              " 'hurt': 425,\n",
              " 'umm': 426,\n",
              " 'forgiven': 427,\n",
              " 'rising': 428,\n",
              " 'watch': 429,\n",
              " 'save': 430,\n",
              " 'touch': 431,\n",
              " 'illuminates': 432,\n",
              " 'dirty': 433,\n",
              " 'seems': 434,\n",
              " 'disappear': 435,\n",
              " '1': 436,\n",
              " '2': 437,\n",
              " 'behind': 438,\n",
              " 'dust': 439,\n",
              " 'burned': 440,\n",
              " 'good': 441,\n",
              " 'settle': 442,\n",
              " 'teasing': 443,\n",
              " 'smile': 444,\n",
              " 'star': 445,\n",
              " 'bad': 446,\n",
              " 'friends': 447,\n",
              " 'security': 448,\n",
              " 'work': 449,\n",
              " 'wide': 450,\n",
              " 'year': 451,\n",
              " \"didn't\": 452,\n",
              " 'starting': 453,\n",
              " 'bare': 454,\n",
              " 'piece': 455,\n",
              " 'mine': 456,\n",
              " 'count': 457,\n",
              " 'heal': 458,\n",
              " 'used': 459,\n",
              " 'million': 460,\n",
              " 'seem': 461,\n",
              " 'matter': 462,\n",
              " \"what's\": 463,\n",
              " 'cruel': 464,\n",
              " 'strong': 465,\n",
              " 'forever': 466,\n",
              " 'gets': 467,\n",
              " 'caught': 468,\n",
              " 'god': 469,\n",
              " 'might': 470,\n",
              " 'exactly': 471,\n",
              " 'getting': 472,\n",
              " 'part': 473,\n",
              " 'doubt': 474,\n",
              " 'eye': 475,\n",
              " 'bring': 476,\n",
              " 'meant': 477,\n",
              " 'grow': 478,\n",
              " 'past': 479,\n",
              " 'dare': 480,\n",
              " 'air': 481,\n",
              " 'shows': 482,\n",
              " 'breath': 483,\n",
              " 'may': 484,\n",
              " 'big': 485,\n",
              " 'thrown': 486,\n",
              " 'changed': 487,\n",
              " 'remedy': 488,\n",
              " 'crumbling': 489,\n",
              " 'blew': 490,\n",
              " 'took': 491,\n",
              " 'train': 492,\n",
              " 'top': 493,\n",
              " 'bed': 494,\n",
              " 'hours': 495,\n",
              " 'speechless': 496,\n",
              " 'verse': 497,\n",
              " \"rollin'\": 498,\n",
              " '3': 499,\n",
              " 'walls': 500,\n",
              " 'blood': 501,\n",
              " 'veins': 502,\n",
              " 'four': 503,\n",
              " 'biding': 504,\n",
              " 'believe': 505,\n",
              " 'wants': 506,\n",
              " 'wipe': 507,\n",
              " 'shoulder': 508,\n",
              " 'don': 509,\n",
              " 'quit': 510,\n",
              " \"movin'\": 511,\n",
              " 'painting': 512,\n",
              " 'pictures': 513,\n",
              " 'filling': 514,\n",
              " 'golden': 515,\n",
              " 'stories': 516,\n",
              " 'bore': 517,\n",
              " 'details': 518,\n",
              " 'ease': 519,\n",
              " 'mr': 520,\n",
              " 'their': 521,\n",
              " 'having': 522,\n",
              " 'fun': 523,\n",
              " 'bread': 524,\n",
              " 'dreams': 525,\n",
              " 'beg': 526,\n",
              " 'reaching': 527,\n",
              " 'fever': 528,\n",
              " 'pitch': 529,\n",
              " 'remind': 530,\n",
              " 'breathless': 531,\n",
              " 'open': 532,\n",
              " 'woah': 533,\n",
              " 'sorrow': 534,\n",
              " 'after': 535,\n",
              " 'supposed': 536,\n",
              " 'breaking': 537,\n",
              " \"doesn't\": 538,\n",
              " 'hope': 539,\n",
              " 'memory': 540,\n",
              " 'matters': 541,\n",
              " 'ends': 542,\n",
              " 'weak': 543,\n",
              " 'move': 544,\n",
              " 'nobody': 545,\n",
              " 'gone': 546,\n",
              " 'yet': 547,\n",
              " 'earth': 548,\n",
              " 'reason': 549,\n",
              " 'once': 550,\n",
              " 'breathe': 551,\n",
              " 'really': 552,\n",
              " 'melt': 553,\n",
              " 'prove': 554,\n",
              " 'mile': 555,\n",
              " 'starts': 556,\n",
              " 'road': 557,\n",
              " \"nobody's\": 558,\n",
              " 'perfect': 559,\n",
              " 'trust': 560,\n",
              " 'learned': 561,\n",
              " 'same': 562,\n",
              " 'hometown': 563,\n",
              " 'collide': 564,\n",
              " 'taking': 565,\n",
              " 'burst': 566,\n",
              " 'body': 567,\n",
              " 'wanted': 568,\n",
              " 'survive': 569,\n",
              " 'cuts': 570,\n",
              " 'truth': 571,\n",
              " 'empty': 572,\n",
              " 'buried': 573,\n",
              " 'wave': 574,\n",
              " 'heavens': 575,\n",
              " 'somebody': 576,\n",
              " 'child': 577,\n",
              " 'died': 578,\n",
              " 'coat': 579,\n",
              " 'honey': 580,\n",
              " 'explosion': 581,\n",
              " 'yours': 582,\n",
              " 'roots': 583,\n",
              " 'stain': 584,\n",
              " 'lie': 585,\n",
              " 'concerned': 586,\n",
              " 'ahead': 587,\n",
              " 'grace': 588,\n",
              " 'shower': 589,\n",
              " 'knives': 590,\n",
              " 'above': 591,\n",
              " 'beyond': 592,\n",
              " 'drives': 593,\n",
              " 'stubborn': 594,\n",
              " 'fill': 595,\n",
              " 'means': 596,\n",
              " 'souls': 597,\n",
              " 'sigh': 598,\n",
              " 'imagine': 599,\n",
              " 'neither': 600,\n",
              " 'crowd': 601,\n",
              " 'gathered': 602,\n",
              " 'read': 603,\n",
              " 'clothes': 604,\n",
              " 'happy': 605,\n",
              " 'came': 606,\n",
              " 'guess': 607,\n",
              " 'hide': 608,\n",
              " 'hate': 609,\n",
              " 'reminded': 610,\n",
              " 'surprise': 611,\n",
              " 'glory': 612,\n",
              " 'regrets': 613,\n",
              " 'taste': 614,\n",
              " 'shit': 615,\n",
              " 'underestimate': 616,\n",
              " 'despair': 617,\n",
              " \"must've\": 618,\n",
              " 'called': 619,\n",
              " 'clearly': 620,\n",
              " 'town': 621,\n",
              " 'happened': 622,\n",
              " \"they've\": 623,\n",
              " 'next': 624,\n",
              " 'lovers': 625,\n",
              " 'rose': 626,\n",
              " 'claim': 627,\n",
              " 'kissed': 628,\n",
              " 'lips': 629,\n",
              " 'saved': 630,\n",
              " 'die': 631,\n",
              " 'watching': 632,\n",
              " 'reminds': 633,\n",
              " 'photograph': 634,\n",
              " 'realized': 635,\n",
              " 'restless': 636,\n",
              " 'fears': 637,\n",
              " 'holding': 638,\n",
              " 'reckless': 639,\n",
              " \"haven't\": 640,\n",
              " 'belong': 641,\n",
              " \"wouldn't\": 642,\n",
              " 'regret': 643,\n",
              " 'seen': 644,\n",
              " 'build': 645,\n",
              " 'fly': 646,\n",
              " 'final': 647,\n",
              " 'wandering': 648,\n",
              " 'less': 649,\n",
              " 'missing': 650,\n",
              " 'stayed': 651,\n",
              " 'bear': 652,\n",
              " 'simply': 653,\n",
              " 'worthy': 654,\n",
              " 'stop': 655,\n",
              " 'dear': 656,\n",
              " 'short': 657,\n",
              " 'desert': 658,\n",
              " 'ten': 659,\n",
              " 'drowned': 660,\n",
              " 'dreamt': 661,\n",
              " 'overdue': 662,\n",
              " 'owe': 663,\n",
              " 'swept': 664,\n",
              " 'stolen': 665,\n",
              " 'poles': 666,\n",
              " 'number': 667,\n",
              " 'keeping': 668,\n",
              " 'harm': 669,\n",
              " 'heat': 670,\n",
              " 'learning': 671,\n",
              " 'ago': 672,\n",
              " 'any': 673,\n",
              " 'oceans': 674,\n",
              " 'defeated': 675,\n",
              " 'ah': 676,\n",
              " 'longer': 677,\n",
              " 'ones': 678,\n",
              " 'heaven': 679,\n",
              " 'great': 680,\n",
              " 'sleeping': 681,\n",
              " 'going': 682,\n",
              " 'yes': 683,\n",
              " 'learn': 684,\n",
              " 'stone': 685,\n",
              " 'man': 686,\n",
              " 'sit': 687,\n",
              " 'late': 688,\n",
              " 'him': 689,\n",
              " \"he'll\": 690,\n",
              " 'straight': 691,\n",
              " 'hitting': 692,\n",
              " 'frozen': 693,\n",
              " 'note': 694,\n",
              " 'wrote': 695,\n",
              " 'hid': 696,\n",
              " 'seam': 697,\n",
              " 'write': 698,\n",
              " 'lump': 699,\n",
              " 'throat': 700,\n",
              " 'wishing': 701,\n",
              " 'turns': 702,\n",
              " 'spin': 703,\n",
              " 'growing': 704,\n",
              " 'begun': 705,\n",
              " 'oy': 706,\n",
              " 'prefer': 707,\n",
              " 'bones': 708,\n",
              " 'comes': 709,\n",
              " 'mouth': 710,\n",
              " 'tidy': 711,\n",
              " 'begin': 712,\n",
              " 'darling': 713,\n",
              " 'fact': 714,\n",
              " 'weight': 715,\n",
              " 'clue': 716,\n",
              " 'front': 717,\n",
              " \"'til\": 718,\n",
              " 'along': 719,\n",
              " 're': 720,\n",
              " 'sober': 721,\n",
              " 'wander': 722,\n",
              " 'ye': 723,\n",
              " '4': 724,\n",
              " 'education': 725,\n",
              " 'bullshit': 726,\n",
              " 'conversation': 727,\n",
              " 'signs': 728,\n",
              " 'affirmation': 729,\n",
              " 'ladies': 730,\n",
              " 'babies': 731,\n",
              " 'absence': 732,\n",
              " 'cupid': 733,\n",
              " 'slave': 734,\n",
              " 'wash': 735,\n",
              " 'indoors': 736,\n",
              " 'uninvited': 737,\n",
              " 'hoped': 738,\n",
              " \"isn't\": 739,\n",
              " 'yesterday': 740,\n",
              " 'summer': 741,\n",
              " 'crystal': 742,\n",
              " 'clear': 743,\n",
              " 'clean': 744,\n",
              " 'version': 745,\n",
              " \"'head\": 746,\n",
              " 'ship': 747,\n",
              " 'depths': 748,\n",
              " 'shared': 749,\n",
              " 'beating': 750,\n",
              " 'throw': 751,\n",
              " 'blessings': 752,\n",
              " 'treasured': 753,\n",
              " 'gold': 754,\n",
              " 'reap': 755,\n",
              " 'sow': 756,\n",
              " 'coming': 757,\n",
              " 'tomorrow': 758,\n",
              " 'asking': 759,\n",
              " 'loves': 760,\n",
              " 'sound': 761,\n",
              " 'moved': 762,\n",
              " 'blowing': 763,\n",
              " 'crawling': 764,\n",
              " 'storms': 765,\n",
              " 'sea': 766,\n",
              " 'anything': 767,\n",
              " 'idea': 768,\n",
              " 'state': 769,\n",
              " 'fickle': 770,\n",
              " 'bitterness': 771,\n",
              " 'heaviness': 772,\n",
              " 'real': 773,\n",
              " 'bless': 774,\n",
              " 'clouds': 775,\n",
              " 'core': 776,\n",
              " 'age': 777,\n",
              " \"shouldn't\": 778,\n",
              " 'creep': 779,\n",
              " 'leaving': 780,\n",
              " 'taken': 781,\n",
              " 'imagined': 782,\n",
              " 'choose': 783,\n",
              " 'being': 784,\n",
              " 'wilderness': 785,\n",
              " 'keeper': 786,\n",
              " 'lost': 787,\n",
              " 'fresh': 788,\n",
              " 'city': 789,\n",
              " 'united': 790,\n",
              " 'fighting': 791,\n",
              " 'thumb': 792,\n",
              " 'ghost': 793,\n",
              " 'braver': 794,\n",
              " 'savior': 795,\n",
              " 'guitar': 796,\n",
              " 'none': 797,\n",
              " 'jump': 798,\n",
              " 'everlasting': 799,\n",
              " 'trembling': 800,\n",
              " 'handle': 801,\n",
              " 'hot': 802,\n",
              " 'decide': 803,\n",
              " 'flashing': 804,\n",
              " 'mother': 805,\n",
              " 'party': 806,\n",
              " 'grew': 807,\n",
              " 'ignore': 808,\n",
              " 'step': 809,\n",
              " 'shelter': 810,\n",
              " 'slow': 811,\n",
              " 'accident': 812,\n",
              " 'darkest': 813,\n",
              " 'dropped': 814,\n",
              " 'station': 815,\n",
              " 'skyscrapers': 816,\n",
              " 'neon': 817,\n",
              " 'papers': 818,\n",
              " 'woke': 819,\n",
              " 'heavy': 820,\n",
              " 'hearted': 821,\n",
              " 'started': 822,\n",
              " 'brought': 823,\n",
              " 'lies': 824,\n",
              " 'patronize': 825,\n",
              " 'power': 826,\n",
              " 'cleared': 827,\n",
              " 'future': 828,\n",
              " \"thinkin'\": 829,\n",
              " 'today': 830,\n",
              " 'broken': 831,\n",
              " 'bursting': 832,\n",
              " 'soon': 833,\n",
              " 'daydreamer': 834,\n",
              " 'sitting': 835,\n",
              " \"sittin'\": 836,\n",
              " 'doorstep': 837,\n",
              " 'sees': 838,\n",
              " 'describe': 839,\n",
              " 'looked': 840,\n",
              " \"wasn't\": 841,\n",
              " 'heading': 842,\n",
              " 'eternally': 843,\n",
              " \"'bout\": 844,\n",
              " 'darkness': 845,\n",
              " 'pre': 846,\n",
              " 'platter': 847,\n",
              " 'lied': 848,\n",
              " 'faked': 849,\n",
              " 'oooh': 850,\n",
              " 'crumble': 851,\n",
              " 'lately': 852,\n",
              " 'because': 853,\n",
              " 'lighten': 854,\n",
              " 'reeds': 855,\n",
              " 'fingertips': 856,\n",
              " 'rather': 857,\n",
              " 'hitch': 858,\n",
              " 'hiked': 859,\n",
              " 'birmingham': 860,\n",
              " 'louisiana': 861,\n",
              " 'lying': 862,\n",
              " 'parole': 863,\n",
              " 'lord': 864,\n",
              " 'mercy': 865,\n",
              " 'smiling': 866,\n",
              " 'excitement': 867,\n",
              " 'game': 868,\n",
              " 'chose': 869,\n",
              " 'despite': 870,\n",
              " 'knowing': 871,\n",
              " 'dead': 872,\n",
              " 'adele': 873,\n",
              " \"'cept\": 874,\n",
              " 'softening': 875,\n",
              " 'selfish': 876,\n",
              " 'agree': 877,\n",
              " 'chairs': 878,\n",
              " 'match': 879,\n",
              " 'favoritism': 880,\n",
              " 'situation': 881,\n",
              " 'glad': 882,\n",
              " 'deepest': 883,\n",
              " 'dawning': 884,\n",
              " 'emptiness': 885,\n",
              " 'drown': 886,\n",
              " 'beneath': 887,\n",
              " 'crashing': 888,\n",
              " 'fields': 889,\n",
              " 'dawn': 890,\n",
              " 'forests': 891,\n",
              " 'candles': 892,\n",
              " 'cake': 893,\n",
              " 'silent': 894,\n",
              " 'rest': 895,\n",
              " 'spring': 896,\n",
              " 'temporary': 897,\n",
              " 'fix': 898,\n",
              " 'rooted': 899,\n",
              " 'filler': 900,\n",
              " 'hardest': 901,\n",
              " 'unless': 902,\n",
              " 'opened': 903,\n",
              " 'didn': 904,\n",
              " 'drink': 905,\n",
              " 'wine': 906,\n",
              " 'web': 907,\n",
              " 'path': 908,\n",
              " 'smeared': 909,\n",
              " 'lot': 910,\n",
              " 'kisses': 911,\n",
              " 'else': 912,\n",
              " 'collided': 913,\n",
              " 'alright': 914,\n",
              " 'girlfriends': 915,\n",
              " 'simple': 916,\n",
              " 'scratch': 917,\n",
              " 'itch': 918,\n",
              " 'drum': 919,\n",
              " 'tripped': 920,\n",
              " 'respect': 921,\n",
              " 'control': 922,\n",
              " 'settled': 923,\n",
              " 'married': 924,\n",
              " 'shy': 925,\n",
              " 'flies': 926,\n",
              " 'lives': 927,\n",
              " 'born': 928,\n",
              " 'raised': 929,\n",
              " 'haze': 930,\n",
              " 'bound': 931,\n",
              " 'compares': 932,\n",
              " 'worries': 933,\n",
              " 'cares': 934,\n",
              " 'mistakes': 935,\n",
              " 'bittersweet': 936,\n",
              " 'explicit': 937,\n",
              " 'wondering': 938,\n",
              " 'meet': 939,\n",
              " \"time's\": 940,\n",
              " 'ya': 941,\n",
              " 'healing': 942,\n",
              " 'california': 943,\n",
              " 'dreaming': 944,\n",
              " 'younger': 945,\n",
              " 'forgotten': 946,\n",
              " 'such': 947,\n",
              " 'difference': 948,\n",
              " 'typical': 949,\n",
              " 'secret': 950,\n",
              " 'honesty': 951,\n",
              " 'speak': 952,\n",
              " 'since': 953,\n",
              " 'lesson': 954,\n",
              " 'vicious': 955,\n",
              " 'forgiveness': 956,\n",
              " 'laying': 957,\n",
              " 'dream': 958,\n",
              " 'swore': 959,\n",
              " 'overseas': 960,\n",
              " 'takes': 961,\n",
              " \"hasn't\": 962,\n",
              " 'mad': 963,\n",
              " 'offer': 964,\n",
              " 'warm': 965,\n",
              " 'embrace': 966,\n",
              " 'evening': 967,\n",
              " 'shadows': 968,\n",
              " 'stars': 969,\n",
              " 'appear': 970,\n",
              " 'dry': 971,\n",
              " 'hungry': 972,\n",
              " 'avenue': 973,\n",
              " 'raging': 974,\n",
              " 'highway': 975,\n",
              " 'winds': 976,\n",
              " 'wild': 977,\n",
              " 'further': 978,\n",
              " 'lust': 979,\n",
              " 'circles': 980,\n",
              " 'drops': 981,\n",
              " 'begins': 982,\n",
              " 'tingle': 983,\n",
              " 'seal': 984,\n",
              " 'completely': 985,\n",
              " 'erased': 986,\n",
              " 'often': 987,\n",
              " 'kept': 988,\n",
              " 'distance': 989,\n",
              " 'able': 990,\n",
              " 'stranger': 991,\n",
              " 'history': 992,\n",
              " 'half': 993,\n",
              " 'guessing': 994,\n",
              " 'telling': 995,\n",
              " 'rumors': 996,\n",
              " 'whispered': 997,\n",
              " 'ear': 998,\n",
              " 'cannot': 999,\n",
              " 'fonder': 1000,\n",
              " ...}"
            ]
          },
          "metadata": {
            "tags": []
          },
          "execution_count": 31
        }
      ]
    },
    {
      "cell_type": "code",
      "metadata": {
        "id": "Pg2Bk7KsDpz_"
      },
      "source": [
        "encoded_text = token.texts_to_sequences(data)"
      ],
      "execution_count": 32,
      "outputs": []
    },
    {
      "cell_type": "code",
      "metadata": {
        "id": "Q2cXvCKPDp_2",
        "colab": {
          "base_uri": "https://localhost:8080/"
        },
        "outputId": "b5c55efa-cdc0-4136-a1d4-223e0d32d7b5"
      },
      "source": [
        "encoded_text[0]"
      ],
      "execution_count": 39,
      "outputs": [
        {
          "output_type": "execute_result",
          "data": {
            "text/plain": [
              "[254, 21, 219, 725]"
            ]
          },
          "metadata": {
            "tags": []
          },
          "execution_count": 39
        }
      ]
    },
    {
      "cell_type": "code",
      "metadata": {
        "id": "LtV0YqznDqDG"
      },
      "source": [
        "x = ['i love you']"
      ],
      "execution_count": 35,
      "outputs": []
    },
    {
      "cell_type": "code",
      "metadata": {
        "id": "bM9V37KTDqGX",
        "colab": {
          "base_uri": "https://localhost:8080/"
        },
        "outputId": "bae24b7e-fedf-4933-8e26-5cf8a5b72390"
      },
      "source": [
        "token.texts_to_sequences(x)"
      ],
      "execution_count": 36,
      "outputs": [
        {
          "output_type": "execute_result",
          "data": {
            "text/plain": [
              "[[1, 11, 2]]"
            ]
          },
          "metadata": {
            "tags": []
          },
          "execution_count": 36
        }
      ]
    },
    {
      "cell_type": "code",
      "metadata": {
        "id": "EolnpaX5DqJi",
        "colab": {
          "base_uri": "https://localhost:8080/"
        },
        "outputId": "5c28e171-e07b-403d-8f12-e0f951d1c0fc"
      },
      "source": [
        "vocab_size = len(token.word_counts) + 1\r\n",
        "vocab_size"
      ],
      "execution_count": 38,
      "outputs": [
        {
          "output_type": "execute_result",
          "data": {
            "text/plain": [
              "1396"
            ]
          },
          "metadata": {
            "tags": []
          },
          "execution_count": 38
        }
      ]
    },
    {
      "cell_type": "markdown",
      "metadata": {
        "id": "T069CTTRXt_u"
      },
      "source": [
        "##  Prepare Training Data"
      ]
    },
    {
      "cell_type": "code",
      "metadata": {
        "id": "UYNbBggbDqM4",
        "colab": {
          "base_uri": "https://localhost:8080/"
        },
        "outputId": "7033978b-bdbb-4e27-a737-090039fa90ba"
      },
      "source": [
        "datalist = []\n",
        "for d in encoded_text:\n",
        "  if len(d)>1:\n",
        "    for i in range(2, len(d)):\n",
        "      datalist.append(d[:i])\n",
        "\n",
        "print(datalist[0:20])"
      ],
      "execution_count": 41,
      "outputs": [
        {
          "output_type": "stream",
          "text": [
            "[[254, 21], [254, 21, 219], [117, 8], [117, 8, 80], [117, 8, 80, 153], [117, 8, 80, 153, 3], [14, 10], [14, 10, 726], [41, 56], [41, 56, 2], [41, 56, 2, 603], [41, 56, 2, 603, 3], [41, 56, 2, 603, 3, 728], [41, 56, 2, 603, 3, 728, 1], [41, 56, 2, 603, 3, 728, 1, 68], [41, 56, 2, 603, 3, 728, 1, 68, 517], [41, 56, 2, 603, 3, 728, 1, 68, 517, 2], [41, 56, 2, 603, 3, 728, 1, 68, 517, 2, 40], [41, 56, 2, 603, 3, 728, 1, 68, 517, 2, 40, 3], [41, 56, 2, 603, 3, 728, 1, 68, 517, 2, 40, 3, 518]]\n"
          ],
          "name": "stdout"
        }
      ]
    },
    {
      "cell_type": "markdown",
      "metadata": {
        "id": "qlx1absGZsKO"
      },
      "source": [
        "## Padding"
      ]
    },
    {
      "cell_type": "code",
      "metadata": {
        "id": "teb0Ta9FDqSr",
        "colab": {
          "base_uri": "https://localhost:8080/"
        },
        "outputId": "7b4b18a0-01e4-4ff1-ee6b-ea0b476900a9"
      },
      "source": [
        "max_length = 20\n",
        "sequences = pad_sequences(datalist, maxlen=max_length, padding='pre')\n",
        "sequences"
      ],
      "execution_count": 42,
      "outputs": [
        {
          "output_type": "execute_result",
          "data": {
            "text/plain": [
              "array([[  0,   0,   0, ...,   0, 254,  21],\n",
              "       [  0,   0,   0, ..., 254,  21, 219],\n",
              "       [  0,   0,   0, ...,   0, 117,   8],\n",
              "       ...,\n",
              "       [  0,   0,   0, ...,  17, 198,  17],\n",
              "       [  0,   0,   0, ..., 198,  17, 198],\n",
              "       [  0,   0,   0, ...,  17, 198,   6]], dtype=int32)"
            ]
          },
          "metadata": {
            "tags": []
          },
          "execution_count": 42
        }
      ]
    },
    {
      "cell_type": "code",
      "metadata": {
        "id": "dO65epoKDqVz"
      },
      "source": [
        "X = sequences[:, :-1]"
      ],
      "execution_count": 43,
      "outputs": []
    },
    {
      "cell_type": "code",
      "metadata": {
        "id": "Z3zG_qFuDqYw"
      },
      "source": [
        "y = sequences[:, -1]"
      ],
      "execution_count": 44,
      "outputs": []
    },
    {
      "cell_type": "code",
      "metadata": {
        "colab": {
          "base_uri": "https://localhost:8080/"
        },
        "id": "K-TH01AqNC08",
        "outputId": "b1e5e3fb-915d-4eac-dac0-66c821a5191e"
      },
      "source": [
        "y"
      ],
      "execution_count": 45,
      "outputs": [
        {
          "output_type": "execute_result",
          "data": {
            "text/plain": [
              "array([ 21, 219,   8, ...,  17, 198,   6], dtype=int32)"
            ]
          },
          "metadata": {
            "tags": []
          },
          "execution_count": 45
        }
      ]
    },
    {
      "cell_type": "code",
      "metadata": {
        "id": "FhEeYxBGDqbz"
      },
      "source": [
        "y = to_categorical(y, num_classes=vocab_size)"
      ],
      "execution_count": 46,
      "outputs": []
    },
    {
      "cell_type": "code",
      "metadata": {
        "id": "XU7VYTFtDqe8",
        "colab": {
          "base_uri": "https://localhost:8080/"
        },
        "outputId": "a2881737-24d3-4c33-97e9-3d3342a7f553"
      },
      "source": [
        "y"
      ],
      "execution_count": 47,
      "outputs": [
        {
          "output_type": "execute_result",
          "data": {
            "text/plain": [
              "array([[0., 0., 0., ..., 0., 0., 0.],\n",
              "       [0., 0., 0., ..., 0., 0., 0.],\n",
              "       [0., 0., 0., ..., 0., 0., 0.],\n",
              "       ...,\n",
              "       [0., 0., 0., ..., 0., 0., 0.],\n",
              "       [0., 0., 0., ..., 0., 0., 0.],\n",
              "       [0., 0., 0., ..., 0., 0., 0.]], dtype=float32)"
            ]
          },
          "metadata": {
            "tags": []
          },
          "execution_count": 47
        }
      ]
    },
    {
      "cell_type": "code",
      "metadata": {
        "colab": {
          "base_uri": "https://localhost:8080/"
        },
        "id": "PbbhjzNkNQPP",
        "outputId": "d28ce24f-ae7c-4086-a345-43bfe29332d3"
      },
      "source": [
        "X.shape"
      ],
      "execution_count": 49,
      "outputs": [
        {
          "output_type": "execute_result",
          "data": {
            "text/plain": [
              "(14231, 19)"
            ]
          },
          "metadata": {
            "tags": []
          },
          "execution_count": 49
        }
      ]
    },
    {
      "cell_type": "code",
      "metadata": {
        "id": "_xEl7iJ1DqiX"
      },
      "source": [
        "seq_length = X.shape[1]"
      ],
      "execution_count": 50,
      "outputs": []
    },
    {
      "cell_type": "code",
      "metadata": {
        "id": "ArQDWoevDqll",
        "colab": {
          "base_uri": "https://localhost:8080/"
        },
        "outputId": "974b1844-5b1b-4a0a-ff8b-7343d7c12b4a"
      },
      "source": [
        "seq_length"
      ],
      "execution_count": 51,
      "outputs": [
        {
          "output_type": "execute_result",
          "data": {
            "text/plain": [
              "19"
            ]
          },
          "metadata": {
            "tags": []
          },
          "execution_count": 51
        }
      ]
    },
    {
      "cell_type": "markdown",
      "metadata": {
        "id": "ZfHcmYz7bkG8"
      },
      "source": [
        "## LSTM Model Training"
      ]
    },
    {
      "cell_type": "code",
      "metadata": {
        "id": "I0J_Jd4vDqo4"
      },
      "source": [
        "model = Sequential()\n",
        "model.add(Embedding(vocab_size, 50, input_length=seq_length))\n",
        "model.add(LSTM(100, return_sequences=True))\n",
        "model.add(LSTM(100))\n",
        "model.add(Dense(100, activation='relu'))\n",
        "model.add(Dense(vocab_size, activation='softmax'))"
      ],
      "execution_count": 52,
      "outputs": []
    },
    {
      "cell_type": "code",
      "metadata": {
        "id": "kcquEV9fDqsQ",
        "colab": {
          "base_uri": "https://localhost:8080/"
        },
        "outputId": "f34a3f28-8310-4ab4-d3ba-531beb3c897d"
      },
      "source": [
        "model.summary()"
      ],
      "execution_count": 54,
      "outputs": [
        {
          "output_type": "stream",
          "text": [
            "Model: \"sequential\"\n",
            "_________________________________________________________________\n",
            "Layer (type)                 Output Shape              Param #   \n",
            "=================================================================\n",
            "embedding (Embedding)        (None, 19, 50)            69800     \n",
            "_________________________________________________________________\n",
            "lstm (LSTM)                  (None, 19, 100)           60400     \n",
            "_________________________________________________________________\n",
            "lstm_1 (LSTM)                (None, 100)               80400     \n",
            "_________________________________________________________________\n",
            "dense (Dense)                (None, 100)               10100     \n",
            "_________________________________________________________________\n",
            "dense_1 (Dense)              (None, 1396)              140996    \n",
            "=================================================================\n",
            "Total params: 361,696\n",
            "Trainable params: 361,696\n",
            "Non-trainable params: 0\n",
            "_________________________________________________________________\n"
          ],
          "name": "stdout"
        }
      ]
    },
    {
      "cell_type": "code",
      "metadata": {
        "id": "2LlpdcbZDqvg"
      },
      "source": [
        "model.compile(loss='categorical_crossentropy', optimizer='adam', metrics=['accuracy'])"
      ],
      "execution_count": 55,
      "outputs": []
    },
    {
      "cell_type": "code",
      "metadata": {
        "id": "MTvd-a_-Dq1N",
        "colab": {
          "base_uri": "https://localhost:8080/"
        },
        "outputId": "7cb4686a-5abe-4f8a-edf5-cc4f9773dd3c"
      },
      "source": [
        "model.fit(X, y, batch_size=32, epochs=100)"
      ],
      "execution_count": 56,
      "outputs": [
        {
          "output_type": "stream",
          "text": [
            "Epoch 1/100\n",
            "445/445 [==============================] - 13s 8ms/step - loss: 6.0361 - accuracy: 0.0378\n",
            "Epoch 2/100\n",
            "445/445 [==============================] - 4s 8ms/step - loss: 5.3161 - accuracy: 0.0488\n",
            "Epoch 3/100\n",
            "445/445 [==============================] - 4s 8ms/step - loss: 5.1409 - accuracy: 0.0555\n",
            "Epoch 4/100\n",
            "445/445 [==============================] - 4s 8ms/step - loss: 4.9328 - accuracy: 0.0637\n",
            "Epoch 5/100\n",
            "445/445 [==============================] - 4s 8ms/step - loss: 4.8220 - accuracy: 0.0771\n",
            "Epoch 6/100\n",
            "445/445 [==============================] - 4s 8ms/step - loss: 4.6413 - accuracy: 0.0917\n",
            "Epoch 7/100\n",
            "445/445 [==============================] - 4s 8ms/step - loss: 4.5330 - accuracy: 0.0985\n",
            "Epoch 8/100\n",
            "445/445 [==============================] - 4s 8ms/step - loss: 4.4160 - accuracy: 0.1091\n",
            "Epoch 9/100\n",
            "445/445 [==============================] - 4s 8ms/step - loss: 4.2846 - accuracy: 0.1191\n",
            "Epoch 10/100\n",
            "445/445 [==============================] - 4s 8ms/step - loss: 4.1885 - accuracy: 0.1298\n",
            "Epoch 11/100\n",
            "445/445 [==============================] - 4s 8ms/step - loss: 4.0556 - accuracy: 0.1468\n",
            "Epoch 12/100\n",
            "445/445 [==============================] - 4s 8ms/step - loss: 3.9765 - accuracy: 0.1585\n",
            "Epoch 13/100\n",
            "445/445 [==============================] - 4s 8ms/step - loss: 3.8673 - accuracy: 0.1751\n",
            "Epoch 14/100\n",
            "445/445 [==============================] - 4s 8ms/step - loss: 3.7550 - accuracy: 0.1853\n",
            "Epoch 15/100\n",
            "445/445 [==============================] - 4s 8ms/step - loss: 3.6263 - accuracy: 0.2090\n",
            "Epoch 16/100\n",
            "445/445 [==============================] - 4s 8ms/step - loss: 3.5990 - accuracy: 0.2109\n",
            "Epoch 17/100\n",
            "445/445 [==============================] - 4s 8ms/step - loss: 3.4839 - accuracy: 0.2253\n",
            "Epoch 18/100\n",
            "445/445 [==============================] - 4s 8ms/step - loss: 3.4295 - accuracy: 0.2345\n",
            "Epoch 19/100\n",
            "445/445 [==============================] - 4s 8ms/step - loss: 3.3533 - accuracy: 0.2491\n",
            "Epoch 20/100\n",
            "445/445 [==============================] - 4s 8ms/step - loss: 3.2417 - accuracy: 0.2699\n",
            "Epoch 21/100\n",
            "445/445 [==============================] - 4s 8ms/step - loss: 3.1788 - accuracy: 0.2800\n",
            "Epoch 22/100\n",
            "445/445 [==============================] - 4s 8ms/step - loss: 3.0814 - accuracy: 0.2944\n",
            "Epoch 23/100\n",
            "445/445 [==============================] - 4s 8ms/step - loss: 3.0031 - accuracy: 0.3107\n",
            "Epoch 24/100\n",
            "445/445 [==============================] - 4s 8ms/step - loss: 2.9036 - accuracy: 0.3299\n",
            "Epoch 25/100\n",
            "445/445 [==============================] - 4s 8ms/step - loss: 2.8729 - accuracy: 0.3334\n",
            "Epoch 26/100\n",
            "445/445 [==============================] - 4s 8ms/step - loss: 2.7721 - accuracy: 0.3581\n",
            "Epoch 27/100\n",
            "445/445 [==============================] - 4s 8ms/step - loss: 2.7222 - accuracy: 0.3703\n",
            "Epoch 28/100\n",
            "445/445 [==============================] - 4s 8ms/step - loss: 2.6483 - accuracy: 0.3772\n",
            "Epoch 29/100\n",
            "445/445 [==============================] - 4s 9ms/step - loss: 2.5578 - accuracy: 0.3965\n",
            "Epoch 30/100\n",
            "445/445 [==============================] - 4s 8ms/step - loss: 2.5391 - accuracy: 0.4015\n",
            "Epoch 31/100\n",
            "445/445 [==============================] - 4s 8ms/step - loss: 2.4618 - accuracy: 0.4209\n",
            "Epoch 32/100\n",
            "445/445 [==============================] - 4s 8ms/step - loss: 2.4428 - accuracy: 0.4249\n",
            "Epoch 33/100\n",
            "445/445 [==============================] - 4s 8ms/step - loss: 2.3730 - accuracy: 0.4352\n",
            "Epoch 34/100\n",
            "445/445 [==============================] - 4s 9ms/step - loss: 2.3190 - accuracy: 0.4491\n",
            "Epoch 35/100\n",
            "445/445 [==============================] - 4s 9ms/step - loss: 2.2989 - accuracy: 0.4503\n",
            "Epoch 36/100\n",
            "445/445 [==============================] - 4s 9ms/step - loss: 2.2056 - accuracy: 0.4736\n",
            "Epoch 37/100\n",
            "445/445 [==============================] - 4s 8ms/step - loss: 2.1847 - accuracy: 0.4803\n",
            "Epoch 38/100\n",
            "445/445 [==============================] - 4s 8ms/step - loss: 2.1335 - accuracy: 0.4895\n",
            "Epoch 39/100\n",
            "445/445 [==============================] - 4s 8ms/step - loss: 2.0803 - accuracy: 0.5053\n",
            "Epoch 40/100\n",
            "445/445 [==============================] - 4s 8ms/step - loss: 2.0556 - accuracy: 0.5023\n",
            "Epoch 41/100\n",
            "445/445 [==============================] - 4s 8ms/step - loss: 2.0528 - accuracy: 0.5002\n",
            "Epoch 42/100\n",
            "445/445 [==============================] - 4s 8ms/step - loss: 1.9872 - accuracy: 0.5236\n",
            "Epoch 43/100\n",
            "445/445 [==============================] - 4s 8ms/step - loss: 1.9481 - accuracy: 0.5311\n",
            "Epoch 44/100\n",
            "445/445 [==============================] - 4s 8ms/step - loss: 1.9031 - accuracy: 0.5340\n",
            "Epoch 45/100\n",
            "445/445 [==============================] - 4s 8ms/step - loss: 1.8807 - accuracy: 0.5393\n",
            "Epoch 46/100\n",
            "445/445 [==============================] - 4s 8ms/step - loss: 1.8371 - accuracy: 0.5571\n",
            "Epoch 47/100\n",
            "445/445 [==============================] - 4s 8ms/step - loss: 1.8040 - accuracy: 0.5602\n",
            "Epoch 48/100\n",
            "445/445 [==============================] - 4s 8ms/step - loss: 1.7743 - accuracy: 0.5718\n",
            "Epoch 49/100\n",
            "445/445 [==============================] - 4s 8ms/step - loss: 1.7508 - accuracy: 0.5758\n",
            "Epoch 50/100\n",
            "445/445 [==============================] - 4s 8ms/step - loss: 1.9067 - accuracy: 0.5562\n",
            "Epoch 51/100\n",
            "445/445 [==============================] - 4s 8ms/step - loss: 1.6693 - accuracy: 0.5852\n",
            "Epoch 52/100\n",
            "445/445 [==============================] - 4s 8ms/step - loss: 1.6484 - accuracy: 0.5976\n",
            "Epoch 53/100\n",
            "445/445 [==============================] - 4s 8ms/step - loss: 1.6095 - accuracy: 0.6030\n",
            "Epoch 54/100\n",
            "445/445 [==============================] - 4s 8ms/step - loss: 1.5852 - accuracy: 0.6071\n",
            "Epoch 55/100\n",
            "445/445 [==============================] - 4s 8ms/step - loss: 1.5779 - accuracy: 0.6115\n",
            "Epoch 56/100\n",
            "445/445 [==============================] - 4s 8ms/step - loss: 1.5331 - accuracy: 0.6199\n",
            "Epoch 57/100\n",
            "445/445 [==============================] - 4s 8ms/step - loss: 1.5262 - accuracy: 0.6223\n",
            "Epoch 58/100\n",
            "445/445 [==============================] - 4s 8ms/step - loss: 1.4727 - accuracy: 0.6287\n",
            "Epoch 59/100\n",
            "445/445 [==============================] - 4s 8ms/step - loss: 1.4587 - accuracy: 0.6377\n",
            "Epoch 60/100\n",
            "445/445 [==============================] - 4s 8ms/step - loss: 1.4384 - accuracy: 0.6385\n",
            "Epoch 61/100\n",
            "445/445 [==============================] - 4s 8ms/step - loss: 1.3924 - accuracy: 0.6494\n",
            "Epoch 62/100\n",
            "445/445 [==============================] - 4s 8ms/step - loss: 1.3635 - accuracy: 0.6550\n",
            "Epoch 63/100\n",
            "445/445 [==============================] - 4s 8ms/step - loss: 1.3525 - accuracy: 0.6596\n",
            "Epoch 64/100\n",
            "445/445 [==============================] - 4s 8ms/step - loss: 1.3270 - accuracy: 0.6685\n",
            "Epoch 65/100\n",
            "445/445 [==============================] - 4s 8ms/step - loss: 1.3226 - accuracy: 0.6641\n",
            "Epoch 66/100\n",
            "445/445 [==============================] - 4s 8ms/step - loss: 1.3200 - accuracy: 0.6661\n",
            "Epoch 67/100\n",
            "445/445 [==============================] - 4s 8ms/step - loss: 1.2621 - accuracy: 0.6807\n",
            "Epoch 68/100\n",
            "445/445 [==============================] - 4s 8ms/step - loss: 1.2226 - accuracy: 0.6869\n",
            "Epoch 69/100\n",
            "445/445 [==============================] - 4s 8ms/step - loss: 1.2269 - accuracy: 0.6863\n",
            "Epoch 70/100\n",
            "445/445 [==============================] - 4s 8ms/step - loss: 1.2114 - accuracy: 0.6935\n",
            "Epoch 71/100\n",
            "445/445 [==============================] - 4s 8ms/step - loss: 1.1898 - accuracy: 0.7017\n",
            "Epoch 72/100\n",
            "445/445 [==============================] - 4s 8ms/step - loss: 1.1864 - accuracy: 0.6984\n",
            "Epoch 73/100\n",
            "445/445 [==============================] - 4s 8ms/step - loss: 1.1841 - accuracy: 0.6955\n",
            "Epoch 74/100\n",
            "445/445 [==============================] - 4s 8ms/step - loss: 1.1287 - accuracy: 0.7154\n",
            "Epoch 75/100\n",
            "445/445 [==============================] - 4s 8ms/step - loss: 1.1231 - accuracy: 0.7128\n",
            "Epoch 76/100\n",
            "445/445 [==============================] - 4s 8ms/step - loss: 1.0841 - accuracy: 0.7153\n",
            "Epoch 77/100\n",
            "445/445 [==============================] - 4s 8ms/step - loss: 1.0861 - accuracy: 0.7234\n",
            "Epoch 78/100\n",
            "445/445 [==============================] - 4s 8ms/step - loss: 1.0789 - accuracy: 0.7244\n",
            "Epoch 79/100\n",
            "445/445 [==============================] - 4s 8ms/step - loss: 1.0580 - accuracy: 0.7299\n",
            "Epoch 80/100\n",
            "445/445 [==============================] - 4s 8ms/step - loss: 1.0316 - accuracy: 0.7357\n",
            "Epoch 81/100\n",
            "445/445 [==============================] - 4s 8ms/step - loss: 1.0145 - accuracy: 0.7365\n",
            "Epoch 82/100\n",
            "445/445 [==============================] - 4s 8ms/step - loss: 1.0110 - accuracy: 0.7284\n",
            "Epoch 83/100\n",
            "445/445 [==============================] - 4s 8ms/step - loss: 0.9870 - accuracy: 0.7481\n",
            "Epoch 84/100\n",
            "445/445 [==============================] - 4s 8ms/step - loss: 0.9834 - accuracy: 0.7467\n",
            "Epoch 85/100\n",
            "445/445 [==============================] - 4s 8ms/step - loss: 0.9610 - accuracy: 0.7500\n",
            "Epoch 86/100\n",
            "445/445 [==============================] - 4s 8ms/step - loss: 0.9427 - accuracy: 0.7532\n",
            "Epoch 87/100\n",
            "445/445 [==============================] - 4s 8ms/step - loss: 0.9448 - accuracy: 0.7539\n",
            "Epoch 88/100\n",
            "445/445 [==============================] - 4s 8ms/step - loss: 0.9224 - accuracy: 0.7576\n",
            "Epoch 89/100\n",
            "445/445 [==============================] - 4s 9ms/step - loss: 0.9010 - accuracy: 0.7620\n",
            "Epoch 90/100\n",
            "445/445 [==============================] - 4s 8ms/step - loss: 0.9201 - accuracy: 0.7593\n",
            "Epoch 91/100\n",
            "445/445 [==============================] - 4s 8ms/step - loss: 0.9056 - accuracy: 0.7611\n",
            "Epoch 92/100\n",
            "445/445 [==============================] - 4s 8ms/step - loss: 0.8740 - accuracy: 0.7713\n",
            "Epoch 93/100\n",
            "445/445 [==============================] - 4s 8ms/step - loss: 0.8615 - accuracy: 0.7725\n",
            "Epoch 94/100\n",
            "445/445 [==============================] - 4s 8ms/step - loss: 0.8375 - accuracy: 0.7760\n",
            "Epoch 95/100\n",
            "445/445 [==============================] - 4s 8ms/step - loss: 0.8417 - accuracy: 0.7748\n",
            "Epoch 96/100\n",
            "445/445 [==============================] - 4s 8ms/step - loss: 0.8347 - accuracy: 0.7818\n",
            "Epoch 97/100\n",
            "445/445 [==============================] - 4s 8ms/step - loss: 0.8365 - accuracy: 0.7785\n",
            "Epoch 98/100\n",
            "445/445 [==============================] - 4s 8ms/step - loss: 0.8038 - accuracy: 0.7827\n",
            "Epoch 99/100\n",
            "445/445 [==============================] - 4s 8ms/step - loss: 0.8264 - accuracy: 0.7778\n",
            "Epoch 100/100\n",
            "445/445 [==============================] - 4s 8ms/step - loss: 0.7930 - accuracy: 0.7879\n"
          ],
          "name": "stdout"
        },
        {
          "output_type": "execute_result",
          "data": {
            "text/plain": [
              "<tensorflow.python.keras.callbacks.History at 0x7f1eedf43d68>"
            ]
          },
          "metadata": {
            "tags": []
          },
          "execution_count": 56
        }
      ]
    },
    {
      "cell_type": "markdown",
      "metadata": {
        "id": "nrOCcKYFeDPz"
      },
      "source": [
        "## Poetry Generation"
      ]
    },
    {
      "cell_type": "code",
      "metadata": {
        "id": "WbDSHwaLDq5D"
      },
      "source": [
        "poetry_length = 10\n",
        "\n",
        "def generate_poetry(seed_text, n_lines):\n",
        "\n",
        "  for i in range(n_lines):\n",
        "    text = []\n",
        "    for _ in range(poetry_length):\n",
        "      encoded = token.texts_to_sequences([seed_text])\n",
        "      encoded = pad_sequences(encoded, maxlen=seq_length, padding='pre')\n",
        "\n",
        "\n",
        "      y_pred = np.argmax(model.predict(encoded), axis=-1)\n",
        "\n",
        "      predicted_word = \"\"\n",
        "      for word, index in token.word_index.items():\n",
        "        if index == y_pred:\n",
        "          predicted_word = word\n",
        "          break\n",
        "\n",
        "      seed_text = seed_text + ' ' + predicted_word\n",
        "      text.append(predicted_word)\n",
        "\n",
        "    seed_text = text[-1]\n",
        "    text = ' '.join(text)\n",
        "    print(text)\n",
        "\n",
        "\n"
      ],
      "execution_count": 65,
      "outputs": []
    },
    {
      "cell_type": "code",
      "metadata": {
        "id": "yv7kOw43Dq-f",
        "colab": {
          "base_uri": "https://localhost:8080/"
        },
        "outputId": "3b0bba9d-75d7-4346-e226-cc657df61d53"
      },
      "source": [
        "seed_text = 'when did you '\n",
        "generate_poetry(seed_text, 5)"
      ],
      "execution_count": 66,
      "outputs": [
        {
          "output_type": "stream",
          "text": [
            "find the note that i will be hard until the\n",
            "sweetest devotion i've known i've been looking for you i\n",
            "can't give you what you think you gave you in\n",
            "the single things and burst me into my heart burst\n",
            "a part of little coming yeah yeah yeah yeah yeah\n"
          ],
          "name": "stdout"
        }
      ]
    },
    {
      "cell_type": "code",
      "metadata": {
        "id": "KbVxxYM_DrHb"
      },
      "source": [
        ""
      ],
      "execution_count": null,
      "outputs": []
    }
  ]
}